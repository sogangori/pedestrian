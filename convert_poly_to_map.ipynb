{
 "cells": [
  {
   "cell_type": "markdown",
   "metadata": {},
   "source": [
    "Converting annotations to object segmentation mask images"
   ]
  },
  {
   "cell_type": "markdown",
   "metadata": {},
   "source": [
    "- https://towardsdatascience.com/generating-image-segmentation-masks-the-easy-way-dd4d3656dbd1\n",
    "- https://copycoding.tistory.com/150"
   ]
  },
  {
   "cell_type": "code",
   "execution_count": 60,
   "metadata": {},
   "outputs": [],
   "source": [
    "import os\n",
    "import pandas as pd\n",
    "import cv2\n",
    "import json\n",
    "import numpy as np \n",
    "import matplotlib.pyplot as plt\n",
    "import ast"
   ]
  },
  {
   "cell_type": "code",
   "execution_count": 47,
   "metadata": {},
   "outputs": [
    {
     "data": {
      "text/plain": [
       "True"
      ]
     },
     "execution_count": 47,
     "metadata": {},
     "output_type": "execute_result"
    }
   ],
   "source": [
    "path_tetrapod = '/media/mvlab/46FA9CA2FA9C8FB3/dataset/pedestrian/Tongyoung/segment/'\n",
    "os.path.isdir(path_tetrapod)"
   ]
  },
  {
   "cell_type": "code",
   "execution_count": 48,
   "metadata": {},
   "outputs": [
    {
     "data": {
      "text/plain": [
       "(True, True)"
      ]
     },
     "execution_count": 48,
     "metadata": {},
     "output_type": "execute_result"
    }
   ],
   "source": [
    "path_label = path_tetrapod + 'label/tetrapod_csv.csv'\n",
    "path_json = path_tetrapod + 'label/tetrapod.json'\n",
    "\n",
    "os.path.isfile(path_label), os.path.isfile(path_json)"
   ]
  },
  {
   "cell_type": "code",
   "execution_count": 51,
   "metadata": {},
   "outputs": [
    {
     "data": {
      "text/plain": [
       "(4, 7)"
      ]
     },
     "execution_count": 51,
     "metadata": {},
     "output_type": "execute_result"
    }
   ],
   "source": [
    "df = pd.read_csv(path_label)\n",
    "df.shape"
   ]
  },
  {
   "cell_type": "code",
   "execution_count": 52,
   "metadata": {},
   "outputs": [
    {
     "data": {
      "text/html": [
       "<div>\n",
       "<style scoped>\n",
       "    .dataframe tbody tr th:only-of-type {\n",
       "        vertical-align: middle;\n",
       "    }\n",
       "\n",
       "    .dataframe tbody tr th {\n",
       "        vertical-align: top;\n",
       "    }\n",
       "\n",
       "    .dataframe thead th {\n",
       "        text-align: right;\n",
       "    }\n",
       "</style>\n",
       "<table border=\"1\" class=\"dataframe\">\n",
       "  <thead>\n",
       "    <tr style=\"text-align: right;\">\n",
       "      <th></th>\n",
       "      <th>filename</th>\n",
       "      <th>file_size</th>\n",
       "      <th>file_attributes</th>\n",
       "      <th>region_count</th>\n",
       "      <th>region_id</th>\n",
       "      <th>region_shape_attributes</th>\n",
       "      <th>region_attributes</th>\n",
       "    </tr>\n",
       "  </thead>\n",
       "  <tbody>\n",
       "    <tr>\n",
       "      <th>0</th>\n",
       "      <td>499.png</td>\n",
       "      <td>3157989</td>\n",
       "      <td>{}</td>\n",
       "      <td>4</td>\n",
       "      <td>0</td>\n",
       "      <td>{\"name\":\"polyline\",\"all_points_x\":[1911,642,86...</td>\n",
       "      <td>{\"class\":\"water\"}</td>\n",
       "    </tr>\n",
       "    <tr>\n",
       "      <th>1</th>\n",
       "      <td>499.png</td>\n",
       "      <td>3157989</td>\n",
       "      <td>{}</td>\n",
       "      <td>4</td>\n",
       "      <td>1</td>\n",
       "      <td>{\"name\":\"polyline\",\"all_points_x\":[470,260,84,...</td>\n",
       "      <td>{\"class\":\"water\"}</td>\n",
       "    </tr>\n",
       "    <tr>\n",
       "      <th>2</th>\n",
       "      <td>499.png</td>\n",
       "      <td>3157989</td>\n",
       "      <td>{}</td>\n",
       "      <td>4</td>\n",
       "      <td>2</td>\n",
       "      <td>{\"name\":\"polyline\",\"all_points_x\":[645,855,113...</td>\n",
       "      <td>{\"class\":\"tetrapod\"}</td>\n",
       "    </tr>\n",
       "    <tr>\n",
       "      <th>3</th>\n",
       "      <td>499.png</td>\n",
       "      <td>3157989</td>\n",
       "      <td>{}</td>\n",
       "      <td>4</td>\n",
       "      <td>3</td>\n",
       "      <td>{\"name\":\"polyline\",\"all_points_x\":[486,627,7,5...</td>\n",
       "      <td>{\"class\":\"land\"}</td>\n",
       "    </tr>\n",
       "  </tbody>\n",
       "</table>\n",
       "</div>"
      ],
      "text/plain": [
       "  filename  file_size file_attributes  region_count  region_id  \\\n",
       "0  499.png    3157989              {}             4          0   \n",
       "1  499.png    3157989              {}             4          1   \n",
       "2  499.png    3157989              {}             4          2   \n",
       "3  499.png    3157989              {}             4          3   \n",
       "\n",
       "                             region_shape_attributes     region_attributes  \n",
       "0  {\"name\":\"polyline\",\"all_points_x\":[1911,642,86...     {\"class\":\"water\"}  \n",
       "1  {\"name\":\"polyline\",\"all_points_x\":[470,260,84,...     {\"class\":\"water\"}  \n",
       "2  {\"name\":\"polyline\",\"all_points_x\":[645,855,113...  {\"class\":\"tetrapod\"}  \n",
       "3  {\"name\":\"polyline\",\"all_points_x\":[486,627,7,5...      {\"class\":\"land\"}  "
      ]
     },
     "execution_count": 52,
     "metadata": {},
     "output_type": "execute_result"
    }
   ],
   "source": [
    "df"
   ]
  },
  {
   "cell_type": "code",
   "execution_count": 86,
   "metadata": {
    "scrolled": true
   },
   "outputs": [
    {
     "name": "stdout",
     "output_type": "stream",
     "text": [
      "0 499.png water (11, 2)\n",
      "1 499.png water (10, 2)\n",
      "2 499.png tetrapod (11, 2)\n",
      "3 499.png land (6, 2)\n"
     ]
    },
    {
     "data": {
      "text/plain": [
       "(1, dict_keys(['499.png']))"
      ]
     },
     "execution_count": 86,
     "metadata": {},
     "output_type": "execute_result"
    }
   ],
   "source": [
    "annotation = dict()\n",
    "\n",
    "for i in range(len(df)):\n",
    "    row = df.iloc[i]\n",
    "    \n",
    "    filename = row.filename\n",
    "    region_shape_attributes = row.region_shape_attributes\n",
    "    region_attributes = row.region_attributes\n",
    "    points = ast.literal_eval(region_shape_attributes)\n",
    "    cls = ast.literal_eval(region_attributes)\n",
    "    #print(i, type(region_shape_attributes), type(points), points.keys())\n",
    "    all_points_x = points['all_points_x']\n",
    "    all_points_y = points['all_points_y']\n",
    "    cls = cls['class']\n",
    "    \n",
    "    all_points_xy = np.stack((all_points_x, all_points_y), 1)\n",
    "    \n",
    "    print(i, filename, cls, all_points_xy.shape)\n",
    "    if filename not in annotation.keys():        \n",
    "        annotation[filename] = []\n",
    "        \n",
    "    annotation[filename].append([all_points_xy, cls])\n",
    "    \n",
    "len(annotation), annotation.keys()"
   ]
  },
  {
   "cell_type": "code",
   "execution_count": 109,
   "metadata": {},
   "outputs": [
    {
     "data": {
      "text/plain": [
       "1"
      ]
     },
     "execution_count": 109,
     "metadata": {},
     "output_type": "execute_result"
    }
   ],
   "source": [
    "len(annotation.keys())"
   ]
  },
  {
   "cell_type": "code",
   "execution_count": 118,
   "metadata": {},
   "outputs": [],
   "source": [
    "mask = np.zeros((1000, 2000))"
   ]
  },
  {
   "cell_type": "code",
   "execution_count": 122,
   "metadata": {},
   "outputs": [
    {
     "name": "stdout",
     "output_type": "stream",
     "text": [
      "499.png <class 'list'> 4\n",
      "<class 'list'> 2 points (11, 2) water\n",
      "<class 'list'> 2 points (10, 2) water\n",
      "<class 'list'> 2 points (11, 2) tetrapod\n",
      "<class 'list'> 2 points (6, 2) land\n"
     ]
    }
   ],
   "source": [
    "for key in annotation.keys():\n",
    "    values = annotation[key]\n",
    "    print(key, type(values), len(values))\n",
    "    for value in values:\n",
    "        points = value[0]\n",
    "        cls = value[1]\n",
    "        print(type(value), len(value), 'points', points.shape, cls)\n",
    "        \n",
    "        #points = np.array([sample_points]).reshape([-1, 2]).astype(np.int32)\n",
    "        cv2.fillPoly(mask, [points], color=(np.random.randint(0, 255)))        \n",
    "        "
   ]
  },
  {
   "cell_type": "code",
   "execution_count": 105,
   "metadata": {},
   "outputs": [
    {
     "data": {
      "text/plain": [
       "array([[0., 0., 0., ..., 0., 0., 0.],\n",
       "       [0., 0., 0., ..., 0., 0., 0.],\n",
       "       [0., 0., 0., ..., 0., 0., 0.],\n",
       "       ...,\n",
       "       [0., 0., 0., ..., 0., 0., 0.],\n",
       "       [0., 0., 0., ..., 0., 0., 0.],\n",
       "       [0., 0., 0., ..., 0., 0., 0.]])"
      ]
     },
     "execution_count": 105,
     "metadata": {},
     "output_type": "execute_result"
    }
   ],
   "source": [
    "\n",
    "points = np.array([sample_points]).reshape([-1, 2]).astype(np.int32)\n",
    "cv2.fillPoly(mask, [points], color=(255))"
   ]
  },
  {
   "cell_type": "code",
   "execution_count": 123,
   "metadata": {},
   "outputs": [
    {
     "data": {
      "text/plain": [
       "<matplotlib.image.AxesImage at 0x7f03e2e454c0>"
      ]
     },
     "execution_count": 123,
     "metadata": {},
     "output_type": "execute_result"
    },
    {
     "data": {
      "image/png": "[encoded data removed]",
      "text/plain": [
       "<Figure size 432x288 with 1 Axes>"
      ]
     },
     "metadata": {
      "needs_background": "light"
     },
     "output_type": "display_data"
    }
   ],
   "source": [
    "plt.imshow(mask)"
   ]
  },
  {
   "cell_type": "code",
   "execution_count": null,
   "metadata": {},
   "outputs": [],
   "source": []
  }
 ],
 "metadata": {
  "kernelspec": {
   "display_name": "Python 3",
   "language": "python",
   "name": "python3"
  },
  "language_info": {
   "codemirror_mode": {
    "name": "ipython",
    "version": 3
   },
   "file_extension": ".py",
   "mimetype": "text/x-python",
   "name": "python",
   "nbconvert_exporter": "python",
   "pygments_lexer": "ipython3",
   "version": "3.8.5"
  }
 },
 "nbformat": 4,
 "nbformat_minor": 4
}
