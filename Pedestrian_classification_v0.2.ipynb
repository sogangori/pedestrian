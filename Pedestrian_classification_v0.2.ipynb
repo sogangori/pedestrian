{
 "cells": [
  {
   "cell_type": "code",
   "execution_count": 1,
   "metadata": {},
   "outputs": [],
   "source": [
    "import os\n",
    "import re\n",
    "import zipfile\n",
    "\n",
    "import numpy as np\n",
    "import matplotlib.pyplot as plt\n",
    "import pandas as pd\n",
    "\n",
    "from PIL import Image\n",
    "import ast\n",
    "import json\n",
    "from glob import glob\n",
    "import cv2\n",
    "import time"
   ]
  },
  {
   "cell_type": "markdown",
   "metadata": {},
   "source": [
    "- video 75\n",
    "- annotation csv 75"
   ]
  },
  {
   "cell_type": "code",
   "execution_count": 3,
   "metadata": {},
   "outputs": [],
   "source": [
    "#forder_pedestrian = '/media/mvlab/46FA9CA2FA9C8FB3/dataset/tracking/P-DESTRE/'\n",
    "forder_pedestrian = '/home/mvlab/Downloads/dataset/P-DESTRE/'\n",
    "forder_pedestrian_annotation = forder_pedestrian + 'annotation/'\n",
    "forder_pedestrian_video = forder_pedestrian + 'videos/'\n",
    "forder_pedestrian_images = forder_pedestrian + 'images/'\n",
    "img_w = 128\n",
    "img_h = 256\n",
    "class_k = 261\n",
    "path_weight = 'cnn_0.ckpt'"
   ]
  },
  {
   "cell_type": "code",
   "execution_count": 4,
   "metadata": {},
   "outputs": [
    {
     "data": {
      "text/plain": [
       "(True, True, True)"
      ]
     },
     "execution_count": 4,
     "metadata": {},
     "output_type": "execute_result"
    }
   ],
   "source": [
    "os.path.isdir(forder_pedestrian),os.path.isdir(forder_pedestrian_annotation),os.path.isdir(forder_pedestrian_video)"
   ]
  },
  {
   "cell_type": "code",
   "execution_count": 5,
   "metadata": {},
   "outputs": [],
   "source": [
    "list_annotation_path = glob(forder_pedestrian_annotation + '*.txt')\n",
    "list_video_path = glob(forder_pedestrian_video + '*.MP4')"
   ]
  },
  {
   "cell_type": "code",
   "execution_count": 6,
   "metadata": {},
   "outputs": [],
   "source": [
    "list_annotation_path.sort()\n",
    "list_video_path.sort()"
   ]
  },
  {
   "cell_type": "code",
   "execution_count": 7,
   "metadata": {},
   "outputs": [
    {
     "data": {
      "text/plain": [
       "(75, 75)"
      ]
     },
     "execution_count": 7,
     "metadata": {},
     "output_type": "execute_result"
    }
   ],
   "source": [
    "len(list_annotation_path), len(list_video_path)"
   ]
  },
  {
   "cell_type": "code",
   "execution_count": 8,
   "metadata": {
    "scrolled": true
   },
   "outputs": [
    {
     "data": {
      "text/plain": [
       "26"
      ]
     },
     "execution_count": 8,
     "metadata": {},
     "output_type": "execute_result"
    }
   ],
   "source": [
    "columns = ['frame', 'ID', 'x', 'y', 'w', 'h', 'head', 'yaw', 'pitch', 'roll',          \n",
    "          'gender', 'age', 'height', 'body volume', 'ethnicity', 'hair color', 'hairstyle', 'beard', 'mustache', 'glasses', \n",
    "           'head accessories', 'upper cloth', 'lower cloth', 'feet', 'accessories', 'action']\n",
    "len(columns)"
   ]
  },
  {
   "cell_type": "code",
   "execution_count": 9,
   "metadata": {},
   "outputs": [],
   "source": [
    "column_feature_index = 6"
   ]
  },
  {
   "cell_type": "code",
   "execution_count": 10,
   "metadata": {},
   "outputs": [],
   "source": [
    "INDEX_ID = 0\n",
    "INDEX_GENDER = 5\n",
    "INDEX_AGE = 6\n",
    "INDEX_HEIGHT = 7\n",
    "INDEX_BODY_VOLUME = 8\n",
    "INDEX_ETHNICITY = 9\n",
    "INDEX_HAIR_COLOR = 10\n",
    "INDEX_HAIRSTYLE = 11\n",
    "INDEX_BEARD = 12\n",
    "INDEX_MUSTACHE = 13\n",
    "INDEX_GLASSES = 14\n",
    "INDEX_HEAD_ACCESSORIES = 15\n",
    "INDEX_UPPER_CLOTH = 16\n",
    "INDEX_LOWER_CLOTH = 17\n",
    "INDEX_FEET = 18\n",
    "INDEX_ACCESSORIES = 19\n",
    "INDEX_ACTION = 20"
   ]
  },
  {
   "cell_type": "code",
   "execution_count": 11,
   "metadata": {},
   "outputs": [],
   "source": [
    "Unknown_AGE = 8\n",
    "Unknown_HEIGHT = 4\n",
    "Unknown_ETHNICITY = 4\n",
    "Unknown_HAIR_COLOR = 6\n",
    "Unknown_HAIRSTYLE = 5\n",
    "Unknown_BERD = 2\n",
    "Unknown_MOUSTACHE = 2\n",
    "Unknown_GLASSES = 3\n",
    "Unknown_HAED_ACCESSORIES = 4\n",
    "Unknown_LOWER_CLOTH = 9\n",
    "Unknown_FEET = 6\n",
    "Unknown_ACCESSORIES = 7"
   ]
  },
  {
   "cell_type": "code",
   "execution_count": 12,
   "metadata": {},
   "outputs": [
    {
     "data": {
      "text/plain": [
       "['head',\n",
       " 'yaw',\n",
       " 'pitch',\n",
       " 'roll',\n",
       " 'gender',\n",
       " 'age',\n",
       " 'height',\n",
       " 'body volume',\n",
       " 'ethnicity',\n",
       " 'hair color',\n",
       " 'hairstyle',\n",
       " 'beard',\n",
       " 'mustache',\n",
       " 'glasses',\n",
       " 'head accessories',\n",
       " 'upper cloth',\n",
       " 'lower cloth',\n",
       " 'feet',\n",
       " 'accessories',\n",
       " 'action']"
      ]
     },
     "execution_count": 12,
     "metadata": {},
     "output_type": "execute_result"
    }
   ],
   "source": [
    "columns[column_feature_index:]"
   ]
  },
  {
   "cell_type": "code",
   "execution_count": 18,
   "metadata": {},
   "outputs": [
    {
     "data": {
      "text/plain": [
       "'/home/mvlab/Downloads/dataset/P-DESTRE/videos/'"
      ]
     },
     "execution_count": 18,
     "metadata": {},
     "output_type": "execute_result"
    }
   ],
   "source": [
    "forder_pedestrian_video"
   ]
  },
  {
   "cell_type": "code",
   "execution_count": 20,
   "metadata": {},
   "outputs": [
    {
     "data": {
      "text/plain": [
       "['/home/mvlab/Downloads/dataset/P-DESTRE/videos/12-11-2019-3-2.MP412-11-2019-3-2/00450.jpg',\n",
       " '/home/mvlab/Downloads/dataset/P-DESTRE/videos/12-11-2019-3-2.MP412-11-2019-3-2/00750.jpg',\n",
       " '/home/mvlab/Downloads/dataset/P-DESTRE/videos/12-11-2019-3-2.MP412-11-2019-3-2/00000.jpg',\n",
       " '/home/mvlab/Downloads/dataset/P-DESTRE/videos/12-11-2019-3-2.MP412-11-2019-3-2/00900.jpg',\n",
       " '/home/mvlab/Downloads/dataset/P-DESTRE/videos/12-11-2019-3-2.MP412-11-2019-3-2/00150.jpg',\n",
       " '/home/mvlab/Downloads/dataset/P-DESTRE/videos/12-11-2019-3-2.MP412-11-2019-3-2/00300.jpg',\n",
       " '/home/mvlab/Downloads/dataset/P-DESTRE/videos/12-11-2019-3-2.MP412-11-2019-3-2/00600.jpg',\n",
       " '/home/mvlab/Downloads/dataset/P-DESTRE/videos/13-11-2019-5-1.MP413-11-2019-5-1/01050.jpg',\n",
       " '/home/mvlab/Downloads/dataset/P-DESTRE/videos/13-11-2019-5-1.MP413-11-2019-5-1/01500.jpg',\n",
       " '/home/mvlab/Downloads/dataset/P-DESTRE/videos/13-11-2019-5-1.MP413-11-2019-5-1/00450.jpg',\n",
       " '/home/mvlab/Downloads/dataset/P-DESTRE/videos/13-11-2019-5-1.MP413-11-2019-5-1/00750.jpg',\n",
       " '/home/mvlab/Downloads/dataset/P-DESTRE/videos/13-11-2019-5-1.MP413-11-2019-5-1/00000.jpg',\n",
       " '/home/mvlab/Downloads/dataset/P-DESTRE/videos/13-11-2019-5-1.MP413-11-2019-5-1/01350.jpg',\n",
       " '/home/mvlab/Downloads/dataset/P-DESTRE/videos/13-11-2019-5-1.MP413-11-2019-5-1/01200.jpg',\n",
       " '/home/mvlab/Downloads/dataset/P-DESTRE/videos/13-11-2019-5-1.MP413-11-2019-5-1/00900.jpg',\n",
       " '/home/mvlab/Downloads/dataset/P-DESTRE/videos/13-11-2019-5-1.MP413-11-2019-5-1/00150.jpg',\n",
       " '/home/mvlab/Downloads/dataset/P-DESTRE/videos/13-11-2019-5-1.MP413-11-2019-5-1/00300.jpg',\n",
       " '/home/mvlab/Downloads/dataset/P-DESTRE/videos/13-11-2019-5-1.MP413-11-2019-5-1/01650.jpg',\n",
       " '/home/mvlab/Downloads/dataset/P-DESTRE/videos/13-11-2019-5-1.MP413-11-2019-5-1/00600.jpg',\n",
       " '/home/mvlab/Downloads/dataset/P-DESTRE/videos/14-07-2019-1-1.MP414-07-2019-1-1/00450.jpg',\n",
       " '/home/mvlab/Downloads/dataset/P-DESTRE/videos/14-07-2019-1-1.MP414-07-2019-1-1/00750.jpg',\n",
       " '/home/mvlab/Downloads/dataset/P-DESTRE/videos/14-07-2019-1-1.MP414-07-2019-1-1/00000.jpg',\n",
       " '/home/mvlab/Downloads/dataset/P-DESTRE/videos/14-07-2019-1-1.MP414-07-2019-1-1/00150.jpg',\n",
       " '/home/mvlab/Downloads/dataset/P-DESTRE/videos/14-07-2019-1-1.MP414-07-2019-1-1/00300.jpg',\n",
       " '/home/mvlab/Downloads/dataset/P-DESTRE/videos/14-07-2019-1-1.MP414-07-2019-1-1/00600.jpg',\n",
       " '/home/mvlab/Downloads/dataset/P-DESTRE/videos/10-07-2019-1-4.MP410-07-2019-1-4/01050.jpg',\n",
       " '/home/mvlab/Downloads/dataset/P-DESTRE/videos/10-07-2019-1-4.MP410-07-2019-1-4/00450.jpg',\n",
       " '/home/mvlab/Downloads/dataset/P-DESTRE/videos/10-07-2019-1-4.MP410-07-2019-1-4/00750.jpg',\n",
       " '/home/mvlab/Downloads/dataset/P-DESTRE/videos/10-07-2019-1-4.MP410-07-2019-1-4/00000.jpg',\n",
       " '/home/mvlab/Downloads/dataset/P-DESTRE/videos/10-07-2019-1-4.MP410-07-2019-1-4/00900.jpg',\n",
       " '/home/mvlab/Downloads/dataset/P-DESTRE/videos/10-07-2019-1-4.MP410-07-2019-1-4/00150.jpg',\n",
       " '/home/mvlab/Downloads/dataset/P-DESTRE/videos/10-07-2019-1-4.MP410-07-2019-1-4/00300.jpg',\n",
       " '/home/mvlab/Downloads/dataset/P-DESTRE/videos/10-07-2019-1-4.MP410-07-2019-1-4/00600.jpg',\n",
       " '/home/mvlab/Downloads/dataset/P-DESTRE/videos/13-11-2019-3-1.MP413-11-2019-3-1/00450.jpg',\n",
       " '/home/mvlab/Downloads/dataset/P-DESTRE/videos/13-11-2019-3-1.MP413-11-2019-3-1/00000.jpg',\n",
       " '/home/mvlab/Downloads/dataset/P-DESTRE/videos/13-11-2019-3-1.MP413-11-2019-3-1/00150.jpg',\n",
       " '/home/mvlab/Downloads/dataset/P-DESTRE/videos/13-11-2019-3-1.MP413-11-2019-3-1/00300.jpg',\n",
       " '/home/mvlab/Downloads/dataset/P-DESTRE/videos/13-11-2019-3-1.MP413-11-2019-3-1/00600.jpg',\n",
       " '/home/mvlab/Downloads/dataset/P-DESTRE/videos/13-11-2019-3-4.MP413-11-2019-3-4/01050.jpg',\n",
       " '/home/mvlab/Downloads/dataset/P-DESTRE/videos/13-11-2019-3-4.MP413-11-2019-3-4/01800.jpg',\n",
       " '/home/mvlab/Downloads/dataset/P-DESTRE/videos/13-11-2019-3-4.MP413-11-2019-3-4/01500.jpg',\n",
       " '/home/mvlab/Downloads/dataset/P-DESTRE/videos/13-11-2019-3-4.MP413-11-2019-3-4/00450.jpg',\n",
       " '/home/mvlab/Downloads/dataset/P-DESTRE/videos/13-11-2019-3-4.MP413-11-2019-3-4/00750.jpg',\n",
       " '/home/mvlab/Downloads/dataset/P-DESTRE/videos/13-11-2019-3-4.MP413-11-2019-3-4/00000.jpg',\n",
       " '/home/mvlab/Downloads/dataset/P-DESTRE/videos/13-11-2019-3-4.MP413-11-2019-3-4/01350.jpg',\n",
       " '/home/mvlab/Downloads/dataset/P-DESTRE/videos/13-11-2019-3-4.MP413-11-2019-3-4/01200.jpg',\n",
       " '/home/mvlab/Downloads/dataset/P-DESTRE/videos/13-11-2019-3-4.MP413-11-2019-3-4/00900.jpg',\n",
       " '/home/mvlab/Downloads/dataset/P-DESTRE/videos/13-11-2019-3-4.MP413-11-2019-3-4/00150.jpg',\n",
       " '/home/mvlab/Downloads/dataset/P-DESTRE/videos/13-11-2019-3-4.MP413-11-2019-3-4/00300.jpg',\n",
       " '/home/mvlab/Downloads/dataset/P-DESTRE/videos/13-11-2019-3-4.MP413-11-2019-3-4/01650.jpg',\n",
       " '/home/mvlab/Downloads/dataset/P-DESTRE/videos/13-11-2019-3-4.MP413-11-2019-3-4/00600.jpg',\n",
       " '/home/mvlab/Downloads/dataset/P-DESTRE/videos/18-07-2019-1-1.MP418-07-2019-1-1/00450.jpg',\n",
       " '/home/mvlab/Downloads/dataset/P-DESTRE/videos/18-07-2019-1-1.MP418-07-2019-1-1/00000.jpg',\n",
       " '/home/mvlab/Downloads/dataset/P-DESTRE/videos/18-07-2019-1-1.MP418-07-2019-1-1/00150.jpg',\n",
       " '/home/mvlab/Downloads/dataset/P-DESTRE/videos/18-07-2019-1-1.MP418-07-2019-1-1/00300.jpg',\n",
       " '/home/mvlab/Downloads/dataset/P-DESTRE/videos/13-11-2019-1-1.MP413-11-2019-1-1/01050.jpg',\n",
       " '/home/mvlab/Downloads/dataset/P-DESTRE/videos/13-11-2019-1-1.MP413-11-2019-1-1/00450.jpg',\n",
       " '/home/mvlab/Downloads/dataset/P-DESTRE/videos/13-11-2019-1-1.MP413-11-2019-1-1/00750.jpg',\n",
       " '/home/mvlab/Downloads/dataset/P-DESTRE/videos/13-11-2019-1-1.MP413-11-2019-1-1/00000.jpg',\n",
       " '/home/mvlab/Downloads/dataset/P-DESTRE/videos/13-11-2019-1-1.MP413-11-2019-1-1/01200.jpg',\n",
       " '/home/mvlab/Downloads/dataset/P-DESTRE/videos/13-11-2019-1-1.MP413-11-2019-1-1/00900.jpg',\n",
       " '/home/mvlab/Downloads/dataset/P-DESTRE/videos/13-11-2019-1-1.MP413-11-2019-1-1/00150.jpg',\n",
       " '/home/mvlab/Downloads/dataset/P-DESTRE/videos/13-11-2019-1-1.MP413-11-2019-1-1/00300.jpg',\n",
       " '/home/mvlab/Downloads/dataset/P-DESTRE/videos/13-11-2019-1-1.MP413-11-2019-1-1/00600.jpg',\n",
       " '/home/mvlab/Downloads/dataset/P-DESTRE/videos/08-11-2019-1-2.MP408-11-2019-1-2/01050.jpg',\n",
       " '/home/mvlab/Downloads/dataset/P-DESTRE/videos/08-11-2019-1-2.MP408-11-2019-1-2/01500.jpg',\n",
       " '/home/mvlab/Downloads/dataset/P-DESTRE/videos/08-11-2019-1-2.MP408-11-2019-1-2/00450.jpg',\n",
       " '/home/mvlab/Downloads/dataset/P-DESTRE/videos/08-11-2019-1-2.MP408-11-2019-1-2/00750.jpg',\n",
       " '/home/mvlab/Downloads/dataset/P-DESTRE/videos/08-11-2019-1-2.MP408-11-2019-1-2/00000.jpg',\n",
       " '/home/mvlab/Downloads/dataset/P-DESTRE/videos/08-11-2019-1-2.MP408-11-2019-1-2/01350.jpg',\n",
       " '/home/mvlab/Downloads/dataset/P-DESTRE/videos/08-11-2019-1-2.MP408-11-2019-1-2/01200.jpg',\n",
       " '/home/mvlab/Downloads/dataset/P-DESTRE/videos/08-11-2019-1-2.MP408-11-2019-1-2/00900.jpg',\n",
       " '/home/mvlab/Downloads/dataset/P-DESTRE/videos/08-11-2019-1-2.MP408-11-2019-1-2/00150.jpg',\n",
       " '/home/mvlab/Downloads/dataset/P-DESTRE/videos/08-11-2019-1-2.MP408-11-2019-1-2/00300.jpg',\n",
       " '/home/mvlab/Downloads/dataset/P-DESTRE/videos/08-11-2019-1-2.MP408-11-2019-1-2/00600.jpg',\n",
       " '/home/mvlab/Downloads/dataset/P-DESTRE/videos/12-11-2019-4-1.MP412-11-2019-4-1/00450.jpg',\n",
       " '/home/mvlab/Downloads/dataset/P-DESTRE/videos/12-11-2019-4-1.MP412-11-2019-4-1/00750.jpg',\n",
       " '/home/mvlab/Downloads/dataset/P-DESTRE/videos/12-11-2019-4-1.MP412-11-2019-4-1/00000.jpg',\n",
       " '/home/mvlab/Downloads/dataset/P-DESTRE/videos/12-11-2019-4-1.MP412-11-2019-4-1/00150.jpg',\n",
       " '/home/mvlab/Downloads/dataset/P-DESTRE/videos/12-11-2019-4-1.MP412-11-2019-4-1/00300.jpg',\n",
       " '/home/mvlab/Downloads/dataset/P-DESTRE/videos/12-11-2019-4-1.MP412-11-2019-4-1/00600.jpg',\n",
       " '/home/mvlab/Downloads/dataset/P-DESTRE/videos/13-11-2019-5-2.MP413-11-2019-5-2/01050.jpg',\n",
       " '/home/mvlab/Downloads/dataset/P-DESTRE/videos/13-11-2019-5-2.MP413-11-2019-5-2/00450.jpg',\n",
       " '/home/mvlab/Downloads/dataset/P-DESTRE/videos/13-11-2019-5-2.MP413-11-2019-5-2/00750.jpg',\n",
       " '/home/mvlab/Downloads/dataset/P-DESTRE/videos/13-11-2019-5-2.MP413-11-2019-5-2/00000.jpg',\n",
       " '/home/mvlab/Downloads/dataset/P-DESTRE/videos/13-11-2019-5-2.MP413-11-2019-5-2/00900.jpg',\n",
       " '/home/mvlab/Downloads/dataset/P-DESTRE/videos/13-11-2019-5-2.MP413-11-2019-5-2/00150.jpg',\n",
       " '/home/mvlab/Downloads/dataset/P-DESTRE/videos/13-11-2019-5-2.MP413-11-2019-5-2/00300.jpg',\n",
       " '/home/mvlab/Downloads/dataset/P-DESTRE/videos/13-11-2019-5-2.MP413-11-2019-5-2/00600.jpg',\n",
       " '/home/mvlab/Downloads/dataset/P-DESTRE/videos/12-11-2019-1-2.MP412-11-2019-1-2/01050.jpg',\n",
       " '/home/mvlab/Downloads/dataset/P-DESTRE/videos/12-11-2019-1-2.MP412-11-2019-1-2/01800.jpg',\n",
       " '/home/mvlab/Downloads/dataset/P-DESTRE/videos/12-11-2019-1-2.MP412-11-2019-1-2/01500.jpg',\n",
       " '/home/mvlab/Downloads/dataset/P-DESTRE/videos/12-11-2019-1-2.MP412-11-2019-1-2/00450.jpg',\n",
       " '/home/mvlab/Downloads/dataset/P-DESTRE/videos/12-11-2019-1-2.MP412-11-2019-1-2/00750.jpg',\n",
       " '/home/mvlab/Downloads/dataset/P-DESTRE/videos/12-11-2019-1-2.MP412-11-2019-1-2/00000.jpg',\n",
       " '/home/mvlab/Downloads/dataset/P-DESTRE/videos/12-11-2019-1-2.MP412-11-2019-1-2/01350.jpg',\n",
       " '/home/mvlab/Downloads/dataset/P-DESTRE/videos/12-11-2019-1-2.MP412-11-2019-1-2/01200.jpg',\n",
       " '/home/mvlab/Downloads/dataset/P-DESTRE/videos/12-11-2019-1-2.MP412-11-2019-1-2/00900.jpg',\n",
       " '/home/mvlab/Downloads/dataset/P-DESTRE/videos/12-11-2019-1-2.MP412-11-2019-1-2/00150.jpg',\n",
       " '/home/mvlab/Downloads/dataset/P-DESTRE/videos/12-11-2019-1-2.MP412-11-2019-1-2/00300.jpg',\n",
       " '/home/mvlab/Downloads/dataset/P-DESTRE/videos/12-11-2019-1-2.MP412-11-2019-1-2/01650.jpg',\n",
       " '/home/mvlab/Downloads/dataset/P-DESTRE/videos/12-11-2019-1-2.MP412-11-2019-1-2/00600.jpg',\n",
       " '/home/mvlab/Downloads/dataset/P-DESTRE/videos/13-11-2019-4-5.MP413-11-2019-4-5/01050.jpg',\n",
       " '/home/mvlab/Downloads/dataset/P-DESTRE/videos/13-11-2019-4-5.MP413-11-2019-4-5/01500.jpg',\n",
       " '/home/mvlab/Downloads/dataset/P-DESTRE/videos/13-11-2019-4-5.MP413-11-2019-4-5/00450.jpg',\n",
       " '/home/mvlab/Downloads/dataset/P-DESTRE/videos/13-11-2019-4-5.MP413-11-2019-4-5/00750.jpg',\n",
       " '/home/mvlab/Downloads/dataset/P-DESTRE/videos/13-11-2019-4-5.MP413-11-2019-4-5/00000.jpg',\n",
       " '/home/mvlab/Downloads/dataset/P-DESTRE/videos/13-11-2019-4-5.MP413-11-2019-4-5/01350.jpg',\n",
       " '/home/mvlab/Downloads/dataset/P-DESTRE/videos/13-11-2019-4-5.MP413-11-2019-4-5/01200.jpg',\n",
       " '/home/mvlab/Downloads/dataset/P-DESTRE/videos/13-11-2019-4-5.MP413-11-2019-4-5/00900.jpg',\n",
       " '/home/mvlab/Downloads/dataset/P-DESTRE/videos/13-11-2019-4-5.MP413-11-2019-4-5/00150.jpg',\n",
       " '/home/mvlab/Downloads/dataset/P-DESTRE/videos/13-11-2019-4-5.MP413-11-2019-4-5/00300.jpg',\n",
       " '/home/mvlab/Downloads/dataset/P-DESTRE/videos/13-11-2019-4-5.MP413-11-2019-4-5/01650.jpg',\n",
       " '/home/mvlab/Downloads/dataset/P-DESTRE/videos/13-11-2019-4-5.MP413-11-2019-4-5/00600.jpg',\n",
       " '/home/mvlab/Downloads/dataset/P-DESTRE/videos/11-11-2019-2-3.MP411-11-2019-2-3/01050.jpg',\n",
       " '/home/mvlab/Downloads/dataset/P-DESTRE/videos/11-11-2019-2-3.MP411-11-2019-2-3/00450.jpg',\n",
       " '/home/mvlab/Downloads/dataset/P-DESTRE/videos/11-11-2019-2-3.MP411-11-2019-2-3/00750.jpg',\n",
       " '/home/mvlab/Downloads/dataset/P-DESTRE/videos/11-11-2019-2-3.MP411-11-2019-2-3/00000.jpg',\n",
       " '/home/mvlab/Downloads/dataset/P-DESTRE/videos/11-11-2019-2-3.MP411-11-2019-2-3/00900.jpg',\n",
       " '/home/mvlab/Downloads/dataset/P-DESTRE/videos/11-11-2019-2-3.MP411-11-2019-2-3/00150.jpg',\n",
       " '/home/mvlab/Downloads/dataset/P-DESTRE/videos/11-11-2019-2-3.MP411-11-2019-2-3/00300.jpg',\n",
       " '/home/mvlab/Downloads/dataset/P-DESTRE/videos/11-11-2019-2-3.MP411-11-2019-2-3/00600.jpg',\n",
       " '/home/mvlab/Downloads/dataset/P-DESTRE/videos/13-11-2019-2-5.MP413-11-2019-2-5/01050.jpg',\n",
       " '/home/mvlab/Downloads/dataset/P-DESTRE/videos/13-11-2019-2-5.MP413-11-2019-2-5/01800.jpg',\n",
       " '/home/mvlab/Downloads/dataset/P-DESTRE/videos/13-11-2019-2-5.MP413-11-2019-2-5/01500.jpg',\n",
       " '/home/mvlab/Downloads/dataset/P-DESTRE/videos/13-11-2019-2-5.MP413-11-2019-2-5/00450.jpg',\n",
       " '/home/mvlab/Downloads/dataset/P-DESTRE/videos/13-11-2019-2-5.MP413-11-2019-2-5/00750.jpg',\n",
       " '/home/mvlab/Downloads/dataset/P-DESTRE/videos/13-11-2019-2-5.MP413-11-2019-2-5/00000.jpg',\n",
       " '/home/mvlab/Downloads/dataset/P-DESTRE/videos/13-11-2019-2-5.MP413-11-2019-2-5/01350.jpg',\n",
       " '/home/mvlab/Downloads/dataset/P-DESTRE/videos/13-11-2019-2-5.MP413-11-2019-2-5/01200.jpg',\n",
       " '/home/mvlab/Downloads/dataset/P-DESTRE/videos/13-11-2019-2-5.MP413-11-2019-2-5/00900.jpg',\n",
       " '/home/mvlab/Downloads/dataset/P-DESTRE/videos/13-11-2019-2-5.MP413-11-2019-2-5/00150.jpg',\n",
       " '/home/mvlab/Downloads/dataset/P-DESTRE/videos/13-11-2019-2-5.MP413-11-2019-2-5/00300.jpg',\n",
       " '/home/mvlab/Downloads/dataset/P-DESTRE/videos/13-11-2019-2-5.MP413-11-2019-2-5/01650.jpg',\n",
       " '/home/mvlab/Downloads/dataset/P-DESTRE/videos/13-11-2019-2-5.MP413-11-2019-2-5/00600.jpg',\n",
       " '/home/mvlab/Downloads/dataset/P-DESTRE/videos/12-11-2019-2-2.MP412-11-2019-2-2/01050.jpg',\n",
       " '/home/mvlab/Downloads/dataset/P-DESTRE/videos/12-11-2019-2-2.MP412-11-2019-2-2/01950.jpg',\n",
       " '/home/mvlab/Downloads/dataset/P-DESTRE/videos/12-11-2019-2-2.MP412-11-2019-2-2/01800.jpg',\n",
       " '/home/mvlab/Downloads/dataset/P-DESTRE/videos/12-11-2019-2-2.MP412-11-2019-2-2/01500.jpg',\n",
       " '/home/mvlab/Downloads/dataset/P-DESTRE/videos/12-11-2019-2-2.MP412-11-2019-2-2/00450.jpg',\n",
       " '/home/mvlab/Downloads/dataset/P-DESTRE/videos/12-11-2019-2-2.MP412-11-2019-2-2/00750.jpg',\n",
       " '/home/mvlab/Downloads/dataset/P-DESTRE/videos/12-11-2019-2-2.MP412-11-2019-2-2/00000.jpg',\n",
       " '/home/mvlab/Downloads/dataset/P-DESTRE/videos/12-11-2019-2-2.MP412-11-2019-2-2/01350.jpg',\n",
       " '/home/mvlab/Downloads/dataset/P-DESTRE/videos/12-11-2019-2-2.MP412-11-2019-2-2/01200.jpg',\n",
       " '/home/mvlab/Downloads/dataset/P-DESTRE/videos/12-11-2019-2-2.MP412-11-2019-2-2/00900.jpg',\n",
       " '/home/mvlab/Downloads/dataset/P-DESTRE/videos/12-11-2019-2-2.MP412-11-2019-2-2/02400.jpg',\n",
       " '/home/mvlab/Downloads/dataset/P-DESTRE/videos/12-11-2019-2-2.MP412-11-2019-2-2/02100.jpg',\n",
       " '/home/mvlab/Downloads/dataset/P-DESTRE/videos/12-11-2019-2-2.MP412-11-2019-2-2/02700.jpg',\n",
       " '/home/mvlab/Downloads/dataset/P-DESTRE/videos/12-11-2019-2-2.MP412-11-2019-2-2/00150.jpg',\n",
       " '/home/mvlab/Downloads/dataset/P-DESTRE/videos/12-11-2019-2-2.MP412-11-2019-2-2/02250.jpg',\n",
       " '/home/mvlab/Downloads/dataset/P-DESTRE/videos/12-11-2019-2-2.MP412-11-2019-2-2/00300.jpg',\n",
       " '/home/mvlab/Downloads/dataset/P-DESTRE/videos/12-11-2019-2-2.MP412-11-2019-2-2/01650.jpg',\n",
       " '/home/mvlab/Downloads/dataset/P-DESTRE/videos/12-11-2019-2-2.MP412-11-2019-2-2/02550.jpg',\n",
       " '/home/mvlab/Downloads/dataset/P-DESTRE/videos/12-11-2019-2-2.MP412-11-2019-2-2/00600.jpg',\n",
       " '/home/mvlab/Downloads/dataset/P-DESTRE/videos/13-11-2019-3-3.MP413-11-2019-3-3/01050.jpg',\n",
       " '/home/mvlab/Downloads/dataset/P-DESTRE/videos/13-11-2019-3-3.MP413-11-2019-3-3/01800.jpg',\n",
       " '/home/mvlab/Downloads/dataset/P-DESTRE/videos/13-11-2019-3-3.MP413-11-2019-3-3/01500.jpg',\n",
       " '/home/mvlab/Downloads/dataset/P-DESTRE/videos/13-11-2019-3-3.MP413-11-2019-3-3/00450.jpg',\n",
       " '/home/mvlab/Downloads/dataset/P-DESTRE/videos/13-11-2019-3-3.MP413-11-2019-3-3/00750.jpg',\n",
       " '/home/mvlab/Downloads/dataset/P-DESTRE/videos/13-11-2019-3-3.MP413-11-2019-3-3/00000.jpg',\n",
       " '/home/mvlab/Downloads/dataset/P-DESTRE/videos/13-11-2019-3-3.MP413-11-2019-3-3/01350.jpg',\n",
       " '/home/mvlab/Downloads/dataset/P-DESTRE/videos/13-11-2019-3-3.MP413-11-2019-3-3/01200.jpg',\n",
       " '/home/mvlab/Downloads/dataset/P-DESTRE/videos/13-11-2019-3-3.MP413-11-2019-3-3/00900.jpg',\n",
       " '/home/mvlab/Downloads/dataset/P-DESTRE/videos/13-11-2019-3-3.MP413-11-2019-3-3/00150.jpg',\n",
       " '/home/mvlab/Downloads/dataset/P-DESTRE/videos/13-11-2019-3-3.MP413-11-2019-3-3/00300.jpg',\n",
       " '/home/mvlab/Downloads/dataset/P-DESTRE/videos/13-11-2019-3-3.MP413-11-2019-3-3/01650.jpg',\n",
       " '/home/mvlab/Downloads/dataset/P-DESTRE/videos/13-11-2019-3-3.MP413-11-2019-3-3/00600.jpg',\n",
       " '/home/mvlab/Downloads/dataset/P-DESTRE/videos/14-11-2019-2-3.MP414-11-2019-2-3/01050.jpg',\n",
       " '/home/mvlab/Downloads/dataset/P-DESTRE/videos/14-11-2019-2-3.MP414-11-2019-2-3/01500.jpg',\n",
       " '/home/mvlab/Downloads/dataset/P-DESTRE/videos/14-11-2019-2-3.MP414-11-2019-2-3/00450.jpg',\n",
       " '/home/mvlab/Downloads/dataset/P-DESTRE/videos/14-11-2019-2-3.MP414-11-2019-2-3/00750.jpg',\n",
       " '/home/mvlab/Downloads/dataset/P-DESTRE/videos/14-11-2019-2-3.MP414-11-2019-2-3/00000.jpg',\n",
       " '/home/mvlab/Downloads/dataset/P-DESTRE/videos/14-11-2019-2-3.MP414-11-2019-2-3/01350.jpg',\n",
       " '/home/mvlab/Downloads/dataset/P-DESTRE/videos/14-11-2019-2-3.MP414-11-2019-2-3/01200.jpg',\n",
       " '/home/mvlab/Downloads/dataset/P-DESTRE/videos/14-11-2019-2-3.MP414-11-2019-2-3/00900.jpg',\n",
       " '/home/mvlab/Downloads/dataset/P-DESTRE/videos/14-11-2019-2-3.MP414-11-2019-2-3/00150.jpg',\n",
       " '/home/mvlab/Downloads/dataset/P-DESTRE/videos/14-11-2019-2-3.MP414-11-2019-2-3/00300.jpg',\n",
       " '/home/mvlab/Downloads/dataset/P-DESTRE/videos/14-11-2019-2-3.MP414-11-2019-2-3/01650.jpg',\n",
       " '/home/mvlab/Downloads/dataset/P-DESTRE/videos/14-11-2019-2-3.MP414-11-2019-2-3/00600.jpg',\n",
       " '/home/mvlab/Downloads/dataset/P-DESTRE/videos/11-11-2019-1-3.MP411-11-2019-1-3/01050.jpg',\n",
       " '/home/mvlab/Downloads/dataset/P-DESTRE/videos/11-11-2019-1-3.MP411-11-2019-1-3/01950.jpg',\n",
       " '/home/mvlab/Downloads/dataset/P-DESTRE/videos/11-11-2019-1-3.MP411-11-2019-1-3/01800.jpg',\n",
       " '/home/mvlab/Downloads/dataset/P-DESTRE/videos/11-11-2019-1-3.MP411-11-2019-1-3/01500.jpg',\n",
       " '/home/mvlab/Downloads/dataset/P-DESTRE/videos/11-11-2019-1-3.MP411-11-2019-1-3/00450.jpg',\n",
       " '/home/mvlab/Downloads/dataset/P-DESTRE/videos/11-11-2019-1-3.MP411-11-2019-1-3/00750.jpg',\n",
       " '/home/mvlab/Downloads/dataset/P-DESTRE/videos/11-11-2019-1-3.MP411-11-2019-1-3/00000.jpg',\n",
       " '/home/mvlab/Downloads/dataset/P-DESTRE/videos/11-11-2019-1-3.MP411-11-2019-1-3/01350.jpg',\n",
       " '/home/mvlab/Downloads/dataset/P-DESTRE/videos/11-11-2019-1-3.MP411-11-2019-1-3/01200.jpg',\n",
       " '/home/mvlab/Downloads/dataset/P-DESTRE/videos/11-11-2019-1-3.MP411-11-2019-1-3/00900.jpg',\n",
       " '/home/mvlab/Downloads/dataset/P-DESTRE/videos/11-11-2019-1-3.MP411-11-2019-1-3/02400.jpg',\n",
       " '/home/mvlab/Downloads/dataset/P-DESTRE/videos/11-11-2019-1-3.MP411-11-2019-1-3/02100.jpg',\n",
       " '/home/mvlab/Downloads/dataset/P-DESTRE/videos/11-11-2019-1-3.MP411-11-2019-1-3/00150.jpg',\n",
       " '/home/mvlab/Downloads/dataset/P-DESTRE/videos/11-11-2019-1-3.MP411-11-2019-1-3/02250.jpg',\n",
       " '/home/mvlab/Downloads/dataset/P-DESTRE/videos/11-11-2019-1-3.MP411-11-2019-1-3/00300.jpg',\n",
       " '/home/mvlab/Downloads/dataset/P-DESTRE/videos/11-11-2019-1-3.MP411-11-2019-1-3/01650.jpg',\n",
       " '/home/mvlab/Downloads/dataset/P-DESTRE/videos/11-11-2019-1-3.MP411-11-2019-1-3/02550.jpg',\n",
       " '/home/mvlab/Downloads/dataset/P-DESTRE/videos/11-11-2019-1-3.MP411-11-2019-1-3/00600.jpg',\n",
       " '/home/mvlab/Downloads/dataset/P-DESTRE/videos/11-11-2019-2-1.MP411-11-2019-2-1/01050.jpg',\n",
       " '/home/mvlab/Downloads/dataset/P-DESTRE/videos/11-11-2019-2-1.MP411-11-2019-2-1/01950.jpg',\n",
       " '/home/mvlab/Downloads/dataset/P-DESTRE/videos/11-11-2019-2-1.MP411-11-2019-2-1/01800.jpg',\n",
       " '/home/mvlab/Downloads/dataset/P-DESTRE/videos/11-11-2019-2-1.MP411-11-2019-2-1/01500.jpg',\n",
       " '/home/mvlab/Downloads/dataset/P-DESTRE/videos/11-11-2019-2-1.MP411-11-2019-2-1/00450.jpg',\n",
       " '/home/mvlab/Downloads/dataset/P-DESTRE/videos/11-11-2019-2-1.MP411-11-2019-2-1/00750.jpg',\n",
       " '/home/mvlab/Downloads/dataset/P-DESTRE/videos/11-11-2019-2-1.MP411-11-2019-2-1/00000.jpg',\n",
       " '/home/mvlab/Downloads/dataset/P-DESTRE/videos/11-11-2019-2-1.MP411-11-2019-2-1/01350.jpg',\n",
       " '/home/mvlab/Downloads/dataset/P-DESTRE/videos/11-11-2019-2-1.MP411-11-2019-2-1/01200.jpg',\n",
       " '/home/mvlab/Downloads/dataset/P-DESTRE/videos/11-11-2019-2-1.MP411-11-2019-2-1/00900.jpg',\n",
       " '/home/mvlab/Downloads/dataset/P-DESTRE/videos/11-11-2019-2-1.MP411-11-2019-2-1/02100.jpg',\n",
       " '/home/mvlab/Downloads/dataset/P-DESTRE/videos/11-11-2019-2-1.MP411-11-2019-2-1/00150.jpg',\n",
       " '/home/mvlab/Downloads/dataset/P-DESTRE/videos/11-11-2019-2-1.MP411-11-2019-2-1/02250.jpg',\n",
       " '/home/mvlab/Downloads/dataset/P-DESTRE/videos/11-11-2019-2-1.MP411-11-2019-2-1/00300.jpg',\n",
       " '/home/mvlab/Downloads/dataset/P-DESTRE/videos/11-11-2019-2-1.MP411-11-2019-2-1/01650.jpg',\n",
       " '/home/mvlab/Downloads/dataset/P-DESTRE/videos/11-11-2019-2-1.MP411-11-2019-2-1/00600.jpg',\n",
       " '/home/mvlab/Downloads/dataset/P-DESTRE/videos/12-11-2019-3-4.MP412-11-2019-3-4/01050.jpg',\n",
       " '/home/mvlab/Downloads/dataset/P-DESTRE/videos/12-11-2019-3-4.MP412-11-2019-3-4/01800.jpg',\n",
       " '/home/mvlab/Downloads/dataset/P-DESTRE/videos/12-11-2019-3-4.MP412-11-2019-3-4/01500.jpg',\n",
       " '/home/mvlab/Downloads/dataset/P-DESTRE/videos/12-11-2019-3-4.MP412-11-2019-3-4/00450.jpg',\n",
       " '/home/mvlab/Downloads/dataset/P-DESTRE/videos/12-11-2019-3-4.MP412-11-2019-3-4/00750.jpg',\n",
       " '/home/mvlab/Downloads/dataset/P-DESTRE/videos/12-11-2019-3-4.MP412-11-2019-3-4/00000.jpg',\n",
       " '/home/mvlab/Downloads/dataset/P-DESTRE/videos/12-11-2019-3-4.MP412-11-2019-3-4/01350.jpg',\n",
       " '/home/mvlab/Downloads/dataset/P-DESTRE/videos/12-11-2019-3-4.MP412-11-2019-3-4/01200.jpg',\n",
       " '/home/mvlab/Downloads/dataset/P-DESTRE/videos/12-11-2019-3-4.MP412-11-2019-3-4/00900.jpg',\n",
       " '/home/mvlab/Downloads/dataset/P-DESTRE/videos/12-11-2019-3-4.MP412-11-2019-3-4/00150.jpg',\n",
       " '/home/mvlab/Downloads/dataset/P-DESTRE/videos/12-11-2019-3-4.MP412-11-2019-3-4/00300.jpg',\n",
       " '/home/mvlab/Downloads/dataset/P-DESTRE/videos/12-11-2019-3-4.MP412-11-2019-3-4/01650.jpg',\n",
       " '/home/mvlab/Downloads/dataset/P-DESTRE/videos/12-11-2019-3-4.MP412-11-2019-3-4/00600.jpg',\n",
       " '/home/mvlab/Downloads/dataset/P-DESTRE/videos/22-10-2019-1-1.MP422-10-2019-1-1/01050.jpg',\n",
       " '/home/mvlab/Downloads/dataset/P-DESTRE/videos/22-10-2019-1-1.MP422-10-2019-1-1/01500.jpg',\n",
       " '/home/mvlab/Downloads/dataset/P-DESTRE/videos/22-10-2019-1-1.MP422-10-2019-1-1/00450.jpg',\n",
       " '/home/mvlab/Downloads/dataset/P-DESTRE/videos/22-10-2019-1-1.MP422-10-2019-1-1/00750.jpg',\n",
       " '/home/mvlab/Downloads/dataset/P-DESTRE/videos/22-10-2019-1-1.MP422-10-2019-1-1/00000.jpg',\n",
       " '/home/mvlab/Downloads/dataset/P-DESTRE/videos/22-10-2019-1-1.MP422-10-2019-1-1/01350.jpg',\n",
       " '/home/mvlab/Downloads/dataset/P-DESTRE/videos/22-10-2019-1-1.MP422-10-2019-1-1/01200.jpg',\n",
       " '/home/mvlab/Downloads/dataset/P-DESTRE/videos/22-10-2019-1-1.MP422-10-2019-1-1/00900.jpg',\n",
       " '/home/mvlab/Downloads/dataset/P-DESTRE/videos/22-10-2019-1-1.MP422-10-2019-1-1/00150.jpg',\n",
       " '/home/mvlab/Downloads/dataset/P-DESTRE/videos/22-10-2019-1-1.MP422-10-2019-1-1/00300.jpg',\n",
       " '/home/mvlab/Downloads/dataset/P-DESTRE/videos/22-10-2019-1-1.MP422-10-2019-1-1/00600.jpg',\n",
       " '/home/mvlab/Downloads/dataset/P-DESTRE/videos/13-11-2019-5-4.MP413-11-2019-5-4/01050.jpg',\n",
       " '/home/mvlab/Downloads/dataset/P-DESTRE/videos/13-11-2019-5-4.MP413-11-2019-5-4/01950.jpg',\n",
       " '/home/mvlab/Downloads/dataset/P-DESTRE/videos/13-11-2019-5-4.MP413-11-2019-5-4/01800.jpg',\n",
       " '/home/mvlab/Downloads/dataset/P-DESTRE/videos/13-11-2019-5-4.MP413-11-2019-5-4/01500.jpg',\n",
       " '/home/mvlab/Downloads/dataset/P-DESTRE/videos/13-11-2019-5-4.MP413-11-2019-5-4/00450.jpg',\n",
       " '/home/mvlab/Downloads/dataset/P-DESTRE/videos/13-11-2019-5-4.MP413-11-2019-5-4/00750.jpg',\n",
       " '/home/mvlab/Downloads/dataset/P-DESTRE/videos/13-11-2019-5-4.MP413-11-2019-5-4/00000.jpg',\n",
       " '/home/mvlab/Downloads/dataset/P-DESTRE/videos/13-11-2019-5-4.MP413-11-2019-5-4/01350.jpg',\n",
       " '/home/mvlab/Downloads/dataset/P-DESTRE/videos/13-11-2019-5-4.MP413-11-2019-5-4/01200.jpg',\n",
       " '/home/mvlab/Downloads/dataset/P-DESTRE/videos/13-11-2019-5-4.MP413-11-2019-5-4/00900.jpg',\n",
       " '/home/mvlab/Downloads/dataset/P-DESTRE/videos/13-11-2019-5-4.MP413-11-2019-5-4/00150.jpg',\n",
       " '/home/mvlab/Downloads/dataset/P-DESTRE/videos/13-11-2019-5-4.MP413-11-2019-5-4/00300.jpg',\n",
       " '/home/mvlab/Downloads/dataset/P-DESTRE/videos/13-11-2019-5-4.MP413-11-2019-5-4/01650.jpg',\n",
       " '/home/mvlab/Downloads/dataset/P-DESTRE/videos/13-11-2019-5-4.MP413-11-2019-5-4/00600.jpg',\n",
       " '/home/mvlab/Downloads/dataset/P-DESTRE/videos/13-11-2019-4-2.MP413-11-2019-4-2/00450.jpg',\n",
       " '/home/mvlab/Downloads/dataset/P-DESTRE/videos/13-11-2019-4-2.MP413-11-2019-4-2/00750.jpg',\n",
       " '/home/mvlab/Downloads/dataset/P-DESTRE/videos/13-11-2019-4-2.MP413-11-2019-4-2/00000.jpg',\n",
       " '/home/mvlab/Downloads/dataset/P-DESTRE/videos/13-11-2019-4-2.MP413-11-2019-4-2/00900.jpg',\n",
       " '/home/mvlab/Downloads/dataset/P-DESTRE/videos/13-11-2019-4-2.MP413-11-2019-4-2/00150.jpg',\n",
       " '/home/mvlab/Downloads/dataset/P-DESTRE/videos/13-11-2019-4-2.MP413-11-2019-4-2/00300.jpg',\n",
       " '/home/mvlab/Downloads/dataset/P-DESTRE/videos/13-11-2019-4-2.MP413-11-2019-4-2/00600.jpg',\n",
       " '/home/mvlab/Downloads/dataset/P-DESTRE/videos/13-11-2019-5-3.MP413-11-2019-5-3/01050.jpg',\n",
       " '/home/mvlab/Downloads/dataset/P-DESTRE/videos/13-11-2019-5-3.MP413-11-2019-5-3/00450.jpg',\n",
       " '/home/mvlab/Downloads/dataset/P-DESTRE/videos/13-11-2019-5-3.MP413-11-2019-5-3/00750.jpg',\n",
       " '/home/mvlab/Downloads/dataset/P-DESTRE/videos/13-11-2019-5-3.MP413-11-2019-5-3/00000.jpg',\n",
       " '/home/mvlab/Downloads/dataset/P-DESTRE/videos/13-11-2019-5-3.MP413-11-2019-5-3/01200.jpg',\n",
       " '/home/mvlab/Downloads/dataset/P-DESTRE/videos/13-11-2019-5-3.MP413-11-2019-5-3/00900.jpg',\n",
       " '/home/mvlab/Downloads/dataset/P-DESTRE/videos/13-11-2019-5-3.MP413-11-2019-5-3/00150.jpg',\n",
       " '/home/mvlab/Downloads/dataset/P-DESTRE/videos/13-11-2019-5-3.MP413-11-2019-5-3/00300.jpg',\n",
       " '/home/mvlab/Downloads/dataset/P-DESTRE/videos/13-11-2019-5-3.MP413-11-2019-5-3/00600.jpg',\n",
       " '/home/mvlab/Downloads/dataset/P-DESTRE/videos/11-11-2019-2-4.MP411-11-2019-2-4/00450.jpg',\n",
       " '/home/mvlab/Downloads/dataset/P-DESTRE/videos/11-11-2019-2-4.MP411-11-2019-2-4/00750.jpg',\n",
       " '/home/mvlab/Downloads/dataset/P-DESTRE/videos/11-11-2019-2-4.MP411-11-2019-2-4/00000.jpg',\n",
       " '/home/mvlab/Downloads/dataset/P-DESTRE/videos/11-11-2019-2-4.MP411-11-2019-2-4/00150.jpg',\n",
       " '/home/mvlab/Downloads/dataset/P-DESTRE/videos/11-11-2019-2-4.MP411-11-2019-2-4/00300.jpg',\n",
       " '/home/mvlab/Downloads/dataset/P-DESTRE/videos/11-11-2019-2-4.MP411-11-2019-2-4/00600.jpg',\n",
       " '/home/mvlab/Downloads/dataset/P-DESTRE/videos/12-11-2019-4-3.MP412-11-2019-4-3/00450.jpg',\n",
       " '/home/mvlab/Downloads/dataset/P-DESTRE/videos/12-11-2019-4-3.MP412-11-2019-4-3/00750.jpg',\n",
       " '/home/mvlab/Downloads/dataset/P-DESTRE/videos/12-11-2019-4-3.MP412-11-2019-4-3/00000.jpg',\n",
       " '/home/mvlab/Downloads/dataset/P-DESTRE/videos/12-11-2019-4-3.MP412-11-2019-4-3/00900.jpg',\n",
       " '/home/mvlab/Downloads/dataset/P-DESTRE/videos/12-11-2019-4-3.MP412-11-2019-4-3/00150.jpg',\n",
       " '/home/mvlab/Downloads/dataset/P-DESTRE/videos/12-11-2019-4-3.MP412-11-2019-4-3/00300.jpg',\n",
       " '/home/mvlab/Downloads/dataset/P-DESTRE/videos/12-11-2019-4-3.MP412-11-2019-4-3/00600.jpg',\n",
       " '/home/mvlab/Downloads/dataset/P-DESTRE/videos/13-11-2019-4-4.MP413-11-2019-4-4/01050.jpg',\n",
       " '/home/mvlab/Downloads/dataset/P-DESTRE/videos/13-11-2019-4-4.MP413-11-2019-4-4/00450.jpg',\n",
       " '/home/mvlab/Downloads/dataset/P-DESTRE/videos/13-11-2019-4-4.MP413-11-2019-4-4/00750.jpg',\n",
       " '/home/mvlab/Downloads/dataset/P-DESTRE/videos/13-11-2019-4-4.MP413-11-2019-4-4/00000.jpg',\n",
       " '/home/mvlab/Downloads/dataset/P-DESTRE/videos/13-11-2019-4-4.MP413-11-2019-4-4/01200.jpg',\n",
       " '/home/mvlab/Downloads/dataset/P-DESTRE/videos/13-11-2019-4-4.MP413-11-2019-4-4/00900.jpg',\n",
       " '/home/mvlab/Downloads/dataset/P-DESTRE/videos/13-11-2019-4-4.MP413-11-2019-4-4/00150.jpg',\n",
       " '/home/mvlab/Downloads/dataset/P-DESTRE/videos/13-11-2019-4-4.MP413-11-2019-4-4/00300.jpg',\n",
       " '/home/mvlab/Downloads/dataset/P-DESTRE/videos/13-11-2019-4-4.MP413-11-2019-4-4/00600.jpg',\n",
       " '/home/mvlab/Downloads/dataset/P-DESTRE/videos/20-10-2019-1-1.MP420-10-2019-1-1/00000.jpg',\n",
       " '/home/mvlab/Downloads/dataset/P-DESTRE/videos/20-10-2019-1-1.MP420-10-2019-1-1/00150.jpg',\n",
       " '/home/mvlab/Downloads/dataset/P-DESTRE/videos/20-10-2019-1-1.MP420-10-2019-1-1/00300.jpg',\n",
       " '/home/mvlab/Downloads/dataset/P-DESTRE/videos/12-11-2019-2-3.MP412-11-2019-2-3/01050.jpg',\n",
       " '/home/mvlab/Downloads/dataset/P-DESTRE/videos/12-11-2019-2-3.MP412-11-2019-2-3/00450.jpg',\n",
       " '/home/mvlab/Downloads/dataset/P-DESTRE/videos/12-11-2019-2-3.MP412-11-2019-2-3/00750.jpg',\n",
       " '/home/mvlab/Downloads/dataset/P-DESTRE/videos/12-11-2019-2-3.MP412-11-2019-2-3/00000.jpg',\n",
       " '/home/mvlab/Downloads/dataset/P-DESTRE/videos/12-11-2019-2-3.MP412-11-2019-2-3/01350.jpg',\n",
       " '/home/mvlab/Downloads/dataset/P-DESTRE/videos/12-11-2019-2-3.MP412-11-2019-2-3/01200.jpg',\n",
       " '/home/mvlab/Downloads/dataset/P-DESTRE/videos/12-11-2019-2-3.MP412-11-2019-2-3/00900.jpg',\n",
       " '/home/mvlab/Downloads/dataset/P-DESTRE/videos/12-11-2019-2-3.MP412-11-2019-2-3/00150.jpg',\n",
       " '/home/mvlab/Downloads/dataset/P-DESTRE/videos/12-11-2019-2-3.MP412-11-2019-2-3/00300.jpg',\n",
       " '/home/mvlab/Downloads/dataset/P-DESTRE/videos/12-11-2019-2-3.MP412-11-2019-2-3/00600.jpg',\n",
       " '/home/mvlab/Downloads/dataset/P-DESTRE/videos/14-11-2019-1-1.MP414-11-2019-1-1/00450.jpg',\n",
       " '/home/mvlab/Downloads/dataset/P-DESTRE/videos/14-11-2019-1-1.MP414-11-2019-1-1/00000.jpg',\n",
       " '/home/mvlab/Downloads/dataset/P-DESTRE/videos/14-11-2019-1-1.MP414-11-2019-1-1/00150.jpg',\n",
       " '/home/mvlab/Downloads/dataset/P-DESTRE/videos/14-11-2019-1-1.MP414-11-2019-1-1/00300.jpg',\n",
       " '/home/mvlab/Downloads/dataset/P-DESTRE/videos/14-11-2019-1-1.MP414-11-2019-1-1/00600.jpg',\n",
       " '/home/mvlab/Downloads/dataset/P-DESTRE/videos/14-11-2019-2-2.MP414-11-2019-2-2/01050.jpg',\n",
       " '/home/mvlab/Downloads/dataset/P-DESTRE/videos/14-11-2019-2-2.MP414-11-2019-2-2/01800.jpg',\n",
       " '/home/mvlab/Downloads/dataset/P-DESTRE/videos/14-11-2019-2-2.MP414-11-2019-2-2/01500.jpg',\n",
       " '/home/mvlab/Downloads/dataset/P-DESTRE/videos/14-11-2019-2-2.MP414-11-2019-2-2/00450.jpg',\n",
       " '/home/mvlab/Downloads/dataset/P-DESTRE/videos/14-11-2019-2-2.MP414-11-2019-2-2/00750.jpg',\n",
       " '/home/mvlab/Downloads/dataset/P-DESTRE/videos/14-11-2019-2-2.MP414-11-2019-2-2/00000.jpg',\n",
       " '/home/mvlab/Downloads/dataset/P-DESTRE/videos/14-11-2019-2-2.MP414-11-2019-2-2/01350.jpg',\n",
       " '/home/mvlab/Downloads/dataset/P-DESTRE/videos/14-11-2019-2-2.MP414-11-2019-2-2/01200.jpg',\n",
       " '/home/mvlab/Downloads/dataset/P-DESTRE/videos/14-11-2019-2-2.MP414-11-2019-2-2/00900.jpg',\n",
       " '/home/mvlab/Downloads/dataset/P-DESTRE/videos/14-11-2019-2-2.MP414-11-2019-2-2/00150.jpg',\n",
       " '/home/mvlab/Downloads/dataset/P-DESTRE/videos/14-11-2019-2-2.MP414-11-2019-2-2/00300.jpg',\n",
       " '/home/mvlab/Downloads/dataset/P-DESTRE/videos/14-11-2019-2-2.MP414-11-2019-2-2/01650.jpg',\n",
       " '/home/mvlab/Downloads/dataset/P-DESTRE/videos/14-11-2019-2-2.MP414-11-2019-2-2/00600.jpg',\n",
       " '/home/mvlab/Downloads/dataset/P-DESTRE/videos/11-11-2019-2-2.MP411-11-2019-2-2/01050.jpg',\n",
       " '/home/mvlab/Downloads/dataset/P-DESTRE/videos/11-11-2019-2-2.MP411-11-2019-2-2/01800.jpg',\n",
       " '/home/mvlab/Downloads/dataset/P-DESTRE/videos/11-11-2019-2-2.MP411-11-2019-2-2/01500.jpg',\n",
       " '/home/mvlab/Downloads/dataset/P-DESTRE/videos/11-11-2019-2-2.MP411-11-2019-2-2/00450.jpg',\n",
       " '/home/mvlab/Downloads/dataset/P-DESTRE/videos/11-11-2019-2-2.MP411-11-2019-2-2/00750.jpg',\n",
       " '/home/mvlab/Downloads/dataset/P-DESTRE/videos/11-11-2019-2-2.MP411-11-2019-2-2/00000.jpg',\n",
       " '/home/mvlab/Downloads/dataset/P-DESTRE/videos/11-11-2019-2-2.MP411-11-2019-2-2/01350.jpg',\n",
       " '/home/mvlab/Downloads/dataset/P-DESTRE/videos/11-11-2019-2-2.MP411-11-2019-2-2/01200.jpg',\n",
       " '/home/mvlab/Downloads/dataset/P-DESTRE/videos/11-11-2019-2-2.MP411-11-2019-2-2/00900.jpg',\n",
       " '/home/mvlab/Downloads/dataset/P-DESTRE/videos/11-11-2019-2-2.MP411-11-2019-2-2/00150.jpg',\n",
       " '/home/mvlab/Downloads/dataset/P-DESTRE/videos/11-11-2019-2-2.MP411-11-2019-2-2/00300.jpg',\n",
       " '/home/mvlab/Downloads/dataset/P-DESTRE/videos/11-11-2019-2-2.MP411-11-2019-2-2/01650.jpg',\n",
       " '/home/mvlab/Downloads/dataset/P-DESTRE/videos/11-11-2019-2-2.MP411-11-2019-2-2/00600.jpg',\n",
       " '/home/mvlab/Downloads/dataset/P-DESTRE/videos/13-11-2019-4-3.MP413-11-2019-4-3/01050.jpg',\n",
       " '/home/mvlab/Downloads/dataset/P-DESTRE/videos/13-11-2019-4-3.MP413-11-2019-4-3/01800.jpg',\n",
       " '/home/mvlab/Downloads/dataset/P-DESTRE/videos/13-11-2019-4-3.MP413-11-2019-4-3/01500.jpg',\n",
       " '/home/mvlab/Downloads/dataset/P-DESTRE/videos/13-11-2019-4-3.MP413-11-2019-4-3/00450.jpg',\n",
       " '/home/mvlab/Downloads/dataset/P-DESTRE/videos/13-11-2019-4-3.MP413-11-2019-4-3/00750.jpg',\n",
       " '/home/mvlab/Downloads/dataset/P-DESTRE/videos/13-11-2019-4-3.MP413-11-2019-4-3/00000.jpg',\n",
       " '/home/mvlab/Downloads/dataset/P-DESTRE/videos/13-11-2019-4-3.MP413-11-2019-4-3/01350.jpg',\n",
       " '/home/mvlab/Downloads/dataset/P-DESTRE/videos/13-11-2019-4-3.MP413-11-2019-4-3/01200.jpg',\n",
       " '/home/mvlab/Downloads/dataset/P-DESTRE/videos/13-11-2019-4-3.MP413-11-2019-4-3/00900.jpg',\n",
       " '/home/mvlab/Downloads/dataset/P-DESTRE/videos/13-11-2019-4-3.MP413-11-2019-4-3/00150.jpg',\n",
       " '/home/mvlab/Downloads/dataset/P-DESTRE/videos/13-11-2019-4-3.MP413-11-2019-4-3/00300.jpg',\n",
       " '/home/mvlab/Downloads/dataset/P-DESTRE/videos/13-11-2019-4-3.MP413-11-2019-4-3/01650.jpg',\n",
       " '/home/mvlab/Downloads/dataset/P-DESTRE/videos/13-11-2019-4-3.MP413-11-2019-4-3/00600.jpg',\n",
       " '/home/mvlab/Downloads/dataset/P-DESTRE/videos/12-11-2019-3-3.MP412-11-2019-3-3/01050.jpg',\n",
       " '/home/mvlab/Downloads/dataset/P-DESTRE/videos/12-11-2019-3-3.MP412-11-2019-3-3/01800.jpg',\n",
       " '/home/mvlab/Downloads/dataset/P-DESTRE/videos/12-11-2019-3-3.MP412-11-2019-3-3/01500.jpg',\n",
       " '/home/mvlab/Downloads/dataset/P-DESTRE/videos/12-11-2019-3-3.MP412-11-2019-3-3/00450.jpg',\n",
       " '/home/mvlab/Downloads/dataset/P-DESTRE/videos/12-11-2019-3-3.MP412-11-2019-3-3/00750.jpg',\n",
       " '/home/mvlab/Downloads/dataset/P-DESTRE/videos/12-11-2019-3-3.MP412-11-2019-3-3/00000.jpg',\n",
       " '/home/mvlab/Downloads/dataset/P-DESTRE/videos/12-11-2019-3-3.MP412-11-2019-3-3/01350.jpg',\n",
       " '/home/mvlab/Downloads/dataset/P-DESTRE/videos/12-11-2019-3-3.MP412-11-2019-3-3/01200.jpg',\n",
       " '/home/mvlab/Downloads/dataset/P-DESTRE/videos/12-11-2019-3-3.MP412-11-2019-3-3/00900.jpg',\n",
       " '/home/mvlab/Downloads/dataset/P-DESTRE/videos/12-11-2019-3-3.MP412-11-2019-3-3/00150.jpg',\n",
       " '/home/mvlab/Downloads/dataset/P-DESTRE/videos/12-11-2019-3-3.MP412-11-2019-3-3/00300.jpg',\n",
       " '/home/mvlab/Downloads/dataset/P-DESTRE/videos/12-11-2019-3-3.MP412-11-2019-3-3/01650.jpg',\n",
       " '/home/mvlab/Downloads/dataset/P-DESTRE/videos/12-11-2019-3-3.MP412-11-2019-3-3/00600.jpg',\n",
       " '/home/mvlab/Downloads/dataset/P-DESTRE/videos/13-11-2019-4-1.MP413-11-2019-4-1/01050.jpg',\n",
       " '/home/mvlab/Downloads/dataset/P-DESTRE/videos/13-11-2019-4-1.MP413-11-2019-4-1/00450.jpg',\n",
       " '/home/mvlab/Downloads/dataset/P-DESTRE/videos/13-11-2019-4-1.MP413-11-2019-4-1/00750.jpg',\n",
       " '/home/mvlab/Downloads/dataset/P-DESTRE/videos/13-11-2019-4-1.MP413-11-2019-4-1/00000.jpg',\n",
       " '/home/mvlab/Downloads/dataset/P-DESTRE/videos/13-11-2019-4-1.MP413-11-2019-4-1/00900.jpg',\n",
       " '/home/mvlab/Downloads/dataset/P-DESTRE/videos/13-11-2019-4-1.MP413-11-2019-4-1/00150.jpg',\n",
       " '/home/mvlab/Downloads/dataset/P-DESTRE/videos/13-11-2019-4-1.MP413-11-2019-4-1/00300.jpg',\n",
       " '/home/mvlab/Downloads/dataset/P-DESTRE/videos/13-11-2019-4-1.MP413-11-2019-4-1/00600.jpg',\n",
       " '/home/mvlab/Downloads/dataset/P-DESTRE/videos/13-11-2019-2-3.MP413-11-2019-2-3/01050.jpg',\n",
       " '/home/mvlab/Downloads/dataset/P-DESTRE/videos/13-11-2019-2-3.MP413-11-2019-2-3/01950.jpg',\n",
       " '/home/mvlab/Downloads/dataset/P-DESTRE/videos/13-11-2019-2-3.MP413-11-2019-2-3/01800.jpg',\n",
       " '/home/mvlab/Downloads/dataset/P-DESTRE/videos/13-11-2019-2-3.MP413-11-2019-2-3/01500.jpg',\n",
       " '/home/mvlab/Downloads/dataset/P-DESTRE/videos/13-11-2019-2-3.MP413-11-2019-2-3/00450.jpg',\n",
       " '/home/mvlab/Downloads/dataset/P-DESTRE/videos/13-11-2019-2-3.MP413-11-2019-2-3/00750.jpg',\n",
       " '/home/mvlab/Downloads/dataset/P-DESTRE/videos/13-11-2019-2-3.MP413-11-2019-2-3/00000.jpg',\n",
       " '/home/mvlab/Downloads/dataset/P-DESTRE/videos/13-11-2019-2-3.MP413-11-2019-2-3/01350.jpg',\n",
       " '/home/mvlab/Downloads/dataset/P-DESTRE/videos/13-11-2019-2-3.MP413-11-2019-2-3/01200.jpg',\n",
       " '/home/mvlab/Downloads/dataset/P-DESTRE/videos/13-11-2019-2-3.MP413-11-2019-2-3/00900.jpg',\n",
       " '/home/mvlab/Downloads/dataset/P-DESTRE/videos/13-11-2019-2-3.MP413-11-2019-2-3/02100.jpg',\n",
       " '/home/mvlab/Downloads/dataset/P-DESTRE/videos/13-11-2019-2-3.MP413-11-2019-2-3/00150.jpg',\n",
       " '/home/mvlab/Downloads/dataset/P-DESTRE/videos/13-11-2019-2-3.MP413-11-2019-2-3/02250.jpg',\n",
       " '/home/mvlab/Downloads/dataset/P-DESTRE/videos/13-11-2019-2-3.MP413-11-2019-2-3/00300.jpg',\n",
       " '/home/mvlab/Downloads/dataset/P-DESTRE/videos/13-11-2019-2-3.MP413-11-2019-2-3/01650.jpg',\n",
       " '/home/mvlab/Downloads/dataset/P-DESTRE/videos/13-11-2019-2-3.MP413-11-2019-2-3/00600.jpg',\n",
       " '/home/mvlab/Downloads/dataset/P-DESTRE/videos/10-07-2019-1-3.MP410-07-2019-1-3/00450.jpg',\n",
       " '/home/mvlab/Downloads/dataset/P-DESTRE/videos/10-07-2019-1-3.MP410-07-2019-1-3/00000.jpg',\n",
       " '/home/mvlab/Downloads/dataset/P-DESTRE/videos/10-07-2019-1-3.MP410-07-2019-1-3/00150.jpg',\n",
       " '/home/mvlab/Downloads/dataset/P-DESTRE/videos/10-07-2019-1-3.MP410-07-2019-1-3/00300.jpg',\n",
       " '/home/mvlab/Downloads/dataset/P-DESTRE/videos/10-07-2019-1-3.MP410-07-2019-1-3/00600.jpg',\n",
       " '/home/mvlab/Downloads/dataset/P-DESTRE/videos/13-11-2019-1-2.MP413-11-2019-1-2/01050.jpg',\n",
       " '/home/mvlab/Downloads/dataset/P-DESTRE/videos/13-11-2019-1-2.MP413-11-2019-1-2/01950.jpg',\n",
       " '/home/mvlab/Downloads/dataset/P-DESTRE/videos/13-11-2019-1-2.MP413-11-2019-1-2/01800.jpg',\n",
       " '/home/mvlab/Downloads/dataset/P-DESTRE/videos/13-11-2019-1-2.MP413-11-2019-1-2/01500.jpg',\n",
       " '/home/mvlab/Downloads/dataset/P-DESTRE/videos/13-11-2019-1-2.MP413-11-2019-1-2/00450.jpg',\n",
       " '/home/mvlab/Downloads/dataset/P-DESTRE/videos/13-11-2019-1-2.MP413-11-2019-1-2/00750.jpg',\n",
       " '/home/mvlab/Downloads/dataset/P-DESTRE/videos/13-11-2019-1-2.MP413-11-2019-1-2/00000.jpg',\n",
       " '/home/mvlab/Downloads/dataset/P-DESTRE/videos/13-11-2019-1-2.MP413-11-2019-1-2/01350.jpg',\n",
       " '/home/mvlab/Downloads/dataset/P-DESTRE/videos/13-11-2019-1-2.MP413-11-2019-1-2/01200.jpg',\n",
       " '/home/mvlab/Downloads/dataset/P-DESTRE/videos/13-11-2019-1-2.MP413-11-2019-1-2/00900.jpg',\n",
       " '/home/mvlab/Downloads/dataset/P-DESTRE/videos/13-11-2019-1-2.MP413-11-2019-1-2/00150.jpg',\n",
       " '/home/mvlab/Downloads/dataset/P-DESTRE/videos/13-11-2019-1-2.MP413-11-2019-1-2/00300.jpg',\n",
       " '/home/mvlab/Downloads/dataset/P-DESTRE/videos/13-11-2019-1-2.MP413-11-2019-1-2/01650.jpg',\n",
       " '/home/mvlab/Downloads/dataset/P-DESTRE/videos/13-11-2019-1-2.MP413-11-2019-1-2/00600.jpg',\n",
       " '/home/mvlab/Downloads/dataset/P-DESTRE/videos/10-07-2019-1-1.MP410-07-2019-1-1/00450.jpg',\n",
       " '/home/mvlab/Downloads/dataset/P-DESTRE/videos/10-07-2019-1-1.MP410-07-2019-1-1/00750.jpg',\n",
       " '/home/mvlab/Downloads/dataset/P-DESTRE/videos/10-07-2019-1-1.MP410-07-2019-1-1/00000.jpg',\n",
       " '/home/mvlab/Downloads/dataset/P-DESTRE/videos/10-07-2019-1-1.MP410-07-2019-1-1/00150.jpg',\n",
       " '/home/mvlab/Downloads/dataset/P-DESTRE/videos/10-07-2019-1-1.MP410-07-2019-1-1/00300.jpg',\n",
       " '/home/mvlab/Downloads/dataset/P-DESTRE/videos/10-07-2019-1-1.MP410-07-2019-1-1/00600.jpg',\n",
       " '/home/mvlab/Downloads/dataset/P-DESTRE/videos/13-11-2019-3-5.MP413-11-2019-3-5/01050.jpg',\n",
       " '/home/mvlab/Downloads/dataset/P-DESTRE/videos/13-11-2019-3-5.MP413-11-2019-3-5/00450.jpg',\n",
       " '/home/mvlab/Downloads/dataset/P-DESTRE/videos/13-11-2019-3-5.MP413-11-2019-3-5/00750.jpg',\n",
       " '/home/mvlab/Downloads/dataset/P-DESTRE/videos/13-11-2019-3-5.MP413-11-2019-3-5/00000.jpg',\n",
       " '/home/mvlab/Downloads/dataset/P-DESTRE/videos/13-11-2019-3-5.MP413-11-2019-3-5/00900.jpg',\n",
       " '/home/mvlab/Downloads/dataset/P-DESTRE/videos/13-11-2019-3-5.MP413-11-2019-3-5/00150.jpg',\n",
       " '/home/mvlab/Downloads/dataset/P-DESTRE/videos/13-11-2019-3-5.MP413-11-2019-3-5/00300.jpg',\n",
       " '/home/mvlab/Downloads/dataset/P-DESTRE/videos/13-11-2019-3-5.MP413-11-2019-3-5/00600.jpg']"
      ]
     },
     "execution_count": 20,
     "metadata": {},
     "output_type": "execute_result"
    }
   ],
   "source": [
    "glob(forder_pedestrian_video + '*/*.jpg')"
   ]
  },
  {
   "cell_type": "code",
   "execution_count": 16,
   "metadata": {},
   "outputs": [
    {
     "data": {
      "text/plain": [
       "('/home/mvlab/Downloads/dataset/P-DESTRE/annotation/08-11-2019-1-1.txt',\n",
       " '/home/mvlab/Downloads/dataset/P-DESTRE/videos/08-11-2019-1-1.MP4',\n",
       " (12564, 26))"
      ]
     },
     "execution_count": 16,
     "metadata": {},
     "output_type": "execute_result"
    }
   ],
   "source": [
    "i = 0\n",
    "anntation_path = list_annotation_path[i]\n",
    "video_path = list_video_path[i]\n",
    "df = pd.read_csv(anntation_path, header=None, names=columns)\n",
    "anntation_path, video_path, df.shape"
   ]
  },
  {
   "cell_type": "code",
   "execution_count": 34,
   "metadata": {
    "scrolled": true
   },
   "outputs": [
    {
     "data": {
      "text/plain": [
       "(1477385, 28)"
      ]
     },
     "execution_count": 34,
     "metadata": {},
     "output_type": "execute_result"
    }
   ],
   "source": [
    "def get_dataframe(list_annotation_path):\n",
    "    list_df = []\n",
    "    for i in range(len(list_annotation_path)):\n",
    "        path_anno = list_annotation_path[i]\n",
    "        anno_file_name = path_anno.split(os.sep)[-1]\n",
    "        anno_file_name = anno_file_name[:-4]\n",
    "        df = pd.read_csv(path_anno, header=None, names=columns)\n",
    "        df['video'] = anno_file_name\n",
    "        list_df.append(df)\n",
    "        #print(i, anno_file_name, df.shape)\n",
    "    \n",
    "    df_all = pd.concat(list_df, axis=0)\n",
    "    df_all = df_all.reset_index()\n",
    "    return df_all \n",
    "\n",
    "df_all = get_dataframe(list_annotation_path)    \n",
    "df_all.shape"
   ]
  },
  {
   "cell_type": "code",
   "execution_count": 35,
   "metadata": {
    "scrolled": true
   },
   "outputs": [
    {
     "data": {
      "text/html": [
       "<div>\n",
       "<style scoped>\n",
       "    .dataframe tbody tr th:only-of-type {\n",
       "        vertical-align: middle;\n",
       "    }\n",
       "\n",
       "    .dataframe tbody tr th {\n",
       "        vertical-align: top;\n",
       "    }\n",
       "\n",
       "    .dataframe thead th {\n",
       "        text-align: right;\n",
       "    }\n",
       "</style>\n",
       "<table border=\"1\" class=\"dataframe\">\n",
       "  <thead>\n",
       "    <tr style=\"text-align: right;\">\n",
       "      <th></th>\n",
       "      <th>index</th>\n",
       "      <th>frame</th>\n",
       "      <th>ID</th>\n",
       "      <th>x</th>\n",
       "      <th>y</th>\n",
       "      <th>w</th>\n",
       "      <th>h</th>\n",
       "      <th>head</th>\n",
       "      <th>yaw</th>\n",
       "      <th>pitch</th>\n",
       "      <th>...</th>\n",
       "      <th>beard</th>\n",
       "      <th>mustache</th>\n",
       "      <th>glasses</th>\n",
       "      <th>head accessories</th>\n",
       "      <th>upper cloth</th>\n",
       "      <th>lower cloth</th>\n",
       "      <th>feet</th>\n",
       "      <th>accessories</th>\n",
       "      <th>action</th>\n",
       "      <th>video</th>\n",
       "    </tr>\n",
       "  </thead>\n",
       "  <tbody>\n",
       "    <tr>\n",
       "      <th>0</th>\n",
       "      <td>0</td>\n",
       "      <td>3</td>\n",
       "      <td>-1</td>\n",
       "      <td>2071.6</td>\n",
       "      <td>975.06</td>\n",
       "      <td>96.16</td>\n",
       "      <td>221.94</td>\n",
       "      <td>-1</td>\n",
       "      <td>-1.000</td>\n",
       "      <td>-1.000</td>\n",
       "      <td>...</td>\n",
       "      <td>1</td>\n",
       "      <td>0</td>\n",
       "      <td>0</td>\n",
       "      <td>3</td>\n",
       "      <td>8</td>\n",
       "      <td>2</td>\n",
       "      <td>0</td>\n",
       "      <td>6</td>\n",
       "      <td>0</td>\n",
       "      <td>08-11-2019-1-1</td>\n",
       "    </tr>\n",
       "    <tr>\n",
       "      <th>1</th>\n",
       "      <td>1</td>\n",
       "      <td>3</td>\n",
       "      <td>205</td>\n",
       "      <td>1806.0</td>\n",
       "      <td>956.88</td>\n",
       "      <td>81.97</td>\n",
       "      <td>250.24</td>\n",
       "      <td>1</td>\n",
       "      <td>2.295</td>\n",
       "      <td>-32.574</td>\n",
       "      <td>...</td>\n",
       "      <td>0</td>\n",
       "      <td>0</td>\n",
       "      <td>2</td>\n",
       "      <td>3</td>\n",
       "      <td>8</td>\n",
       "      <td>0</td>\n",
       "      <td>0</td>\n",
       "      <td>1</td>\n",
       "      <td>0</td>\n",
       "      <td>08-11-2019-1-1</td>\n",
       "    </tr>\n",
       "    <tr>\n",
       "      <th>2</th>\n",
       "      <td>2</td>\n",
       "      <td>3</td>\n",
       "      <td>180</td>\n",
       "      <td>1904.5</td>\n",
       "      <td>967.00</td>\n",
       "      <td>87.08</td>\n",
       "      <td>245.00</td>\n",
       "      <td>1</td>\n",
       "      <td>2.295</td>\n",
       "      <td>-32.574</td>\n",
       "      <td>...</td>\n",
       "      <td>0</td>\n",
       "      <td>0</td>\n",
       "      <td>2</td>\n",
       "      <td>3</td>\n",
       "      <td>8</td>\n",
       "      <td>0</td>\n",
       "      <td>4</td>\n",
       "      <td>1</td>\n",
       "      <td>0</td>\n",
       "      <td>08-11-2019-1-1</td>\n",
       "    </tr>\n",
       "    <tr>\n",
       "      <th>3</th>\n",
       "      <td>3</td>\n",
       "      <td>3</td>\n",
       "      <td>-1</td>\n",
       "      <td>1775.4</td>\n",
       "      <td>941.00</td>\n",
       "      <td>54.12</td>\n",
       "      <td>222.00</td>\n",
       "      <td>-1</td>\n",
       "      <td>-1.000</td>\n",
       "      <td>-1.000</td>\n",
       "      <td>...</td>\n",
       "      <td>1</td>\n",
       "      <td>1</td>\n",
       "      <td>2</td>\n",
       "      <td>3</td>\n",
       "      <td>8</td>\n",
       "      <td>2</td>\n",
       "      <td>4</td>\n",
       "      <td>6</td>\n",
       "      <td>0</td>\n",
       "      <td>08-11-2019-1-1</td>\n",
       "    </tr>\n",
       "    <tr>\n",
       "      <th>4</th>\n",
       "      <td>4</td>\n",
       "      <td>4</td>\n",
       "      <td>-1</td>\n",
       "      <td>2071.3</td>\n",
       "      <td>975.19</td>\n",
       "      <td>96.17</td>\n",
       "      <td>221.81</td>\n",
       "      <td>-1</td>\n",
       "      <td>-1.000</td>\n",
       "      <td>-1.000</td>\n",
       "      <td>...</td>\n",
       "      <td>1</td>\n",
       "      <td>0</td>\n",
       "      <td>0</td>\n",
       "      <td>3</td>\n",
       "      <td>8</td>\n",
       "      <td>2</td>\n",
       "      <td>0</td>\n",
       "      <td>6</td>\n",
       "      <td>0</td>\n",
       "      <td>08-11-2019-1-1</td>\n",
       "    </tr>\n",
       "  </tbody>\n",
       "</table>\n",
       "<p>5 rows × 28 columns</p>\n",
       "</div>"
      ],
      "text/plain": [
       "   index  frame   ID       x       y      w       h  head    yaw   pitch  ...  \\\n",
       "0      0      3   -1  2071.6  975.06  96.16  221.94    -1 -1.000  -1.000  ...   \n",
       "1      1      3  205  1806.0  956.88  81.97  250.24     1  2.295 -32.574  ...   \n",
       "2      2      3  180  1904.5  967.00  87.08  245.00     1  2.295 -32.574  ...   \n",
       "3      3      3   -1  1775.4  941.00  54.12  222.00    -1 -1.000  -1.000  ...   \n",
       "4      4      4   -1  2071.3  975.19  96.17  221.81    -1 -1.000  -1.000  ...   \n",
       "\n",
       "   beard  mustache  glasses  head accessories  upper cloth  lower cloth  feet  \\\n",
       "0      1         0        0                 3            8            2     0   \n",
       "1      0         0        2                 3            8            0     0   \n",
       "2      0         0        2                 3            8            0     4   \n",
       "3      1         1        2                 3            8            2     4   \n",
       "4      1         0        0                 3            8            2     0   \n",
       "\n",
       "   accessories  action           video  \n",
       "0            6       0  08-11-2019-1-1  \n",
       "1            1       0  08-11-2019-1-1  \n",
       "2            1       0  08-11-2019-1-1  \n",
       "3            6       0  08-11-2019-1-1  \n",
       "4            6       0  08-11-2019-1-1  \n",
       "\n",
       "[5 rows x 28 columns]"
      ]
     },
     "execution_count": 35,
     "metadata": {},
     "output_type": "execute_result"
    }
   ],
   "source": [
    "df_all.head()"
   ]
  },
  {
   "cell_type": "code",
   "execution_count": 36,
   "metadata": {},
   "outputs": [
    {
     "data": {
      "text/plain": [
       "0"
      ]
     },
     "execution_count": 36,
     "metadata": {},
     "output_type": "execute_result"
    }
   ],
   "source": [
    "df.isna().sum().sum()"
   ]
  },
  {
   "cell_type": "code",
   "execution_count": 37,
   "metadata": {},
   "outputs": [
    {
     "data": {
      "text/plain": [
       "9.482264150943395"
      ]
     },
     "execution_count": 37,
     "metadata": {},
     "output_type": "execute_result"
    }
   ],
   "source": [
    "len(df)/df['frame'].nunique()"
   ]
  },
  {
   "cell_type": "code",
   "execution_count": 16,
   "metadata": {
    "scrolled": true
   },
   "outputs": [
    {
     "data": {
      "text/plain": [
       "frame                1606\n",
       "ID                     34\n",
       "x                   13353\n",
       "y                    8818\n",
       "w                   11053\n",
       "h                   15534\n",
       "head                    2\n",
       "yaw                  7307\n",
       "pitch                6948\n",
       "roll                 7090\n",
       "gender                  2\n",
       "age                     2\n",
       "height                  2\n",
       "body volume             2\n",
       "ethnicity               1\n",
       "hair color              1\n",
       "hairstyle               4\n",
       "beard                   2\n",
       "mustache                2\n",
       "glasses                 2\n",
       "head accessories        1\n",
       "upper cloth             5\n",
       "lower cloth             4\n",
       "feet                    2\n",
       "accessories             2\n",
       "action                  1\n",
       "dtype: int64"
      ]
     },
     "execution_count": 16,
     "metadata": {},
     "output_type": "execute_result"
    }
   ],
   "source": [
    "df.nunique()"
   ]
  },
  {
   "cell_type": "code",
   "execution_count": 17,
   "metadata": {},
   "outputs": [
    {
     "data": {
      "text/plain": [
       "(21, 20)"
      ]
     },
     "execution_count": 17,
     "metadata": {},
     "output_type": "execute_result"
    }
   ],
   "source": [
    "feature_column_k = [class_k, 2, 1, 1, 1, 2, 9, 5, 4, 5, 7, 6, 3, 3, 4, 5, 12, 10, 7, 8, 14]\n",
    "len(feature_column_k), len(columns[column_feature_index:])"
   ]
  },
  {
   "cell_type": "code",
   "execution_count": 18,
   "metadata": {},
   "outputs": [
    {
     "data": {
      "text/plain": [
       "(array([0, 1]), array([2, 3]), array([2, 1]), array([1, 0]))"
      ]
     },
     "execution_count": 18,
     "metadata": {},
     "output_type": "execute_result"
    }
   ],
   "source": [
    "df['gender'].unique(), df['age'].unique(), df['height'].unique(), df['body volume'].unique()"
   ]
  },
  {
   "cell_type": "code",
   "execution_count": 19,
   "metadata": {},
   "outputs": [
    {
     "data": {
      "text/plain": [
       "(array([1, 4, 2, 3]), array([0, 1]), array([0, 1]), array([2, 0]))"
      ]
     },
     "execution_count": 19,
     "metadata": {},
     "output_type": "execute_result"
    }
   ],
   "source": [
    "df['hairstyle'].unique(), df['beard'].unique(), df['mustache'].unique(), df['glasses'].unique()"
   ]
  },
  {
   "cell_type": "code",
   "execution_count": 20,
   "metadata": {},
   "outputs": [
    {
     "data": {
      "text/plain": [
       "(array([3]), array([0]), array([6, 1]), array([0]))"
      ]
     },
     "execution_count": 20,
     "metadata": {},
     "output_type": "execute_result"
    }
   ],
   "source": [
    "df['head accessories'].unique(), df['action'].unique(), df['accessories'].unique(), df['action'].unique()"
   ]
  },
  {
   "cell_type": "code",
   "execution_count": 21,
   "metadata": {
    "scrolled": false
   },
   "outputs": [
    {
     "data": {
      "image/png": "[encoded data removed]",
      "text/plain": [
       "<Figure size 432x288 with 1 Axes>"
      ]
     },
     "metadata": {
      "needs_background": "light"
     },
     "output_type": "display_data"
    }
   ],
   "source": [
    "ax = df['frame'].plot()"
   ]
  },
  {
   "cell_type": "code",
   "execution_count": 22,
   "metadata": {},
   "outputs": [
    {
     "data": {
      "image/png": "[encoded data removed]",
      "text/plain": [
       "<Figure size 432x288 with 2 Axes>"
      ]
     },
     "metadata": {
      "needs_background": "light"
     },
     "output_type": "display_data"
    }
   ],
   "source": [
    "ax = df[['w', 'h']].hist()"
   ]
  },
  {
   "cell_type": "code",
   "execution_count": 23,
   "metadata": {},
   "outputs": [
    {
     "data": {
      "image/png": "[encoded data removed]",
      "text/plain": [
       "<Figure size 432x288 with 1 Axes>"
      ]
     },
     "metadata": {
      "needs_background": "light"
     },
     "output_type": "display_data"
    }
   ],
   "source": [
    "ax = df['ID'][df['ID']>0].hist(bins=100)"
   ]
  },
  {
   "cell_type": "code",
   "execution_count": 24,
   "metadata": {},
   "outputs": [
    {
     "data": {
      "image/png": "[encoded data removed]",
      "text/plain": [
       "<Figure size 432x288 with 1 Axes>"
      ]
     },
     "metadata": {
      "needs_background": "light"
     },
     "output_type": "display_data"
    }
   ],
   "source": [
    "ax = df['yaw'].hist()"
   ]
  },
  {
   "cell_type": "code",
   "execution_count": 25,
   "metadata": {},
   "outputs": [
    {
     "data": {
      "image/png": "[encoded data removed]",
      "text/plain": [
       "<Figure size 432x288 with 1 Axes>"
      ]
     },
     "metadata": {
      "needs_background": "light"
     },
     "output_type": "display_data"
    }
   ],
   "source": [
    "ax = df['pitch'].hist()"
   ]
  },
  {
   "cell_type": "code",
   "execution_count": 26,
   "metadata": {
    "scrolled": true
   },
   "outputs": [
    {
     "data": {
      "image/png": "[encoded data removed]",
      "text/plain": [
       "<Figure size 432x288 with 1 Axes>"
      ]
     },
     "metadata": {
      "needs_background": "light"
     },
     "output_type": "display_data"
    }
   ],
   "source": [
    "ax = df['roll'].hist()"
   ]
  },
  {
   "cell_type": "code",
   "execution_count": 27,
   "metadata": {},
   "outputs": [
    {
     "data": {
      "image/png": "[encoded data removed]",
      "text/plain": [
       "<Figure size 432x288 with 1 Axes>"
      ]
     },
     "metadata": {
      "needs_background": "light"
     },
     "output_type": "display_data"
    }
   ],
   "source": [
    "ax = df['action'].hist()"
   ]
  },
  {
   "cell_type": "code",
   "execution_count": 28,
   "metadata": {},
   "outputs": [
    {
     "data": {
      "text/plain": [
       "1268    20\n",
       "1234    20\n",
       "1236    20\n",
       "1238    20\n",
       "1240    20\n",
       "        ..\n",
       "1604     3\n",
       "1492     3\n",
       "1602     3\n",
       "1603     3\n",
       "1496     3\n",
       "Name: frame, Length: 1606, dtype: int64"
      ]
     },
     "execution_count": 28,
     "metadata": {},
     "output_type": "execute_result"
    }
   ],
   "source": [
    "df['frame'].value_counts()"
   ]
  },
  {
   "cell_type": "code",
   "execution_count": 29,
   "metadata": {},
   "outputs": [],
   "source": [
    "def video_to_frames(input_loc, output_loc):\n",
    "    \"\"\"Function to extract frames from input video file\n",
    "    and save them as separate frames in an output directory.\n",
    "    Args:\n",
    "        input_loc: Input video file.\n",
    "        output_loc: Output directory to save the frames.\n",
    "    Returns:\n",
    "        None\n",
    "    \"\"\"\n",
    "    try:\n",
    "        os.mkdir(output_loc)\n",
    "    except OSError:\n",
    "        pass\n",
    "    # Log the time\n",
    "    time_start = time.time()\n",
    "    # Start capturing the feed\n",
    "    cap = cv2.VideoCapture(input_loc)\n",
    "    # Find the number of frames\n",
    "    video_length = int(cap.get(cv2.CAP_PROP_FRAME_COUNT)) - 1\n",
    "    print (\"Number of frames: \", video_length)\n",
    "    count = 0\n",
    "    print (\"Converting video..\\n\")\n",
    "    # Start converting the video\n",
    "    while cap.isOpened():\n",
    "        # Extract the frame\n",
    "        ret, frame = cap.read()\n",
    "        # Write the results back to output location.\n",
    "        cv2.imwrite(output_loc + \"/%#05d.jpg\" % (count+1), frame)\n",
    "        count = count + 1\n",
    "        # If there are no more frames left\n",
    "        if count % 100==0:\n",
    "            print('count', video_length, count)\n",
    "        if (count > (video_length-1)):\n",
    "            # Log the time again\n",
    "            time_end = time.time()\n",
    "            # Release the feed\n",
    "            cap.release()\n",
    "            # Print stats\n",
    "            print (\"Done extracting frames.\\n%d frames extracted\" % count)\n",
    "            print (\"It took %d seconds forconversion.\" % (time_end-time_start))\n",
    "            break\n"
   ]
  },
  {
   "cell_type": "code",
   "execution_count": 30,
   "metadata": {},
   "outputs": [
    {
     "data": {
      "text/plain": [
       "'08-11-2019-1-2.MP4'"
      ]
     },
     "execution_count": 30,
     "metadata": {},
     "output_type": "execute_result"
    }
   ],
   "source": [
    "input_loc = video_path\n",
    "file_name = input_loc.split(os.sep)[-1]\n",
    "\n",
    "file_name"
   ]
  },
  {
   "cell_type": "code",
   "execution_count": 31,
   "metadata": {},
   "outputs": [],
   "source": [
    "input_loc = video_path\n",
    "output_loc = forder_pedestrian_images + file_name"
   ]
  },
  {
   "cell_type": "markdown",
   "metadata": {},
   "source": [
    "video_to_frames(input_loc, output_loc)"
   ]
  },
  {
   "cell_type": "code",
   "execution_count": 32,
   "metadata": {},
   "outputs": [],
   "source": [
    "def visualize_detections(image_path, annotation, is_save, figsize=(18, 18), linewidth=1, color=[0, 0, 1]):\n",
    "    \"\"\"Visualize Detections\"\"\"\n",
    "    image = Image.open(image_path)\n",
    "    image = np.array(image, dtype=np.uint8)\n",
    "    img_h, img_w, img_c = image.shape\n",
    "    plt.figure(figsize=figsize)\n",
    "    plt.axis(\"off\")\n",
    "    plt.imshow(image)\n",
    "    ax = plt.gca()\n",
    "    x = annotation[:, 2]\n",
    "    y = annotation[:, 3]\n",
    "    w = annotation[:, 4]\n",
    "    h = annotation[:, 5]\n",
    "    boxes = np.stack((x, y, x+w, y+h), -1)\n",
    "    classes = annotation[:, 1]\n",
    "    features = annotation[:, 7:].astype(np.int)\n",
    "    title = str.format('(%dx%d) %d box' %(img_h, img_w, len(boxes)))\n",
    "    if len(boxes)>0:\n",
    "        boxes_width = boxes[:, 2] - boxes[:, 0]\n",
    "        boxes_height = boxes[:, 3] - boxes[:, 1]\n",
    "        box_min_width = np.min(boxes_width)\n",
    "        box_max_width = np.max(boxes_width)\n",
    "        title = str.format('(%dx%d) %d box, width:%d ~ %d' \n",
    "                           %(img_h, img_w, len(boxes), box_min_width, box_max_width))\n",
    "\n",
    "        for box, cls, feature in zip(boxes, classes, features):\n",
    "            x1, y1, x2, y2 = box        \n",
    "            w, h = x2 - x1, y2 - y1\n",
    "            color = [0,1,0]\n",
    "            patch = plt.Rectangle(\n",
    "                [x1, y1], w, h, fill=False, edgecolor=color, linewidth=linewidth\n",
    "            )\n",
    "            ax.add_patch(patch)\n",
    "            score_txt = int(cls) if cls > -1 else ''\n",
    "            score_txt = str(score_txt)# + str(feature)\n",
    "            ax.text(x1, y1, score_txt, bbox={\"facecolor\": [1,1,0], \"alpha\": 0.4}, clip_box=ax.clipbox, clip_on=True,)\n",
    "    plt.title(title)\n",
    "    if is_save:\n",
    "        print('save', 'image_path', image_path)#save image_path 08-11-2019-1-1.MP4/00303.jpg\n",
    "        path_subfolder = image_path.split(os.sep)[-2]\n",
    "        path_filename = image_path.split(os.sep)[-1]\n",
    "        path_save_folder = 'debug/'#+path_subfolder\n",
    "        if not os.path.isdir(path_save_folder):\n",
    "            os.mkdir(path_save_folder)\n",
    "        \n",
    "        plt.savefig(path_save_folder+ os.sep +path_subfolder +'_'+ path_filename, bbox_inches='tight')    \n",
    "    #else: plt.show()\n",
    "    return ax"
   ]
  },
  {
   "cell_type": "markdown",
   "metadata": {},
   "source": [
    "for i in range(10000):\n",
    "    ax = visualize_frame(i, is_save=True)"
   ]
  },
  {
   "cell_type": "code",
   "execution_count": 33,
   "metadata": {},
   "outputs": [],
   "source": [
    "def crop_object(image_path, annotation):\n",
    "    \"\"\"Visualize Detections\"\"\"\n",
    "    image = Image.open(image_path)\n",
    "    arr = np.array(image, dtype=np.uint8)\n",
    "    img_h, img_w, img_c = arr.shape\n",
    "    \n",
    "    list_x = []\n",
    "    list_y = []\n",
    "        \n",
    "    for i in range(len(annotation)):\n",
    "        annot = annotation[i]                \n",
    "        x = int(annot[2])\n",
    "        y = int(annot[3])\n",
    "        w = int(annot[4])\n",
    "        h = int(annot[5])\n",
    "        \n",
    "        arr_obj = arr[y:y+h, x:x+w]\n",
    "        list_x.append(arr_obj)\n",
    "        list_y.append(annot)\n",
    "        \n",
    "    return list_x, list_y"
   ]
  },
  {
   "cell_type": "code",
   "execution_count": 34,
   "metadata": {},
   "outputs": [],
   "source": [
    "def crop_person_by_id_from_image(path_img, max_m=1e+10, cut_h=256, cut_w=128):\n",
    "    \n",
    "    person_arrs = []\n",
    "    person_labels = []\n",
    "    \n",
    "    video_file_name = path_img.split('/')[-1]\n",
    "    video_file_name_pre = video_file_name.split('.')[0]\n",
    "    path_label = forder_pedestrian_annotation + video_file_name_pre + '.txt'\n",
    "    #print('video_file_name', video_file_name)\n",
    "    #print('label exist', os.path.isfile(path_label), path_label)\n",
    "    df_video = pd.read_csv(path_label, header=None, names=columns)\n",
    "    cond = df_video['ID'] > -1    \n",
    "    df_video_valid = df_video[cond]\n",
    "    print('df_video_valid', len(df_video), len(df_video_valid), video_file_name_pre) \n",
    "    path_images = forder_pedestrian_images + video_file_name + os.sep  \n",
    "    list_imgs = glob(path_images + '*')\n",
    "    list_imgs.sort()\n",
    "    \n",
    "    frame_min = df_video_valid['frame'].min()\n",
    "    frame_max = df_video_valid['frame'].max()    \n",
    "    print('frame_min', frame_min, 'frame_max', frame_max, 'nuniqe ID', df_video_valid['ID'].nunique())\n",
    "    if frame_max > len(list_imgs):\n",
    "        print('frame_max out of bound', frame_max, len(list_imgs))\n",
    "                \n",
    "    for frame in df_video_valid['frame'].unique():\n",
    "        #df_row = list_imgs.iloc[i]\n",
    "        df_frame = df_video_valid[df_video_valid['frame']==frame]\n",
    "        if len(list_imgs) < frame:\n",
    "            break\n",
    "        path_img = list_imgs[frame-1]#new\n",
    "        #print('path_img', frame, len(df_frame))\n",
    "        img = Image.open(path_img)\n",
    "        img_arr = np.array(img)\n",
    "        for j in range(len(df_frame)):\n",
    "            df_row = df_frame.iloc[j]\n",
    "            person_id, x0, y0, w, h = df_row[['ID', 'x', 'y', 'w', 'h']]\n",
    "            x1 = x0 + w\n",
    "            y1 = y0 + h            \n",
    "            img_person_crop = img.crop((x0, y0, x1, y1))\n",
    "            img_person_crop = img_person_crop.resize((cut_w, cut_h))\n",
    "            features = df_row.values[column_feature_index:].astype(np.int)\n",
    "            \n",
    "            person_arrs.append(np.array(img_person_crop))\n",
    "            person_label = np.concatenate((np.reshape(person_id, [1]), features), 0)\n",
    "            person_labels.append(person_label)\n",
    "            #print(features)\n",
    "            #print('df_frame', frame, len(df_frame), person_id)        \n",
    "            if len(person_arrs) % 500==0: \n",
    "                print('len(person_arrs)', len(person_arrs))\n",
    "        if len(person_arrs) >= max_m:\n",
    "            break       \n",
    "    \n",
    "    person_arrs = np.stack(person_arrs)\n",
    "    person_labels = np.stack(person_labels)\n",
    "    print('len', len(person_arrs), len(person_labels), person_arrs.shape, person_labels.shape)\n",
    "    print('nunique ID', len(np.unique(person_labels[:, 0])), np.unique(person_labels[:, 0]))\n",
    "    return df_video, person_arrs, person_labels\n",
    "\n",
    "def crop_person_by_id(video_m, max_m=1e+10, cut_h=256, cut_w=128):\n",
    "    list_img_folder = glob(forder_pedestrian_images+'*')\n",
    "    list_x = []\n",
    "    list_y = []\n",
    "    for i in range(video_m):\n",
    "        path_img = list_img_folder[i]\n",
    "        df_video, person_arrs, person_labels = crop_person_by_id_from_image(path_img, max_m, cut_h, cut_w)\n",
    "        list_x.append(person_arrs)\n",
    "        list_y.append(person_labels)\n",
    "    \n",
    "    x = np.concatenate(list_x, 0)\n",
    "    y = np.concatenate(list_y, 0)\n",
    "    print('x y shape', x.shape, y.shape, len(np.unique(y[:, 0])))\n",
    "    return df_video, x, y"
   ]
  },
  {
   "cell_type": "code",
   "execution_count": 35,
   "metadata": {},
   "outputs": [
    {
     "data": {
      "text/plain": [
       "'/media/mvlab/46FA9CA2FA9C8FB3/dataset/tracking/P-DESTRE/images/'"
      ]
     },
     "execution_count": 35,
     "metadata": {},
     "output_type": "execute_result"
    }
   ],
   "source": [
    "forder_pedestrian_images"
   ]
  },
  {
   "cell_type": "code",
   "execution_count": 36,
   "metadata": {},
   "outputs": [
    {
     "data": {
      "text/plain": [
       "['/media/mvlab/46FA9CA2FA9C8FB3/dataset/tracking/P-DESTRE/images/08-11-2019-1-1.MP4',\n",
       " '/media/mvlab/46FA9CA2FA9C8FB3/dataset/tracking/P-DESTRE/images/08-11-2019-1-2.MP4',\n",
       " '/media/mvlab/46FA9CA2FA9C8FB3/dataset/tracking/P-DESTRE/images/08-11-2019-2-1.MP4',\n",
       " '/media/mvlab/46FA9CA2FA9C8FB3/dataset/tracking/P-DESTRE/images/08-11-2019-2-2.MP4',\n",
       " '/media/mvlab/46FA9CA2FA9C8FB3/dataset/tracking/P-DESTRE/images/10-07-2019-1-1.MP4',\n",
       " '/media/mvlab/46FA9CA2FA9C8FB3/dataset/tracking/P-DESTRE/images/10-07-2019-1-2.MP4',\n",
       " '/media/mvlab/46FA9CA2FA9C8FB3/dataset/tracking/P-DESTRE/images/10-07-2019-1-3.MP4',\n",
       " '/media/mvlab/46FA9CA2FA9C8FB3/dataset/tracking/P-DESTRE/images/10-07-2019-1-4.MP4',\n",
       " '/media/mvlab/46FA9CA2FA9C8FB3/dataset/tracking/P-DESTRE/images/10-07-2019-1-5.MP4',\n",
       " '/media/mvlab/46FA9CA2FA9C8FB3/dataset/tracking/P-DESTRE/images/11-11-2019-1-2.MP4']"
      ]
     },
     "execution_count": 36,
     "metadata": {},
     "output_type": "execute_result"
    }
   ],
   "source": [
    "glob(forder_pedestrian_images+'*')"
   ]
  },
  {
   "cell_type": "code",
   "execution_count": 37,
   "metadata": {},
   "outputs": [
    {
     "data": {
      "text/plain": [
       "'/media/mvlab/46FA9CA2FA9C8FB3/dataset/tracking/P-DESTRE/images/08-11-2019-1-2.MP4'"
      ]
     },
     "execution_count": 37,
     "metadata": {},
     "output_type": "execute_result"
    }
   ],
   "source": [
    "output_loc"
   ]
  },
  {
   "cell_type": "code",
   "execution_count": 38,
   "metadata": {
    "scrolled": true
   },
   "outputs": [
    {
     "name": "stdout",
     "output_type": "stream",
     "text": [
      "df_video_valid 12564 10555 08-11-2019-1-1\n",
      "frame_min 3 frame_max 1327 nuniqe ID 34\n",
      "len(person_arrs) 500\n",
      "len(person_arrs) 1000\n",
      "len(person_arrs) 1500\n",
      "len(person_arrs) 2000\n",
      "len(person_arrs) 2500\n",
      "len(person_arrs) 3000\n",
      "len(person_arrs) 3500\n",
      "len(person_arrs) 4000\n",
      "len(person_arrs) 4500\n",
      "len(person_arrs) 5000\n",
      "len(person_arrs) 5500\n",
      "len(person_arrs) 6000\n",
      "len(person_arrs) 6500\n",
      "len(person_arrs) 7000\n",
      "len(person_arrs) 7500\n",
      "len(person_arrs) 8000\n",
      "len(person_arrs) 8500\n",
      "len(person_arrs) 9000\n",
      "len(person_arrs) 9500\n",
      "len(person_arrs) 10000\n",
      "len(person_arrs) 10500\n",
      "len 10555 10555 (10555, 256, 128, 3) (10555, 21)\n",
      "nunique ID 34 [151. 165. 169. 173. 175. 180. 181. 182. 183. 184. 185. 186. 188. 189.\n",
      " 190. 192. 193. 194. 195. 196. 197. 198. 199. 201. 203. 204. 205. 206.\n",
      " 207. 208. 209. 210. 211. 212.]\n",
      "df_video_valid 19465 17688 08-11-2019-1-2\n",
      "frame_min 3 frame_max 1608 nuniqe ID 33\n",
      "frame_max out of bound 1608 1607\n",
      "len(person_arrs) 500\n",
      "len(person_arrs) 1000\n",
      "len(person_arrs) 1500\n",
      "len(person_arrs) 2000\n",
      "len(person_arrs) 2500\n",
      "len(person_arrs) 3000\n",
      "len(person_arrs) 3500\n",
      "len(person_arrs) 4000\n",
      "len(person_arrs) 4500\n",
      "len(person_arrs) 5000\n",
      "len(person_arrs) 5500\n",
      "len(person_arrs) 6000\n",
      "len(person_arrs) 6500\n",
      "len(person_arrs) 7000\n",
      "len(person_arrs) 7500\n",
      "len(person_arrs) 8000\n",
      "len(person_arrs) 8500\n",
      "len(person_arrs) 9000\n",
      "len(person_arrs) 9500\n",
      "len(person_arrs) 10000\n",
      "len(person_arrs) 10500\n",
      "len(person_arrs) 11000\n",
      "len(person_arrs) 11500\n",
      "len(person_arrs) 12000\n",
      "len(person_arrs) 12500\n",
      "len(person_arrs) 13000\n",
      "len(person_arrs) 13500\n",
      "len(person_arrs) 14000\n",
      "len(person_arrs) 14500\n",
      "len(person_arrs) 15000\n",
      "len(person_arrs) 15500\n",
      "len(person_arrs) 16000\n",
      "len(person_arrs) 16500\n",
      "len(person_arrs) 17000\n",
      "len(person_arrs) 17500\n",
      "len 17686 17686 (17686, 256, 128, 3) (17686, 21)\n",
      "nunique ID 33 [129. 165. 169. 173. 175. 181. 182. 183. 184. 185. 186. 188. 189. 190.\n",
      " 192. 193. 194. 195. 196. 197. 198. 199. 201. 203. 204. 205. 206. 207.\n",
      " 208. 209. 210. 211. 212.]\n",
      "df_video_valid 15152 8327 08-11-2019-2-1\n",
      "frame_min 3 frame_max 1043 nuniqe ID 30\n",
      "len(person_arrs) 500\n",
      "len(person_arrs) 1000\n",
      "len(person_arrs) 1500\n",
      "len(person_arrs) 2000\n",
      "len(person_arrs) 2500\n",
      "len(person_arrs) 3000\n",
      "len(person_arrs) 3500\n",
      "len(person_arrs) 4000\n",
      "len(person_arrs) 4500\n",
      "len(person_arrs) 5000\n",
      "len(person_arrs) 5500\n",
      "len(person_arrs) 6000\n",
      "len(person_arrs) 6500\n",
      "len(person_arrs) 7000\n",
      "len(person_arrs) 7500\n",
      "len(person_arrs) 8000\n",
      "len 8327 8327 (8327, 256, 128, 3) (8327, 21)\n",
      "nunique ID 30 [151. 154. 155. 156. 158. 159. 160. 161. 163. 166. 167. 168. 170. 171.\n",
      " 172. 174. 177. 178. 179. 200. 213. 214. 215. 216. 217. 218. 219. 220.\n",
      " 221. 222.]\n",
      "df_video_valid 20801 17331 08-11-2019-2-2\n",
      "frame_min 3 frame_max 893 nuniqe ID 30\n",
      "frame_max out of bound 893 892\n",
      "len(person_arrs) 500\n",
      "len(person_arrs) 1000\n",
      "len(person_arrs) 1500\n",
      "len(person_arrs) 2000\n",
      "len(person_arrs) 2500\n",
      "len(person_arrs) 3000\n",
      "len(person_arrs) 3500\n",
      "len(person_arrs) 4000\n",
      "len(person_arrs) 4500\n",
      "len(person_arrs) 5000\n",
      "len(person_arrs) 5500\n",
      "len(person_arrs) 6000\n",
      "len(person_arrs) 6500\n",
      "len(person_arrs) 7000\n",
      "len(person_arrs) 7500\n",
      "len(person_arrs) 8000\n",
      "len(person_arrs) 8500\n",
      "len(person_arrs) 9000\n",
      "len(person_arrs) 9500\n",
      "len(person_arrs) 10000\n",
      "len(person_arrs) 10500\n",
      "len(person_arrs) 11000\n",
      "len(person_arrs) 11500\n",
      "len(person_arrs) 12000\n",
      "len(person_arrs) 12500\n",
      "len(person_arrs) 13000\n",
      "len(person_arrs) 13500\n",
      "len(person_arrs) 14000\n",
      "len(person_arrs) 14500\n",
      "len(person_arrs) 15000\n",
      "len(person_arrs) 15500\n",
      "len(person_arrs) 16000\n",
      "len(person_arrs) 16500\n",
      "len(person_arrs) 17000\n",
      "len 17320 17320 (17320, 256, 128, 3) (17320, 21)\n",
      "nunique ID 30 [142. 151. 154. 155. 156. 158. 159. 160. 161. 163. 166. 167. 168. 170.\n",
      " 171. 172. 174. 176. 177. 178. 179. 200. 213. 214. 215. 217. 218. 220.\n",
      " 221. 222.]\n",
      "df_video_valid 10464 10464 10-07-2019-1-1\n",
      "frame_min 1 frame_max 855 nuniqe ID 18\n",
      "frame_max out of bound 855 854\n",
      "len(person_arrs) 500\n",
      "len(person_arrs) 1000\n",
      "len(person_arrs) 1500\n",
      "len(person_arrs) 2000\n",
      "len(person_arrs) 2500\n",
      "len(person_arrs) 3000\n",
      "len(person_arrs) 3500\n",
      "len(person_arrs) 4000\n",
      "len(person_arrs) 4500\n",
      "len(person_arrs) 5000\n",
      "len(person_arrs) 5500\n",
      "len(person_arrs) 6000\n",
      "len(person_arrs) 6500\n",
      "len(person_arrs) 7000\n",
      "len(person_arrs) 7500\n",
      "len(person_arrs) 8000\n",
      "len(person_arrs) 8500\n",
      "len(person_arrs) 9000\n",
      "len(person_arrs) 9500\n",
      "len(person_arrs) 10000\n",
      "len 10462 10462 (10462, 256, 128, 3) (10462, 21)\n",
      "nunique ID 18 [ 1.  2.  3.  4.  5.  6.  7.  8.  9. 10. 11. 12. 13. 14. 15. 16. 17. 18.]\n",
      "df_video_valid 11442 11311 10-07-2019-1-2\n",
      "frame_min 1 frame_max 1000 nuniqe ID 12\n",
      "frame_max out of bound 1000 999\n",
      "len(person_arrs) 500\n",
      "len(person_arrs) 1000\n",
      "len(person_arrs) 1500\n",
      "len(person_arrs) 2000\n",
      "len(person_arrs) 2500\n",
      "len(person_arrs) 3000\n",
      "len(person_arrs) 3500\n",
      "len(person_arrs) 4000\n",
      "len(person_arrs) 4500\n",
      "len(person_arrs) 5000\n",
      "len(person_arrs) 5500\n",
      "len(person_arrs) 6000\n",
      "len(person_arrs) 6500\n",
      "len(person_arrs) 7000\n",
      "len(person_arrs) 7500\n",
      "len(person_arrs) 8000\n",
      "len(person_arrs) 8500\n",
      "len(person_arrs) 9000\n",
      "len(person_arrs) 9500\n",
      "len(person_arrs) 10000\n",
      "len(person_arrs) 10500\n",
      "len(person_arrs) 11000\n",
      "len 11299 11299 (11299, 256, 128, 3) (11299, 21)\n",
      "nunique ID 12 [ 3.  4.  5.  6.  7.  8. 14. 15. 16. 18. 19. 20.]\n",
      "df_video_valid 9806 9436 10-07-2019-1-3\n",
      "frame_min 1 frame_max 681 nuniqe ID 21\n",
      "frame_max out of bound 681 680\n",
      "len(person_arrs) 500\n",
      "len(person_arrs) 1000\n",
      "len(person_arrs) 1500\n",
      "len(person_arrs) 2000\n",
      "len(person_arrs) 2500\n",
      "len(person_arrs) 3000\n",
      "len(person_arrs) 3500\n",
      "len(person_arrs) 4000\n",
      "len(person_arrs) 4500\n",
      "len(person_arrs) 5000\n",
      "len(person_arrs) 5500\n",
      "len(person_arrs) 6000\n",
      "len(person_arrs) 6500\n",
      "len(person_arrs) 7000\n",
      "len(person_arrs) 7500\n",
      "len(person_arrs) 8000\n",
      "len(person_arrs) 8500\n",
      "len(person_arrs) 9000\n",
      "len 9416 9416 (9416, 256, 128, 3) (9416, 21)\n",
      "nunique ID 21 [ 1.  2.  3.  4.  5.  6.  7.  8.  9. 10. 11. 12. 13. 14. 15. 16. 17. 18.\n",
      " 21. 22. 23.]\n",
      "df_video_valid 13844 13844 10-07-2019-1-4\n",
      "frame_min 1 frame_max 1054 nuniqe ID 18\n",
      "frame_max out of bound 1054 1053\n",
      "len(person_arrs) 500\n",
      "len(person_arrs) 1000\n",
      "len(person_arrs) 1500\n",
      "len(person_arrs) 2000\n",
      "len(person_arrs) 2500\n",
      "len(person_arrs) 3000\n",
      "len(person_arrs) 3500\n",
      "len(person_arrs) 4000\n",
      "len(person_arrs) 4500\n",
      "len(person_arrs) 5000\n",
      "len(person_arrs) 5500\n",
      "len(person_arrs) 6000\n",
      "len(person_arrs) 6500\n",
      "len(person_arrs) 7000\n",
      "len(person_arrs) 7500\n",
      "len(person_arrs) 8000\n",
      "len(person_arrs) 8500\n",
      "len(person_arrs) 9000\n",
      "len(person_arrs) 9500\n",
      "len(person_arrs) 10000\n",
      "len(person_arrs) 10500\n",
      "len(person_arrs) 11000\n",
      "len(person_arrs) 11500\n",
      "len(person_arrs) 12000\n",
      "len(person_arrs) 12500\n",
      "len(person_arrs) 13000\n",
      "len(person_arrs) 13500\n",
      "len 13836 13836 (13836, 256, 128, 3) (13836, 21)\n",
      "nunique ID 18 [ 1.  2.  3.  4.  5.  6.  7.  8.  9. 10. 11. 12. 13. 14. 15. 16. 17. 18.]\n",
      "df_video_valid 33419 33341 10-07-2019-1-5\n",
      "frame_min 1 frame_max 2482 nuniqe ID 25\n",
      "frame_max out of bound 2482 2481\n",
      "len(person_arrs) 500\n",
      "len(person_arrs) 1000\n",
      "len(person_arrs) 1500\n",
      "len(person_arrs) 2000\n",
      "len(person_arrs) 2500\n",
      "len(person_arrs) 3000\n",
      "len(person_arrs) 3500\n",
      "len(person_arrs) 4000\n",
      "len(person_arrs) 4500\n",
      "len(person_arrs) 5000\n",
      "len(person_arrs) 5500\n",
      "len(person_arrs) 6000\n",
      "len(person_arrs) 6500\n",
      "len(person_arrs) 7000\n",
      "len(person_arrs) 7500\n",
      "len(person_arrs) 8000\n",
      "len(person_arrs) 8500\n",
      "len(person_arrs) 9000\n",
      "len(person_arrs) 9500\n",
      "len(person_arrs) 10000\n",
      "len(person_arrs) 10500\n",
      "len(person_arrs) 11000\n",
      "len(person_arrs) 11500\n",
      "len(person_arrs) 12000\n",
      "len(person_arrs) 12500\n",
      "len(person_arrs) 13000\n",
      "len(person_arrs) 13500\n",
      "len(person_arrs) 14000\n",
      "len(person_arrs) 14500\n",
      "len(person_arrs) 15000\n",
      "len(person_arrs) 15500\n",
      "len(person_arrs) 16000\n",
      "len(person_arrs) 16500\n",
      "len(person_arrs) 17000\n",
      "len(person_arrs) 17500\n",
      "len(person_arrs) 18000\n",
      "len(person_arrs) 18500\n",
      "len(person_arrs) 19000\n",
      "len(person_arrs) 19500\n",
      "len(person_arrs) 20000\n",
      "len 20010 20010 (20010, 256, 128, 3) (20010, 21)\n",
      "nunique ID 21 [ 3.  4.  5.  6.  7.  8. 10. 11. 12. 13. 14. 15. 16. 17. 18. 19. 21. 22.\n",
      " 23. 33. 34.]\n",
      "x y shape (118911, 256, 128, 3) (118911, 21) 91\n"
     ]
    }
   ],
   "source": [
    "df_video, person_arrs, person_labels = crop_person_by_id(9, max_m=20000)"
   ]
  },
  {
   "cell_type": "code",
   "execution_count": 92,
   "metadata": {},
   "outputs": [
    {
     "data": {
      "text/plain": [
       "((118911, 256, 128, 3), (118911, 21))"
      ]
     },
     "execution_count": 92,
     "metadata": {},
     "output_type": "execute_result"
    }
   ],
   "source": [
    "person_arrs.shape, person_labels.shape"
   ]
  },
  {
   "cell_type": "code",
   "execution_count": null,
   "metadata": {},
   "outputs": [],
   "source": [
    "INDEX_ID = 0\n",
    "INDEX_GENDER = 5\n",
    "INDEX_AGE = 6\n",
    "INDEX_HEIGHT = 7\n",
    "INDEX_BODY_VOLUME = 8\n",
    "INDEX_ETHNICITY = 9\n",
    "INDEX_HAIR_COLOR = 10\n",
    "INDEX_HAIRSTYLE = 11\n",
    "INDEX_BEARD = 12\n",
    "INDEX_MUSTACHE = 13\n",
    "INDEX_GLASSES = 14\n",
    "INDEX_HEAD_ACCESSORIES = 15\n",
    "INDEX_UPPER_CLOTH = 16\n",
    "INDEX_LOWER_CLOTH = 17\n",
    "INDEX_FEET = 18\n",
    "INDEX_ACCESSORIES = 19\n",
    "INDEX_ACTION = 20"
   ]
  },
  {
   "cell_type": "code",
   "execution_count": 118,
   "metadata": {},
   "outputs": [],
   "source": [
    "Unknown_AGE = 8\n",
    "Unknown_HEIGHT = 4\n",
    "Unknown_ETHNICITY = 4\n",
    "Unknown_HAIR_COLOR = 6\n",
    "Unknown_HAIRSTYLE = 5\n",
    "Unknown_BERD = 2\n",
    "Unknown_MUSTACHE = 2\n",
    "Unknown_GLASSES = 3\n",
    "Unknown_HEAD_ACCESSORIES = 4\n",
    "Unknown_LOWER_CLOTH = 9\n",
    "Unknown_FEET = 6\n",
    "Unknown_ACCESSORIES = 7"
   ]
  },
  {
   "cell_type": "code",
   "execution_count": 97,
   "metadata": {},
   "outputs": [
    {
     "name": "stdout",
     "output_type": "stream",
     "text": [
      "6 [2. 3. 4.]\n",
      "7 [1. 2. 3.]\n",
      "8 [0. 1.]\n",
      "9 [0. 1. 3.]\n",
      "10 [0. 1. 5.]\n",
      "11 [1. 2. 3. 4. 5.]\n",
      "12 [0. 1. 2.]\n",
      "13 [0. 1. 2.]\n",
      "14 [0. 1. 2. 3.]\n",
      "15 [3.]\n",
      "16 [ 0.  1.  6.  8.  9. 10.]\n",
      "17 [0. 1. 2. 6.]\n",
      "18 [0. 1. 4.]\n"
     ]
    }
   ],
   "source": [
    "for i in range(INDEX_AGE, INDEX_ACCESSORIES):\n",
    "    print(i, np.unique(person_labels[:, i]))"
   ]
  },
  {
   "cell_type": "code",
   "execution_count": 128,
   "metadata": {},
   "outputs": [
    {
     "name": "stdout",
     "output_type": "stream",
     "text": [
      "0 0 0 0 0 0 0 0 0 0 0 0\n"
     ]
    }
   ],
   "source": [
    "print(sum(person_labels[:, INDEX_AGE]==Unknown_AGE), \n",
    "      sum(person_labels[:, INDEX_HEIGHT]==Unknown_HEIGHT),\n",
    "      sum(person_labels[:, INDEX_ETHNICITY]==Unknown_ETHNICITY),\n",
    "      sum(person_labels[:, INDEX_HAIR_COLOR]==Unknown_HAIR_COLOR),\n",
    "      sum(person_labels[:, INDEX_HAIRSTYLE]==Unknown_HAIRSTYLE),#\n",
    "      sum(person_labels[:, INDEX_BEARD]==Unknown_BERD),#\n",
    "      sum(person_labels[:, INDEX_MUSTACHE]==Unknown_MUSTACHE),#\n",
    "      sum(person_labels[:, INDEX_GLASSES]==Unknown_GLASSES),#\n",
    "      sum(person_labels[:, INDEX_HEAD_ACCESSORIES]==Unknown_HEAD_ACCESSORIES),\n",
    "      sum(person_labels[:, INDEX_LOWER_CLOTH]==Unknown_LOWER_CLOTH),\n",
    "      sum(person_labels[:, INDEX_FEET]==Unknown_FEET),\n",
    "      sum(person_labels[:, INDEX_ACCESSORIES]==Unknown_ACCESSORIES),\n",
    "     )\n"
   ]
  },
  {
   "cell_type": "code",
   "execution_count": 129,
   "metadata": {},
   "outputs": [],
   "source": [
    "person_labels[:, INDEX_HAIRSTYLE][person_labels[:, INDEX_HAIRSTYLE]==Unknown_HAIRSTYLE] = -1\n",
    "person_labels[:, INDEX_BEARD][person_labels[:, INDEX_BEARD]==Unknown_BERD] = -1\n",
    "person_labels[:, INDEX_MUSTACHE][person_labels[:, INDEX_MUSTACHE]==Unknown_MUSTACHE] = -1\n",
    "person_labels[:, INDEX_GLASSES][person_labels[:, INDEX_GLASSES]==Unknown_GLASSES] = -1"
   ]
  },
  {
   "cell_type": "code",
   "execution_count": 39,
   "metadata": {},
   "outputs": [
    {
     "data": {
      "text/html": [
       "<div>\n",
       "<style scoped>\n",
       "    .dataframe tbody tr th:only-of-type {\n",
       "        vertical-align: middle;\n",
       "    }\n",
       "\n",
       "    .dataframe tbody tr th {\n",
       "        vertical-align: top;\n",
       "    }\n",
       "\n",
       "    .dataframe thead th {\n",
       "        text-align: right;\n",
       "    }\n",
       "</style>\n",
       "<table border=\"1\" class=\"dataframe\">\n",
       "  <thead>\n",
       "    <tr style=\"text-align: right;\">\n",
       "      <th></th>\n",
       "      <th>frame</th>\n",
       "      <th>ID</th>\n",
       "      <th>x</th>\n",
       "      <th>y</th>\n",
       "      <th>w</th>\n",
       "      <th>h</th>\n",
       "      <th>head</th>\n",
       "      <th>yaw</th>\n",
       "      <th>pitch</th>\n",
       "      <th>roll</th>\n",
       "      <th>...</th>\n",
       "      <th>hairstyle</th>\n",
       "      <th>beard</th>\n",
       "      <th>mustache</th>\n",
       "      <th>glasses</th>\n",
       "      <th>head accessories</th>\n",
       "      <th>upper cloth</th>\n",
       "      <th>lower cloth</th>\n",
       "      <th>feet</th>\n",
       "      <th>accessories</th>\n",
       "      <th>action</th>\n",
       "    </tr>\n",
       "  </thead>\n",
       "  <tbody>\n",
       "    <tr>\n",
       "      <th>0</th>\n",
       "      <td>1</td>\n",
       "      <td>6</td>\n",
       "      <td>2387.2</td>\n",
       "      <td>1498.7</td>\n",
       "      <td>164.23</td>\n",
       "      <td>392.41</td>\n",
       "      <td>1</td>\n",
       "      <td>7.7715</td>\n",
       "      <td>-21.027</td>\n",
       "      <td>-5.0041</td>\n",
       "      <td>...</td>\n",
       "      <td>5</td>\n",
       "      <td>0</td>\n",
       "      <td>0</td>\n",
       "      <td>0</td>\n",
       "      <td>3</td>\n",
       "      <td>10</td>\n",
       "      <td>0</td>\n",
       "      <td>0</td>\n",
       "      <td>1</td>\n",
       "      <td>0</td>\n",
       "    </tr>\n",
       "    <tr>\n",
       "      <th>1</th>\n",
       "      <td>1</td>\n",
       "      <td>14</td>\n",
       "      <td>2115.0</td>\n",
       "      <td>1529.7</td>\n",
       "      <td>141.90</td>\n",
       "      <td>390.80</td>\n",
       "      <td>1</td>\n",
       "      <td>7.7715</td>\n",
       "      <td>-21.027</td>\n",
       "      <td>-5.0041</td>\n",
       "      <td>...</td>\n",
       "      <td>5</td>\n",
       "      <td>1</td>\n",
       "      <td>1</td>\n",
       "      <td>2</td>\n",
       "      <td>3</td>\n",
       "      <td>10</td>\n",
       "      <td>0</td>\n",
       "      <td>0</td>\n",
       "      <td>1</td>\n",
       "      <td>0</td>\n",
       "    </tr>\n",
       "    <tr>\n",
       "      <th>2</th>\n",
       "      <td>1</td>\n",
       "      <td>3</td>\n",
       "      <td>1938.4</td>\n",
       "      <td>1639.8</td>\n",
       "      <td>158.62</td>\n",
       "      <td>252.30</td>\n",
       "      <td>1</td>\n",
       "      <td>7.7715</td>\n",
       "      <td>-21.027</td>\n",
       "      <td>-5.0041</td>\n",
       "      <td>...</td>\n",
       "      <td>5</td>\n",
       "      <td>0</td>\n",
       "      <td>0</td>\n",
       "      <td>2</td>\n",
       "      <td>3</td>\n",
       "      <td>10</td>\n",
       "      <td>0</td>\n",
       "      <td>0</td>\n",
       "      <td>1</td>\n",
       "      <td>0</td>\n",
       "    </tr>\n",
       "    <tr>\n",
       "      <th>3</th>\n",
       "      <td>1</td>\n",
       "      <td>19</td>\n",
       "      <td>2251.6</td>\n",
       "      <td>1596.3</td>\n",
       "      <td>143.53</td>\n",
       "      <td>409.91</td>\n",
       "      <td>1</td>\n",
       "      <td>7.7715</td>\n",
       "      <td>-21.027</td>\n",
       "      <td>-5.0041</td>\n",
       "      <td>...</td>\n",
       "      <td>5</td>\n",
       "      <td>0</td>\n",
       "      <td>0</td>\n",
       "      <td>1</td>\n",
       "      <td>3</td>\n",
       "      <td>10</td>\n",
       "      <td>0</td>\n",
       "      <td>0</td>\n",
       "      <td>1</td>\n",
       "      <td>0</td>\n",
       "    </tr>\n",
       "    <tr>\n",
       "      <th>4</th>\n",
       "      <td>1</td>\n",
       "      <td>4</td>\n",
       "      <td>2892.7</td>\n",
       "      <td>1671.4</td>\n",
       "      <td>188.89</td>\n",
       "      <td>435.61</td>\n",
       "      <td>1</td>\n",
       "      <td>7.7715</td>\n",
       "      <td>-21.027</td>\n",
       "      <td>-5.0041</td>\n",
       "      <td>...</td>\n",
       "      <td>5</td>\n",
       "      <td>0</td>\n",
       "      <td>0</td>\n",
       "      <td>2</td>\n",
       "      <td>3</td>\n",
       "      <td>10</td>\n",
       "      <td>0</td>\n",
       "      <td>0</td>\n",
       "      <td>1</td>\n",
       "      <td>0</td>\n",
       "    </tr>\n",
       "    <tr>\n",
       "      <th>...</th>\n",
       "      <td>...</td>\n",
       "      <td>...</td>\n",
       "      <td>...</td>\n",
       "      <td>...</td>\n",
       "      <td>...</td>\n",
       "      <td>...</td>\n",
       "      <td>...</td>\n",
       "      <td>...</td>\n",
       "      <td>...</td>\n",
       "      <td>...</td>\n",
       "      <td>...</td>\n",
       "      <td>...</td>\n",
       "      <td>...</td>\n",
       "      <td>...</td>\n",
       "      <td>...</td>\n",
       "      <td>...</td>\n",
       "      <td>...</td>\n",
       "      <td>...</td>\n",
       "      <td>...</td>\n",
       "      <td>...</td>\n",
       "      <td>...</td>\n",
       "    </tr>\n",
       "    <tr>\n",
       "      <th>33414</th>\n",
       "      <td>2478</td>\n",
       "      <td>33</td>\n",
       "      <td>2032.6</td>\n",
       "      <td>2019.7</td>\n",
       "      <td>139.12</td>\n",
       "      <td>141.53</td>\n",
       "      <td>1</td>\n",
       "      <td>7.7715</td>\n",
       "      <td>-21.027</td>\n",
       "      <td>-5.0041</td>\n",
       "      <td>...</td>\n",
       "      <td>5</td>\n",
       "      <td>0</td>\n",
       "      <td>0</td>\n",
       "      <td>1</td>\n",
       "      <td>3</td>\n",
       "      <td>0</td>\n",
       "      <td>0</td>\n",
       "      <td>0</td>\n",
       "      <td>1</td>\n",
       "      <td>0</td>\n",
       "    </tr>\n",
       "    <tr>\n",
       "      <th>33415</th>\n",
       "      <td>2479</td>\n",
       "      <td>33</td>\n",
       "      <td>2041.0</td>\n",
       "      <td>2032.9</td>\n",
       "      <td>130.52</td>\n",
       "      <td>128.32</td>\n",
       "      <td>1</td>\n",
       "      <td>7.7715</td>\n",
       "      <td>-21.027</td>\n",
       "      <td>-5.0041</td>\n",
       "      <td>...</td>\n",
       "      <td>5</td>\n",
       "      <td>0</td>\n",
       "      <td>0</td>\n",
       "      <td>1</td>\n",
       "      <td>3</td>\n",
       "      <td>0</td>\n",
       "      <td>0</td>\n",
       "      <td>0</td>\n",
       "      <td>1</td>\n",
       "      <td>0</td>\n",
       "    </tr>\n",
       "    <tr>\n",
       "      <th>33416</th>\n",
       "      <td>2480</td>\n",
       "      <td>33</td>\n",
       "      <td>2049.9</td>\n",
       "      <td>2044.6</td>\n",
       "      <td>122.64</td>\n",
       "      <td>116.56</td>\n",
       "      <td>1</td>\n",
       "      <td>7.7715</td>\n",
       "      <td>-21.027</td>\n",
       "      <td>-5.0041</td>\n",
       "      <td>...</td>\n",
       "      <td>5</td>\n",
       "      <td>0</td>\n",
       "      <td>0</td>\n",
       "      <td>1</td>\n",
       "      <td>3</td>\n",
       "      <td>0</td>\n",
       "      <td>0</td>\n",
       "      <td>0</td>\n",
       "      <td>1</td>\n",
       "      <td>0</td>\n",
       "    </tr>\n",
       "    <tr>\n",
       "      <th>33417</th>\n",
       "      <td>2481</td>\n",
       "      <td>33</td>\n",
       "      <td>2061.2</td>\n",
       "      <td>2060.7</td>\n",
       "      <td>108.12</td>\n",
       "      <td>100.44</td>\n",
       "      <td>1</td>\n",
       "      <td>7.7715</td>\n",
       "      <td>-21.027</td>\n",
       "      <td>-5.0041</td>\n",
       "      <td>...</td>\n",
       "      <td>5</td>\n",
       "      <td>0</td>\n",
       "      <td>0</td>\n",
       "      <td>1</td>\n",
       "      <td>3</td>\n",
       "      <td>0</td>\n",
       "      <td>0</td>\n",
       "      <td>0</td>\n",
       "      <td>1</td>\n",
       "      <td>0</td>\n",
       "    </tr>\n",
       "    <tr>\n",
       "      <th>33418</th>\n",
       "      <td>2482</td>\n",
       "      <td>33</td>\n",
       "      <td>2073.9</td>\n",
       "      <td>2078.2</td>\n",
       "      <td>90.16</td>\n",
       "      <td>82.90</td>\n",
       "      <td>1</td>\n",
       "      <td>7.7715</td>\n",
       "      <td>-21.027</td>\n",
       "      <td>-5.0041</td>\n",
       "      <td>...</td>\n",
       "      <td>5</td>\n",
       "      <td>0</td>\n",
       "      <td>0</td>\n",
       "      <td>1</td>\n",
       "      <td>3</td>\n",
       "      <td>0</td>\n",
       "      <td>0</td>\n",
       "      <td>0</td>\n",
       "      <td>1</td>\n",
       "      <td>0</td>\n",
       "    </tr>\n",
       "  </tbody>\n",
       "</table>\n",
       "<p>33419 rows × 26 columns</p>\n",
       "</div>"
      ],
      "text/plain": [
       "       frame  ID       x       y       w       h  head     yaw   pitch  \\\n",
       "0          1   6  2387.2  1498.7  164.23  392.41     1  7.7715 -21.027   \n",
       "1          1  14  2115.0  1529.7  141.90  390.80     1  7.7715 -21.027   \n",
       "2          1   3  1938.4  1639.8  158.62  252.30     1  7.7715 -21.027   \n",
       "3          1  19  2251.6  1596.3  143.53  409.91     1  7.7715 -21.027   \n",
       "4          1   4  2892.7  1671.4  188.89  435.61     1  7.7715 -21.027   \n",
       "...      ...  ..     ...     ...     ...     ...   ...     ...     ...   \n",
       "33414   2478  33  2032.6  2019.7  139.12  141.53     1  7.7715 -21.027   \n",
       "33415   2479  33  2041.0  2032.9  130.52  128.32     1  7.7715 -21.027   \n",
       "33416   2480  33  2049.9  2044.6  122.64  116.56     1  7.7715 -21.027   \n",
       "33417   2481  33  2061.2  2060.7  108.12  100.44     1  7.7715 -21.027   \n",
       "33418   2482  33  2073.9  2078.2   90.16   82.90     1  7.7715 -21.027   \n",
       "\n",
       "         roll  ...  hairstyle  beard  mustache  glasses  head accessories  \\\n",
       "0     -5.0041  ...          5      0         0        0                 3   \n",
       "1     -5.0041  ...          5      1         1        2                 3   \n",
       "2     -5.0041  ...          5      0         0        2                 3   \n",
       "3     -5.0041  ...          5      0         0        1                 3   \n",
       "4     -5.0041  ...          5      0         0        2                 3   \n",
       "...       ...  ...        ...    ...       ...      ...               ...   \n",
       "33414 -5.0041  ...          5      0         0        1                 3   \n",
       "33415 -5.0041  ...          5      0         0        1                 3   \n",
       "33416 -5.0041  ...          5      0         0        1                 3   \n",
       "33417 -5.0041  ...          5      0         0        1                 3   \n",
       "33418 -5.0041  ...          5      0         0        1                 3   \n",
       "\n",
       "       upper cloth  lower cloth  feet  accessories  action  \n",
       "0               10            0     0            1       0  \n",
       "1               10            0     0            1       0  \n",
       "2               10            0     0            1       0  \n",
       "3               10            0     0            1       0  \n",
       "4               10            0     0            1       0  \n",
       "...            ...          ...   ...          ...     ...  \n",
       "33414            0            0     0            1       0  \n",
       "33415            0            0     0            1       0  \n",
       "33416            0            0     0            1       0  \n",
       "33417            0            0     0            1       0  \n",
       "33418            0            0     0            1       0  \n",
       "\n",
       "[33419 rows x 26 columns]"
      ]
     },
     "execution_count": 39,
     "metadata": {},
     "output_type": "execute_result"
    }
   ],
   "source": [
    "df_video"
   ]
  },
  {
   "cell_type": "code",
   "execution_count": 40,
   "metadata": {
    "scrolled": true
   },
   "outputs": [
    {
     "data": {
      "text/plain": [
       "<matplotlib.image.AxesImage at 0x7f1af462e0a0>"
      ]
     },
     "execution_count": 40,
     "metadata": {},
     "output_type": "execute_result"
    },
    {
     "data": {
      "image/png": "[encoded data removed]",
      "text/plain": [
       "<Figure size 432x288 with 1 Axes>"
      ]
     },
     "metadata": {
      "needs_background": "light"
     },
     "output_type": "display_data"
    }
   ],
   "source": [
    "i = 100\n",
    "plt.title(str(df.columns[column_feature_index:]) + str(person_labels[i]))\n",
    "plt.imshow(person_arrs[i])"
   ]
  },
  {
   "cell_type": "code",
   "execution_count": 41,
   "metadata": {
    "scrolled": true
   },
   "outputs": [
    {
     "name": "stderr",
     "output_type": "stream",
     "text": [
      "/home/mvlab/anaconda3/lib/python3.8/site-packages/matplotlib/text.py:1165: FutureWarning: elementwise comparison failed; returning scalar instead, but in the future will perform elementwise comparison\n",
      "  if s != self._text:\n"
     ]
    },
    {
     "data": {
      "text/plain": [
       "<matplotlib.image.AxesImage at 0x7f1af4559a60>"
      ]
     },
     "execution_count": 41,
     "metadata": {},
     "output_type": "execute_result"
    },
    {
     "data": {
      "image/png": "[encoded data removed]",
      "text/plain": [
       "<Figure size 1080x720 with 1 Axes>"
      ]
     },
     "metadata": {
      "needs_background": "light"
     },
     "output_type": "display_data"
    }
   ],
   "source": [
    "plt.figure(figsize=(15,10))\n",
    "plt.title(person_labels[100:112, INDEX_ID])\n",
    "plt.imshow(np.concatenate(person_arrs[100:112], axis=1))"
   ]
  },
  {
   "cell_type": "code",
   "execution_count": 3,
   "metadata": {},
   "outputs": [
    {
     "ename": "NameError",
     "evalue": "name 'person_arrs' is not defined",
     "output_type": "error",
     "traceback": [
      "\u001b[0;31m---------------------------------------------------------------------------\u001b[0m",
      "\u001b[0;31mNameError\u001b[0m                                 Traceback (most recent call last)",
      "\u001b[0;32m<ipython-input-3-e6cefe56c0cc>\u001b[0m in \u001b[0;36m<module>\u001b[0;34m\u001b[0m\n\u001b[0;32m----> 1\u001b[0;31m \u001b[0mx_train\u001b[0m \u001b[0;34m=\u001b[0m \u001b[0mperson_arrs\u001b[0m\u001b[0;34m[\u001b[0m\u001b[0;34m:\u001b[0m\u001b[0;34m:\u001b[0m\u001b[0;36m10\u001b[0m\u001b[0;34m]\u001b[0m\u001b[0;34m\u001b[0m\u001b[0;34m\u001b[0m\u001b[0m\n\u001b[0m\u001b[1;32m      2\u001b[0m \u001b[0my_train\u001b[0m \u001b[0;34m=\u001b[0m \u001b[0mperson_labels\u001b[0m\u001b[0;34m[\u001b[0m\u001b[0;34m:\u001b[0m\u001b[0;34m:\u001b[0m\u001b[0;36m10\u001b[0m\u001b[0;34m]\u001b[0m\u001b[0;34m\u001b[0m\u001b[0;34m\u001b[0m\u001b[0m\n\u001b[1;32m      3\u001b[0m \u001b[0mx_test\u001b[0m \u001b[0;34m=\u001b[0m \u001b[0mperson_arrs\u001b[0m\u001b[0;34m[\u001b[0m\u001b[0;36m1\u001b[0m\u001b[0;34m:\u001b[0m\u001b[0;34m:\u001b[0m\u001b[0;36m2\u001b[0m\u001b[0;34m]\u001b[0m\u001b[0;34m\u001b[0m\u001b[0;34m\u001b[0m\u001b[0m\n\u001b[1;32m      4\u001b[0m \u001b[0my_test\u001b[0m \u001b[0;34m=\u001b[0m \u001b[0mperson_labels\u001b[0m\u001b[0;34m[\u001b[0m\u001b[0;36m1\u001b[0m\u001b[0;34m:\u001b[0m\u001b[0;34m:\u001b[0m\u001b[0;36m2\u001b[0m\u001b[0;34m]\u001b[0m\u001b[0;34m\u001b[0m\u001b[0;34m\u001b[0m\u001b[0m\n",
      "\u001b[0;31mNameError\u001b[0m: name 'person_arrs' is not defined"
     ]
    }
   ],
   "source": [
    "x_train = person_arrs[::10]\n",
    "y_train = person_labels[::10]\n",
    "x_test = person_arrs[1::2]\n",
    "y_test = person_labels[1::2]"
   ]
  },
  {
   "cell_type": "code",
   "execution_count": 2,
   "metadata": {},
   "outputs": [
    {
     "ename": "NameError",
     "evalue": "name 'x_train' is not defined",
     "output_type": "error",
     "traceback": [
      "\u001b[0;31m---------------------------------------------------------------------------\u001b[0m",
      "\u001b[0;31mNameError\u001b[0m                                 Traceback (most recent call last)",
      "\u001b[0;32m<ipython-input-2-48cbab306f06>\u001b[0m in \u001b[0;36m<module>\u001b[0;34m\u001b[0m\n\u001b[0;32m----> 1\u001b[0;31m \u001b[0mlen\u001b[0m\u001b[0;34m(\u001b[0m\u001b[0mx_train\u001b[0m\u001b[0;34m)\u001b[0m\u001b[0;34m,\u001b[0m \u001b[0mlen\u001b[0m\u001b[0;34m(\u001b[0m\u001b[0mx_test\u001b[0m\u001b[0;34m)\u001b[0m\u001b[0;34m,\u001b[0m \u001b[0mx_train\u001b[0m\u001b[0;34m.\u001b[0m\u001b[0mshape\u001b[0m\u001b[0;34m,\u001b[0m \u001b[0my_train\u001b[0m\u001b[0;34m.\u001b[0m\u001b[0mshape\u001b[0m\u001b[0;34m\u001b[0m\u001b[0;34m\u001b[0m\u001b[0m\n\u001b[0m",
      "\u001b[0;31mNameError\u001b[0m: name 'x_train' is not defined"
     ]
    }
   ],
   "source": [
    "len(x_train), len(x_test), x_train.shape, y_train.shape"
   ]
  },
  {
   "cell_type": "code",
   "execution_count": 44,
   "metadata": {},
   "outputs": [
    {
     "name": "stderr",
     "output_type": "stream",
     "text": [
      "<ipython-input-44-829f04f44788>:1: DeprecationWarning: elementwise comparison failed; this will raise an error in the future.\n",
      "  len(np.unique(y_train)), len(np.unique(y_test)), np.unique(y_train) == np.unique(y_test)\n"
     ]
    },
    {
     "data": {
      "text/plain": [
       "(183, 208, False)"
      ]
     },
     "execution_count": 44,
     "metadata": {},
     "output_type": "execute_result"
    }
   ],
   "source": [
    "len(np.unique(y_train)), len(np.unique(y_test)), np.unique(y_train) == np.unique(y_test)"
   ]
  },
  {
   "cell_type": "code",
   "execution_count": 45,
   "metadata": {},
   "outputs": [],
   "source": [
    "model = models.Sequential()\n",
    "model.add(layers.Input((img_h, img_w, 3)))\n",
    "model.add(layers.Conv2D(32, (7, 7), activation='relu'))\n",
    "model.add(layers.MaxPooling2D((2, 2)))\n",
    "model.add(layers.Conv2D(64, (3, 3), activation='relu'))\n",
    "model.add(layers.MaxPooling2D((2, 2)))\n",
    "model.add(layers.Conv2D(64, (3, 3), activation='relu'))\n",
    "model.add(layers.MaxPooling2D((2, 2)))\n",
    "model.add(layers.Conv2D(64, (3, 3), activation='relu'))\n",
    "model.add(layers.MaxPooling2D((2, 2)))\n",
    "model.add(layers.Flatten())\n",
    "model.add(layers.Dropout(0.3))\n",
    "model.add(layers.Dense(1000))"
   ]
  },
  {
   "cell_type": "markdown",
   "metadata": {},
   "source": [
    "model.summary()"
   ]
  },
  {
   "cell_type": "code",
   "execution_count": 46,
   "metadata": {
    "scrolled": false
   },
   "outputs": [
    {
     "data": {
      "text/plain": [
       "(20,\n",
       " ['head',\n",
       "  'yaw',\n",
       "  'pitch',\n",
       "  'roll',\n",
       "  'gender',\n",
       "  'age',\n",
       "  'height',\n",
       "  'body volume',\n",
       "  'ethnicity',\n",
       "  'hair color',\n",
       "  'hairstyle',\n",
       "  'beard',\n",
       "  'mustache',\n",
       "  'glasses',\n",
       "  'head accessories',\n",
       "  'upper cloth',\n",
       "  'lower cloth',\n",
       "  'feet',\n",
       "  'accessories',\n",
       "  'action'],\n",
       " [261, 2, 1, 1, 1, 2, 9, 5, 4, 5, 7, 6, 3, 3, 4, 5, 12, 10, 7, 8, 14])"
      ]
     },
     "execution_count": 46,
     "metadata": {},
     "output_type": "execute_result"
    }
   ],
   "source": [
    "len(columns[column_feature_index:]), columns[column_feature_index:], feature_column_k"
   ]
  },
  {
   "cell_type": "code",
   "execution_count": 47,
   "metadata": {},
   "outputs": [
    {
     "data": {
      "text/plain": [
       "([261, 2, 1, 1, 1, 2, 9, 5, 4, 5, 7, 6, 3, 3, 4, 5, 12, 10, 7, 8, 14],\n",
       " array([261, 263, 264, 265, 266, 268, 277, 282, 286, 291, 298, 304, 307,\n",
       "        310, 314, 319, 331, 341, 348, 356, 370]))"
      ]
     },
     "execution_count": 47,
     "metadata": {},
     "output_type": "execute_result"
    }
   ],
   "source": [
    "feature_column_k_cumsum = np.cumsum(feature_column_k)\n",
    "feature_column_k, feature_column_k_cumsum"
   ]
  },
  {
   "cell_type": "code",
   "execution_count": 48,
   "metadata": {},
   "outputs": [
    {
     "data": {
      "text/plain": [
       "(1, 2)"
      ]
     },
     "execution_count": 48,
     "metadata": {},
     "output_type": "execute_result"
    }
   ],
   "source": [
    "feature_column_k[4], feature_column_k[5]"
   ]
  },
  {
   "cell_type": "code",
   "execution_count": 49,
   "metadata": {
    "scrolled": true
   },
   "outputs": [
    {
     "data": {
      "text/plain": [
       "(298, 304)"
      ]
     },
     "execution_count": 49,
     "metadata": {},
     "output_type": "execute_result"
    }
   ],
   "source": [
    "feature_column_k_cumsum[INDEX_HAIRSTYLE-1], feature_column_k_cumsum[INDEX_HAIRSTYLE]"
   ]
  },
  {
   "cell_type": "code",
   "execution_count": 164,
   "metadata": {},
   "outputs": [],
   "source": [
    "def sparse_categorical_crossentropy(y, h, from_logits):\n",
    "    k = tf.shape(h)[-1]\n",
    "    y_hot = tf.one_hot(y, k)\n",
    "    prob = tf.nn.softmax(h)\n",
    "    prob = tf.clip_by_value(prob, 1e-7, 1-1e-7)\n",
    "    loss = - y_hot * tf.math.log(prob) - (1 - y_hot) * tf.math.log(1 - prob)\n",
    "    loss = tf.reduce_sum(loss, -1) * tf.cast(y > -1, tf.float32)\n",
    "    return loss"
   ]
  },
  {
   "cell_type": "code",
   "execution_count": 165,
   "metadata": {},
   "outputs": [],
   "source": [
    "class NetLoss(tf.losses.Loss):\n",
    "    \n",
    "    def __init__(self):\n",
    "        super(NetLoss, self).__init__(reduction=\"auto\", name=\"NetLoss\")        \n",
    "\n",
    "    def call(self, y, h):\n",
    "        y_cls = tf.cast(y[:, 0], tf.int64)\n",
    "        y_gender = tf.cast(y[:, INDEX_GENDER], tf.int64)\n",
    "        y_age = tf.cast(y[:, INDEX_AGE], tf.int64)\n",
    "        y_height = tf.cast(y[:, INDEX_HEIGHT], tf.int64)\n",
    "        y_body = tf.cast(y[:, INDEX_BODY_VOLUME], tf.int64)\n",
    "        y_hairstyle = tf.cast(y[:, INDEX_HAIRSTYLE], tf.int64)\n",
    "        y_upper = tf.cast(y[:, INDEX_UPPER_CLOTH], tf.int64)\n",
    "        y_lower = tf.cast(y[:, INDEX_LOWER_CLOTH], tf.int64)\n",
    "        y_feet = tf.cast(y[:, INDEX_FEET], tf.int64)\n",
    "        y_accessories = tf.cast(y[:, INDEX_ACCESSORIES], tf.int64)\n",
    "        y_action = tf.cast(y[:, INDEX_ACTION], tf.int64)\n",
    "        \n",
    "        h_cls = h[:, :feature_column_k_cumsum[0]]\n",
    "        h_gender = h[:, feature_column_k_cumsum[INDEX_GENDER-1]:feature_column_k_cumsum[INDEX_GENDER]]\n",
    "        h_age = h[:, feature_column_k_cumsum[INDEX_AGE-1]:feature_column_k_cumsum[INDEX_AGE]]\n",
    "        h_height = h[:, feature_column_k_cumsum[INDEX_HEIGHT-1]:feature_column_k_cumsum[INDEX_HEIGHT]]\n",
    "        h_body = h[:, feature_column_k_cumsum[INDEX_BODY_VOLUME-1]:feature_column_k_cumsum[INDEX_BODY_VOLUME]]\n",
    "        h_hairstyle = h[:, feature_column_k_cumsum[INDEX_HAIRSTYLE-1]:feature_column_k_cumsum[INDEX_HAIRSTYLE]]\n",
    "        h_upper = h[:, feature_column_k_cumsum[INDEX_UPPER_CLOTH-1]:feature_column_k_cumsum[INDEX_UPPER_CLOTH]]\n",
    "        h_lower = h[:, feature_column_k_cumsum[INDEX_LOWER_CLOTH-1]:feature_column_k_cumsum[INDEX_LOWER_CLOTH]]\n",
    "        h_feet = h[:, feature_column_k_cumsum[INDEX_FEET-1]:feature_column_k_cumsum[INDEX_FEET]]\n",
    "        h_accessories = h[:, feature_column_k_cumsum[INDEX_ACCESSORIES-1]:feature_column_k_cumsum[INDEX_ACCESSORIES]]\n",
    "        h_action = h[:, feature_column_k_cumsum[INDEX_ACTION-1]:feature_column_k_cumsum[INDEX_ACTION]]\n",
    "        \n",
    "        y_hot = tf.one_hot(y_cls, class_k)        \n",
    "        pt = tf.nn.softmax(h_cls)\n",
    "        pt = tf.clip_by_value(pt, 1e-7, 1.0 - 1e-7)                \n",
    "        loss_p = - y_hot * tf.math.log(pt)        \n",
    "        loss_f = - (1 - y_hot) * tf.math.log(1 - pt)\n",
    "        loss = loss_p + loss_f\n",
    "        \n",
    "        loss_cls = sparse_categorical_crossentropy(y_cls, h_cls, from_logits=True)        \n",
    "        loss_gender = sparse_categorical_crossentropy(y_gender, h_gender, from_logits=True)\n",
    "        loss_age = sparse_categorical_crossentropy(y_age, h_age, from_logits=True)\n",
    "        loss_height = sparse_categorical_crossentropy(y_height, h_height, from_logits=True)\n",
    "        loss_body = sparse_categorical_crossentropy(y_body, h_body, from_logits=True)\n",
    "        loss_hairstyle = sparse_categorical_crossentropy(y_hairstyle, h_hairstyle, from_logits=True)\n",
    "        loss_upper = sparse_categorical_crossentropy(y_upper, h_upper, from_logits=True)\n",
    "        loss_lower = sparse_categorical_crossentropy(y_lower, h_lower, from_logits=True)\n",
    "        loss_feet = sparse_categorical_crossentropy(y_feet, h_feet, from_logits=True)\n",
    "        loss_accessories = sparse_categorical_crossentropy(y_accessories, h_accessories, from_logits=True)\n",
    "        loss_action = sparse_categorical_crossentropy(y_action, h_action, from_logits=True)\n",
    "        \n",
    "        loss = loss_cls + loss_gender + loss_age\n",
    "        loss += loss_height + loss_body + loss_hairstyle + loss_upper + loss_lower+loss_feet+loss_accessories+loss_action\n",
    "                \n",
    "        return loss"
   ]
  },
  {
   "cell_type": "code",
   "execution_count": 166,
   "metadata": {},
   "outputs": [],
   "source": [
    "def acc_cls(y, h):    \n",
    "    y_cls = tf.cast(y[:, 0], tf.int64)\n",
    "    h_score = h[:, :feature_column_k[0]]\n",
    "    h_cls = tf.argmax(h_score, -1)    \n",
    "    \n",
    "    acc = tf.equal(y_cls, h_cls)\n",
    "    return acc\n",
    "\n",
    "def acc_gender(y, h):    \n",
    "    y_cls = tf.cast(y[:, INDEX_GENDER], tf.int64)\n",
    "    h_score = h[:, feature_column_k_cumsum[INDEX_GENDER-1]:feature_column_k_cumsum[INDEX_GENDER]]\n",
    "    h_cls = tf.argmax(h_score, -1)\n",
    "    acc = tf.equal(y_cls, h_cls)\n",
    "    return acc\n",
    "\n",
    "def acc_age(y, h):    \n",
    "    y_cls = tf.cast(y[:, INDEX_AGE], tf.int64)\n",
    "    h_score = h[:, feature_column_k_cumsum[INDEX_AGE-1]:feature_column_k_cumsum[INDEX_AGE]]\n",
    "    h_cls = tf.argmax(h_score, -1)\n",
    "    acc = tf.equal(y_cls, h_cls)\n",
    "    return acc\n",
    "\n",
    "def acc_hair(y, h):    \n",
    "    y_cls = tf.cast(y[:, INDEX_HAIRSTYLE], tf.int64)\n",
    "    h_score = h[:, feature_column_k_cumsum[INDEX_HAIRSTYLE-1]:feature_column_k_cumsum[INDEX_HAIRSTYLE]]\n",
    "    h_cls = tf.argmax(h_score, -1)\n",
    "    acc = tf.equal(y_cls, h_cls)\n",
    "    return acc"
   ]
  },
  {
   "cell_type": "code",
   "execution_count": 167,
   "metadata": {},
   "outputs": [],
   "source": [
    "loss_fn = NetLoss()\n",
    "model.compile(optimizer='adam', loss=loss_fn, metrics=[acc_cls, acc_gender, acc_age, acc_hair])"
   ]
  },
  {
   "cell_type": "code",
   "execution_count": 168,
   "metadata": {},
   "outputs": [
    {
     "data": {
      "text/plain": [
       "<tensorflow.python.training.tracking.util.CheckpointLoadStatus at 0x7f1a4c659970>"
      ]
     },
     "execution_count": 168,
     "metadata": {},
     "output_type": "execute_result"
    }
   ],
   "source": [
    "model.load_weights(path_weight)"
   ]
  },
  {
   "cell_type": "code",
   "execution_count": 175,
   "metadata": {},
   "outputs": [
    {
     "name": "stdout",
     "output_type": "stream",
     "text": [
      "Epoch 1/10\n",
      "372/372 [==============================] - 198s 532ms/step - loss: 0.7788 - acc_cls: 0.9987 - acc_gender: 0.9934 - acc_age: 0.9985 - acc_hair: 0.5214\n",
      "Epoch 2/10\n",
      "372/372 [==============================] - 197s 530ms/step - loss: 0.7327 - acc_cls: 0.9985 - acc_gender: 0.9944 - acc_age: 0.9982 - acc_hair: 0.5236\n",
      "Epoch 3/10\n",
      "372/372 [==============================] - 199s 535ms/step - loss: 0.7492 - acc_cls: 0.9983 - acc_gender: 0.9955 - acc_age: 0.9986 - acc_hair: 0.5229\n",
      "Epoch 4/10\n",
      "372/372 [==============================] - 201s 541ms/step - loss: 0.6723 - acc_cls: 0.9991 - acc_gender: 0.9956 - acc_age: 0.9989 - acc_hair: 0.5234\n",
      "Epoch 5/10\n",
      "372/372 [==============================] - 200s 539ms/step - loss: 0.7696 - acc_cls: 0.9987 - acc_gender: 0.9954 - acc_age: 0.9987 - acc_hair: 0.5229\n",
      "Epoch 6/10\n",
      "372/372 [==============================] - 199s 534ms/step - loss: 0.6555 - acc_cls: 0.9993 - acc_gender: 0.9952 - acc_age: 0.9985 - acc_hair: 0.5235\n",
      "Epoch 7/10\n",
      "372/372 [==============================] - 199s 534ms/step - loss: 0.6653 - acc_cls: 0.9981 - acc_gender: 0.9954 - acc_age: 0.9992 - acc_hair: 0.5219\n",
      "Epoch 8/10\n",
      "372/372 [==============================] - 198s 533ms/step - loss: 0.8601 - acc_cls: 0.9980 - acc_gender: 0.9934 - acc_age: 0.9982 - acc_hair: 0.5209\n",
      "Epoch 9/10\n",
      "372/372 [==============================] - 199s 534ms/step - loss: 0.6902 - acc_cls: 0.9982 - acc_gender: 0.9955 - acc_age: 0.9981 - acc_hair: 0.5229\n",
      "Epoch 10/10\n",
      "372/372 [==============================] - 199s 534ms/step - loss: 0.6239 - acc_cls: 0.9986 - acc_gender: 0.9953 - acc_age: 0.9989 - acc_hair: 0.5245\n"
     ]
    }
   ],
   "source": [
    "history = model.fit(x_train, y_train, epochs=10)"
   ]
  },
  {
   "cell_type": "code",
   "execution_count": 176,
   "metadata": {},
   "outputs": [],
   "source": [
    "model.save_weights(path_weight)"
   ]
  },
  {
   "cell_type": "code",
   "execution_count": 177,
   "metadata": {},
   "outputs": [
    {
     "name": "stdout",
     "output_type": "stream",
     "text": [
      "1858/1858 [==============================] - 138s 74ms/step - loss: 7.2015 - acc_cls: 0.9048 - acc_gender: 0.9626 - acc_age: 0.9765 - acc_hair: 0.4884\n"
     ]
    },
    {
     "data": {
      "text/plain": [
       "'\\ncls          : 75%\\ncls + gender : 70~78%\\n'"
      ]
     },
     "execution_count": 177,
     "metadata": {},
     "output_type": "execute_result"
    }
   ],
   "source": [
    "model.evaluate(x_test, y_test)\n",
    "'''\n",
    "cls          : 75%\n",
    "cls + gender : 70~78%\n",
    "'''"
   ]
  },
  {
   "cell_type": "code",
   "execution_count": null,
   "metadata": {},
   "outputs": [],
   "source": []
  }
 ],
 "metadata": {
  "kernelspec": {
   "display_name": "Python 3",
   "language": "python",
   "name": "python3"
  },
  "language_info": {
   "codemirror_mode": {
    "name": "ipython",
    "version": 3
   },
   "file_extension": ".py",
   "mimetype": "text/x-python",
   "name": "python",
   "nbconvert_exporter": "python",
   "pygments_lexer": "ipython3",
   "version": "3.8.3"
  }
 },
 "nbformat": 4,
 "nbformat_minor": 4
}
