{
 "cells": [
  {
   "cell_type": "code",
   "execution_count": 1,
   "metadata": {},
   "outputs": [],
   "source": [
    "import os\n",
    "import re\n",
    "import zipfile\n",
    "\n",
    "import numpy as np\n",
    "import matplotlib.pyplot as plt\n",
    "import pandas as pd\n",
    "\n",
    "from PIL import Image\n",
    "import ast\n",
    "import json\n",
    "from glob import glob"
   ]
  },
  {
   "cell_type": "code",
   "execution_count": 2,
   "metadata": {},
   "outputs": [],
   "source": [
    "visdrone_categories = ['bg','pedestrian', 'person', 'car', 'van', 'bus', 'truck', 'motor', 'bicycle', 'awning-tricycle', 'tricycle','empty_0','empty_1']\n"
   ]
  },
  {
   "cell_type": "code",
   "execution_count": 3,
   "metadata": {},
   "outputs": [
    {
     "data": {
      "text/plain": [
       "(True, True)"
      ]
     },
     "execution_count": 3,
     "metadata": {},
     "output_type": "execute_result"
    }
   ],
   "source": [
    "path_visDrone = '/home/mvlab/Downloads/dataset/VisDrone2019/VisDrone2019-DET-train/'\n",
    "path_visDrone_annotation = path_visDrone + 'annotations/'\n",
    "path_visDrone_image = path_visDrone + 'images/'\n",
    "os.path.isdir(path_visDrone_annotation), os.path.isdir(path_visDrone_image)\n"
   ]
  },
  {
   "cell_type": "code",
   "execution_count": 4,
   "metadata": {},
   "outputs": [],
   "source": [
    "def load_visdrone_data(path_visDrone, pedestrian_only=True):\n",
    "    \n",
    "    list_image_arr = []\n",
    "    list_cbbox = []\n",
    "    path_visDrone_annotation = path_visDrone + 'annotations/'\n",
    "    path_visDrone_image = path_visDrone + 'images/'\n",
    "    os.path.isdir(path_visDrone_annotation), os.path.isdir(path_visDrone_image)\n",
    "    list_annotation = glob(path_visDrone_annotation+'*.*')\n",
    "    list_image_path = glob(path_visDrone_image+'*.*')\n",
    "    len(list_annotation), len(list_image_path), list_annotation[0]\n",
    "    \n",
    "    for i in range(len(list_annotation)):\n",
    "        path_annotation = list_annotation[i]\n",
    "        \n",
    "        df = pd.read_csv(path_annotation, header=None)\n",
    "                \n",
    "        cls = np.array(df.iloc[:, 5])\n",
    "        bbox_xywh = np.array(df.iloc[:, :4])\n",
    "        x0 = bbox_xywh[:, 0]\n",
    "        y0 = bbox_xywh[:, 1]\n",
    "        w = bbox_xywh[:, 2]\n",
    "        h = bbox_xywh[:, 3]\n",
    "        x1 = x0 + w\n",
    "        y1 = y0 + h\n",
    "        \n",
    "        file_name_annotation = path_annotation.split('/')[-1].split('.')[0]\n",
    "        file_name_image = path_visDrone_image+file_name_annotation+'.jpg'\n",
    "                \n",
    "        if pedestrian_only:            \n",
    "            human_mask = np.logical_and(cls > 0, cls < 3)\n",
    "            vehicle_mask = cls > 2\n",
    "            is_human_contain = np.any(human_mask)\n",
    "            human_count = np.sum(human_mask)\n",
    "            if not is_human_contain or human_count < 30:#30:651\n",
    "                continue\n",
    "            \n",
    "            cls = np.where(human_mask, 1.0, 0.0)\n",
    "            #cls = np.where(vehicle_mask, 3.0, cls)        \n",
    "        \n",
    "        img = Image.open(file_name_image)\n",
    "        img_arr = np.array(img)\n",
    "        img_h, img_w, img_c = img_arr.shape\n",
    "        cbbox_norm = np.stack((x0/img_w, y0/img_h, x1/img_w, y1/img_h, cls), axis=1)\n",
    "        \n",
    "        if pedestrian_only:\n",
    "            cbbox_norm = cbbox_norm[human_mask]\n",
    "            \n",
    "            box_height = cbbox_norm[:, 3] - cbbox_norm[:, 1]\n",
    "            box_height_max = np.max(box_height)\n",
    "            if box_height_max < 0.05 or box_height_max > 0.2:\n",
    "                continue\n",
    "                \n",
    "        list_image_arr.append(img_arr)\n",
    "        list_cbbox.append(cbbox_norm)\n",
    "        if len(list_image_arr)>1000:\n",
    "            break\n",
    "        if i%100==0:\n",
    "            print(len(list_annotation), i, file_name_annotation, len(list_image_arr))\n",
    "    return list_image_arr, list_cbbox"
   ]
  },
  {
   "cell_type": "code",
   "execution_count": 5,
   "metadata": {},
   "outputs": [
    {
     "name": "stdout",
     "output_type": "stream",
     "text": [
      "6471 1200 0000050_00500_d_0000104 100\n",
      "6471 1500 9999937_00000_d_0000179 125\n",
      "6471 2200 0000351_02941_d_0000534 181\n",
      "6471 3000 0000036_00500_d_0000046 242\n",
      "6471 3300 0000288_03601_d_0000802 274\n",
      "6471 3800 0000358_02353_d_0000692 313\n",
      "6471 4800 0000309_04201_d_0000354 418\n",
      "6471 5700 0000205_01665_d_0000200 505\n",
      "553\n"
     ]
    }
   ],
   "source": [
    "list_visdrone_image_arr, list_visdrone_cbbox = load_visdrone_data(path_visDrone)\n",
    "print(len(list_visdrone_image_arr))"
   ]
  },
  {
   "cell_type": "code",
   "execution_count": 6,
   "metadata": {},
   "outputs": [
    {
     "data": {
      "text/plain": [
       "(array([2102., 2609., 3207., 3943., 5123., 5135., 3879., 2873., 2029.,\n",
       "        1504.]),\n",
       " array([0.        , 0.09971429, 0.19942857, 0.29914286, 0.39885714,\n",
       "        0.49857143, 0.59828571, 0.698     , 0.79771429, 0.89742857,\n",
       "        0.99714286]),\n",
       " <a list of 10 Patch objects>)"
      ]
     },
     "execution_count": 6,
     "metadata": {},
     "output_type": "execute_result"
    },
    {
     "data": {
      "image/png": "[encoded data removed]",
      "text/plain": [
       "<Figure size 432x288 with 1 Axes>"
      ]
     },
     "metadata": {
      "needs_background": "light"
     },
     "output_type": "display_data"
    }
   ],
   "source": [
    "visdrone_cbbox = np.concatenate(list_visdrone_cbbox, 0)\n",
    "visdrone_cbbox.shape\n",
    "plt.hist(visdrone_cbbox[:, 0])"
   ]
  },
  {
   "cell_type": "code",
   "execution_count": 7,
   "metadata": {},
   "outputs": [
    {
     "name": "stdout",
     "output_type": "stream",
     "text": [
      "extend 553 553 553\n"
     ]
    }
   ],
   "source": [
    "input_list_all = list_visdrone_image_arr\n",
    "bbox_list_all = list_visdrone_cbbox\n",
    "print('extend', len(list_visdrone_image_arr), len(input_list_all), len(bbox_list_all))"
   ]
  },
  {
   "cell_type": "code",
   "execution_count": 8,
   "metadata": {},
   "outputs": [],
   "source": [
    "colors = np.random.rand(len(visdrone_categories), 3)\n",
    "def visualize_detections_simple(\n",
    "    image, boxes, classes, figsize=(12, 12),\n",
    "):\n",
    "    \"\"\"Visualize Detections\"\"\"\n",
    "    image = np.array(image, dtype=np.uint8)\n",
    "    img_h, img_w, img_c = image.shape\n",
    "    plt.figure(figsize=figsize)\n",
    "    plt.axis(\"off\")\n",
    "    plt.imshow(image)\n",
    "    ax = plt.gca()\n",
    "    boxes_width = boxes[:, 2] - boxes[:, 0]\n",
    "    box_min_width = np.min(boxes_width)\n",
    "    box_mean_width = np.mean(boxes_width)\n",
    "    box_max_width = np.max(boxes_width)\n",
    "    title = str.format('(%dx%d) %d box, height:min:%d mean:%d max:%d' \n",
    "                       %(img_h, img_w, len(boxes), box_min_width, box_mean_width, box_max_width))\n",
    "    plt.title(title)\n",
    "    \n",
    "    for box, cls in zip(boxes, classes):\n",
    "        x1, y1, x2, y2 = box        \n",
    "        w, h = x2 - x1, y2 - y1\n",
    "        cls = int(cls)\n",
    "        color = colors[cls]\n",
    "        patch = plt.Rectangle(\n",
    "            [x1, y1], w, h, fill=False, edgecolor=color, linewidth=1\n",
    "        )\n",
    "        ax.add_patch(patch)\n",
    "        ax.text(\n",
    "            x1, y1, str(cls), bbox={\"facecolor\": color, \"alpha\": 0.4}, clip_box=ax.clipbox, clip_on=True,\n",
    "        )\n",
    "    plt.show()\n",
    "    return ax"
   ]
  },
  {
   "cell_type": "code",
   "execution_count": 11,
   "metadata": {},
   "outputs": [],
   "source": [
    "def display_data(X, BBOX, stride=1):\n",
    "    for i in range(len(X)):\n",
    "        if i%stride==0:\n",
    "            img_arr = input_list_all[i]\n",
    "            sample_box = bbox_list_all[i]\n",
    "            label = sample_box[:, 4]\n",
    "            bbox = sample_box[:, :4]\n",
    "\n",
    "            h, w, c = img_arr.shape\n",
    "            scale = np.array((w, h, w, h), dtype=np.float)\n",
    "            scale = np.reshape(scale, (1, 4))\n",
    "            bbox_norm = bbox.astype(np.float) * scale\n",
    "            #print('bbox_norm', bbox, bbox_norm)\n",
    "            ax = visualize_detections_simple(img_arr,bbox_norm,label)"
   ]
  },
  {
   "cell_type": "code",
   "execution_count": null,
   "metadata": {},
   "outputs": [],
   "source": [
    "display_data(input_list_all, bbox_list_all, 1)"
   ]
  },
  {
   "cell_type": "code",
   "execution_count": null,
   "metadata": {},
   "outputs": [],
   "source": []
  }
 ],
 "metadata": {
  "kernelspec": {
   "display_name": "Python 3",
   "language": "python",
   "name": "python3"
  },
  "language_info": {
   "codemirror_mode": {
    "name": "ipython",
    "version": 3
   },
   "file_extension": ".py",
   "mimetype": "text/x-python",
   "name": "python",
   "nbconvert_exporter": "python",
   "pygments_lexer": "ipython3",
   "version": "3.8.3"
  }
 },
 "nbformat": 4,
 "nbformat_minor": 4
}
