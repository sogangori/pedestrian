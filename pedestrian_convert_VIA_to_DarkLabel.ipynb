{
 "cells": [
  {
   "cell_type": "code",
   "execution_count": 4,
   "metadata": {},
   "outputs": [],
   "source": [
    "import os\n",
    "import re\n",
    "import zipfile\n",
    "import pandas as pd\n",
    "import numpy as np\n",
    "import matplotlib.pyplot as plt\n",
    "\n",
    "from PIL import Image\n",
    "import ast\n",
    "import json\n",
    "from glob import glob"
   ]
  },
  {
   "cell_type": "code",
   "execution_count": 9,
   "metadata": {},
   "outputs": [
    {
     "data": {
      "text/plain": [
       "True"
      ]
     },
     "execution_count": 9,
     "metadata": {},
     "output_type": "execute_result"
    }
   ],
   "source": [
    "class_names_kor = ['bg','person', 'bike', 'lean']\n",
    "class_names = ['bg','person', 'bike', 'lean']\n",
    "\n",
    "folder_Tongyoung = '/home/mvlab/Downloads/dataset/통영/'\n",
    "os.path.isdir(folder_pig)"
   ]
  },
  {
   "cell_type": "code",
   "execution_count": 28,
   "metadata": {},
   "outputs": [
    {
     "data": {
      "text/plain": [
       "True"
      ]
     },
     "execution_count": 28,
     "metadata": {},
     "output_type": "execute_result"
    }
   ],
   "source": [
    "folder_Tongyoung_target = folder_Tongyoung + '서영재/'\n",
    "os.path.isdir(folder_Tongyoung_target)"
   ]
  },
  {
   "cell_type": "code",
   "execution_count": 29,
   "metadata": {},
   "outputs": [],
   "source": [
    "def add_folder_to_file_name(folder_pig, path_csv):\n",
    "    path_csv = folder_pig + path_csv\n",
    "    path_weight = \"retinanet/pig_efficient_det_BiFPN_D3\"\n",
    "    print(os.path.isdir(folder_pig), os.path.isfile(path_csv))\n",
    "    if os.path.isfile(path_csv):\n",
    "        \n",
    "        df = pd.read_csv(path_csv)\n",
    "        df['filename'] = folder_pig + df['filename']\n",
    "        print('df', df.shape, df['filename'].nunique(), df['region_attributes'].nunique()  )\n",
    "        print(df['region_attributes'].unique())\n",
    "        return df\n",
    "    else:\n",
    "        return None"
   ]
  },
  {
   "cell_type": "code",
   "execution_count": 30,
   "metadata": {},
   "outputs": [],
   "source": [
    "def read_df(folder_pig, path_csv):\n",
    "    path_csv = folder_pig + path_csv\n",
    "    if path_csv.endswith('xlsx'):\n",
    "        df = pd.read_excel(path_csv)\n",
    "    else:\n",
    "        df = pd.read_csv(path_csv)\n",
    "    \n",
    "    print(df.shape)\n",
    "    return df"
   ]
  },
  {
   "cell_type": "code",
   "execution_count": 31,
   "metadata": {},
   "outputs": [
    {
     "name": "stdout",
     "output_type": "stream",
     "text": [
      "(482, 7)\n"
     ]
    }
   ],
   "source": [
    "df = read_df(folder_Tongyoung_target, 'via_project_27Jan2021_15h16m_csv.csv.xlsx')#21940, 24408"
   ]
  },
  {
   "cell_type": "code",
   "execution_count": 32,
   "metadata": {},
   "outputs": [
    {
     "data": {
      "text/plain": [
       "(482, 7)"
      ]
     },
     "execution_count": 32,
     "metadata": {},
     "output_type": "execute_result"
    }
   ],
   "source": [
    "#df = df6\n",
    "#df = pd.concat((df1, df2, df3, df4, df5, df6), axis=0)\n",
    "df.shape"
   ]
  },
  {
   "cell_type": "code",
   "execution_count": 33,
   "metadata": {},
   "outputs": [
    {
     "data": {
      "text/plain": [
       "'/home/mvlab/Downloads/dataset/통영/서영재/'"
      ]
     },
     "execution_count": 33,
     "metadata": {},
     "output_type": "execute_result"
    }
   ],
   "source": [
    "folder_Tongyoung_target"
   ]
  },
  {
   "cell_type": "code",
   "execution_count": 34,
   "metadata": {},
   "outputs": [
    {
     "data": {
      "text/plain": [
       "(481, '/home/mvlab/Downloads/dataset/통영/서영재/16620.jpg')"
      ]
     },
     "execution_count": 34,
     "metadata": {},
     "output_type": "execute_result"
    }
   ],
   "source": [
    "#path_images = glob(folder_pig + 'pig1-2020-11/*/*/*.jpg')\n",
    "path_images = glob(folder_Tongyoung_target + '*.jpg')\n",
    "len(path_images), path_images[0]"
   ]
  },
  {
   "cell_type": "code",
   "execution_count": 35,
   "metadata": {},
   "outputs": [
    {
     "data": {
      "text/plain": [
       "481"
      ]
     },
     "execution_count": 35,
     "metadata": {},
     "output_type": "execute_result"
    }
   ],
   "source": [
    "dict_full_path = dict()\n",
    "for full_path in path_images:\n",
    "    cut_path = full_path.split(os.sep)[-1]\n",
    "    dict_full_path[cut_path] = full_path\n",
    "    #print(cut_path)\n",
    "len(dict_full_path)"
   ]
  },
  {
   "cell_type": "code",
   "execution_count": 36,
   "metadata": {
    "scrolled": false
   },
   "outputs": [
    {
     "data": {
      "text/plain": [
       "array(['{}', '{\"class\":\"lean\"}'], dtype=object)"
      ]
     },
     "execution_count": 36,
     "metadata": {},
     "output_type": "execute_result"
    }
   ],
   "source": [
    "df['region_attributes'].unique()"
   ]
  },
  {
   "cell_type": "code",
   "execution_count": 47,
   "metadata": {},
   "outputs": [
    {
     "data": {
      "text/plain": [
       "array([0, 1])"
      ]
     },
     "execution_count": 47,
     "metadata": {},
     "output_type": "execute_result"
    }
   ],
   "source": [
    "df['region_id'].unique()"
   ]
  },
  {
   "cell_type": "code",
   "execution_count": 70,
   "metadata": {
    "scrolled": true
   },
   "outputs": [
    {
     "data": {
      "text/html": [
       "<div>\n",
       "<style scoped>\n",
       "    .dataframe tbody tr th:only-of-type {\n",
       "        vertical-align: middle;\n",
       "    }\n",
       "\n",
       "    .dataframe tbody tr th {\n",
       "        vertical-align: top;\n",
       "    }\n",
       "\n",
       "    .dataframe thead th {\n",
       "        text-align: right;\n",
       "    }\n",
       "</style>\n",
       "<table border=\"1\" class=\"dataframe\">\n",
       "  <thead>\n",
       "    <tr style=\"text-align: right;\">\n",
       "      <th></th>\n",
       "      <th>filename</th>\n",
       "      <th>file_size</th>\n",
       "      <th>file_attributes</th>\n",
       "      <th>region_count</th>\n",
       "      <th>region_id</th>\n",
       "      <th>region_shape_attributes</th>\n",
       "      <th>region_attributes</th>\n",
       "    </tr>\n",
       "  </thead>\n",
       "  <tbody>\n",
       "    <tr>\n",
       "      <th>0</th>\n",
       "      <td>00000.jpg</td>\n",
       "      <td>715145</td>\n",
       "      <td>{}</td>\n",
       "      <td>0</td>\n",
       "      <td>0</td>\n",
       "      <td>{}</td>\n",
       "      <td>{}</td>\n",
       "    </tr>\n",
       "    <tr>\n",
       "      <th>1</th>\n",
       "      <td>00060.jpg</td>\n",
       "      <td>713640</td>\n",
       "      <td>{}</td>\n",
       "      <td>0</td>\n",
       "      <td>0</td>\n",
       "      <td>{}</td>\n",
       "      <td>{}</td>\n",
       "    </tr>\n",
       "    <tr>\n",
       "      <th>2</th>\n",
       "      <td>00120.jpg</td>\n",
       "      <td>685648</td>\n",
       "      <td>{}</td>\n",
       "      <td>0</td>\n",
       "      <td>0</td>\n",
       "      <td>{}</td>\n",
       "      <td>{}</td>\n",
       "    </tr>\n",
       "    <tr>\n",
       "      <th>3</th>\n",
       "      <td>00180.jpg</td>\n",
       "      <td>698387</td>\n",
       "      <td>{}</td>\n",
       "      <td>0</td>\n",
       "      <td>0</td>\n",
       "      <td>{}</td>\n",
       "      <td>{}</td>\n",
       "    </tr>\n",
       "    <tr>\n",
       "      <th>4</th>\n",
       "      <td>00240.jpg</td>\n",
       "      <td>707386</td>\n",
       "      <td>{}</td>\n",
       "      <td>0</td>\n",
       "      <td>0</td>\n",
       "      <td>{}</td>\n",
       "      <td>{}</td>\n",
       "    </tr>\n",
       "    <tr>\n",
       "      <th>...</th>\n",
       "      <td>...</td>\n",
       "      <td>...</td>\n",
       "      <td>...</td>\n",
       "      <td>...</td>\n",
       "      <td>...</td>\n",
       "      <td>...</td>\n",
       "      <td>...</td>\n",
       "    </tr>\n",
       "    <tr>\n",
       "      <th>477</th>\n",
       "      <td>28560.jpg</td>\n",
       "      <td>706714</td>\n",
       "      <td>{}</td>\n",
       "      <td>0</td>\n",
       "      <td>0</td>\n",
       "      <td>{}</td>\n",
       "      <td>{}</td>\n",
       "    </tr>\n",
       "    <tr>\n",
       "      <th>478</th>\n",
       "      <td>28620.jpg</td>\n",
       "      <td>688179</td>\n",
       "      <td>{}</td>\n",
       "      <td>0</td>\n",
       "      <td>0</td>\n",
       "      <td>{}</td>\n",
       "      <td>{}</td>\n",
       "    </tr>\n",
       "    <tr>\n",
       "      <th>479</th>\n",
       "      <td>28680.jpg</td>\n",
       "      <td>687241</td>\n",
       "      <td>{}</td>\n",
       "      <td>0</td>\n",
       "      <td>0</td>\n",
       "      <td>{}</td>\n",
       "      <td>{}</td>\n",
       "    </tr>\n",
       "    <tr>\n",
       "      <th>480</th>\n",
       "      <td>28740.jpg</td>\n",
       "      <td>688895</td>\n",
       "      <td>{}</td>\n",
       "      <td>0</td>\n",
       "      <td>0</td>\n",
       "      <td>{}</td>\n",
       "      <td>{}</td>\n",
       "    </tr>\n",
       "    <tr>\n",
       "      <th>481</th>\n",
       "      <td>28800.jpg</td>\n",
       "      <td>707594</td>\n",
       "      <td>{}</td>\n",
       "      <td>0</td>\n",
       "      <td>0</td>\n",
       "      <td>{}</td>\n",
       "      <td>{}</td>\n",
       "    </tr>\n",
       "  </tbody>\n",
       "</table>\n",
       "<p>482 rows × 7 columns</p>\n",
       "</div>"
      ],
      "text/plain": [
       "      filename  file_size file_attributes  region_count  region_id  \\\n",
       "0    00000.jpg     715145              {}             0          0   \n",
       "1    00060.jpg     713640              {}             0          0   \n",
       "2    00120.jpg     685648              {}             0          0   \n",
       "3    00180.jpg     698387              {}             0          0   \n",
       "4    00240.jpg     707386              {}             0          0   \n",
       "..         ...        ...             ...           ...        ...   \n",
       "477  28560.jpg     706714              {}             0          0   \n",
       "478  28620.jpg     688179              {}             0          0   \n",
       "479  28680.jpg     687241              {}             0          0   \n",
       "480  28740.jpg     688895              {}             0          0   \n",
       "481  28800.jpg     707594              {}             0          0   \n",
       "\n",
       "    region_shape_attributes region_attributes  \n",
       "0                        {}                {}  \n",
       "1                        {}                {}  \n",
       "2                        {}                {}  \n",
       "3                        {}                {}  \n",
       "4                        {}                {}  \n",
       "..                      ...               ...  \n",
       "477                      {}                {}  \n",
       "478                      {}                {}  \n",
       "479                      {}                {}  \n",
       "480                      {}                {}  \n",
       "481                      {}                {}  \n",
       "\n",
       "[482 rows x 7 columns]"
      ]
     },
     "execution_count": 70,
     "metadata": {},
     "output_type": "execute_result"
    }
   ],
   "source": [
    "df"
   ]
  },
  {
   "cell_type": "code",
   "execution_count": 84,
   "metadata": {},
   "outputs": [],
   "source": [
    "def convert_VIA_to_DarkLabel(df):\n",
    "    df_clone = df.copy()\n",
    "    df_clone['cls'] = 0\n",
    "    df_clone['id'] = -1\n",
    "    df_clone['x'] = 0\n",
    "    df_clone['y'] = 0\n",
    "    df_clone['w'] = 0\n",
    "    df_clone['h'] = 0\n",
    "    for i in range(len(df)):\n",
    "    \n",
    "        sample_row = df.iloc[i]\n",
    "        filename = sample_row['filename']    \n",
    "        region_id = sample_row['region_id']\n",
    "        \n",
    "        region_count = sample_row['region_count']\n",
    "        box = sample_row['region_shape_attributes']    \n",
    "        region_attributes = sample_row['region_attributes'] \n",
    "        \n",
    "        if '(' in filename:\n",
    "            print('()', filename)\n",
    "            \n",
    "        if int(region_count) > 0:\n",
    "            \n",
    "            try:\n",
    "                box_map = ast.literal_eval(box)    \n",
    "                region_attributes = ast.literal_eval(region_attributes)        \n",
    "                cls = region_attributes['class']\n",
    "                \n",
    "                x0 = box_map['x']\n",
    "                y0 = box_map['y']\n",
    "                width = box_map['width']\n",
    "                height = box_map['height']  \n",
    "                \n",
    "                #cls_name = class_names[int(cls)]\n",
    "                #print(i)\n",
    "                df_clone.loc[i,'cls'] = cls#_name\n",
    "                #df_clone.iloc[i]['id'] = -1\n",
    "                df_clone.loc[i,'x'] = x0\n",
    "                df_clone.loc[i,'y'] = y0\n",
    "                df_clone.loc[i,'w'] = width\n",
    "                df_clone.loc[i,'h'] = height\n",
    "\n",
    "            except:\n",
    "                print('except filename',i, filename)\n",
    "                print('box', box)\n",
    "                print('region_attributes', region_attributes)\n",
    "                continue\n",
    "\n",
    "            if len(box_map.keys())<1 or len(region_attributes.keys())<1 :\n",
    "                #print(i, 'no_keys_skip', filename.split(os.sep)[-1])\n",
    "                continue\n",
    "    \n",
    "    df_out = df_clone[['filename', 'cls', 'id', 'x', 'y', 'w', 'h']]\n",
    "    df_out = df_out[df_out['w']>0]\n",
    "    return df_out"
   ]
  },
  {
   "cell_type": "code",
   "execution_count": 85,
   "metadata": {
    "scrolled": true
   },
   "outputs": [
    {
     "data": {
      "text/html": [
       "<div>\n",
       "<style scoped>\n",
       "    .dataframe tbody tr th:only-of-type {\n",
       "        vertical-align: middle;\n",
       "    }\n",
       "\n",
       "    .dataframe tbody tr th {\n",
       "        vertical-align: top;\n",
       "    }\n",
       "\n",
       "    .dataframe thead th {\n",
       "        text-align: right;\n",
       "    }\n",
       "</style>\n",
       "<table border=\"1\" class=\"dataframe\">\n",
       "  <thead>\n",
       "    <tr style=\"text-align: right;\">\n",
       "      <th></th>\n",
       "      <th>filename</th>\n",
       "      <th>cls</th>\n",
       "      <th>id</th>\n",
       "      <th>x</th>\n",
       "      <th>y</th>\n",
       "      <th>w</th>\n",
       "      <th>h</th>\n",
       "    </tr>\n",
       "  </thead>\n",
       "  <tbody>\n",
       "    <tr>\n",
       "      <th>42</th>\n",
       "      <td>02520.jpg</td>\n",
       "      <td>lean</td>\n",
       "      <td>-1</td>\n",
       "      <td>899</td>\n",
       "      <td>567</td>\n",
       "      <td>31</td>\n",
       "      <td>110</td>\n",
       "    </tr>\n",
       "    <tr>\n",
       "      <th>43</th>\n",
       "      <td>02580.jpg</td>\n",
       "      <td>lean</td>\n",
       "      <td>-1</td>\n",
       "      <td>894</td>\n",
       "      <td>566</td>\n",
       "      <td>38</td>\n",
       "      <td>106</td>\n",
       "    </tr>\n",
       "    <tr>\n",
       "      <th>44</th>\n",
       "      <td>02640.jpg</td>\n",
       "      <td>lean</td>\n",
       "      <td>-1</td>\n",
       "      <td>894</td>\n",
       "      <td>566</td>\n",
       "      <td>38</td>\n",
       "      <td>106</td>\n",
       "    </tr>\n",
       "    <tr>\n",
       "      <th>45</th>\n",
       "      <td>02700.jpg</td>\n",
       "      <td>lean</td>\n",
       "      <td>-1</td>\n",
       "      <td>894</td>\n",
       "      <td>566</td>\n",
       "      <td>38</td>\n",
       "      <td>106</td>\n",
       "    </tr>\n",
       "    <tr>\n",
       "      <th>46</th>\n",
       "      <td>02760.jpg</td>\n",
       "      <td>lean</td>\n",
       "      <td>-1</td>\n",
       "      <td>894</td>\n",
       "      <td>566</td>\n",
       "      <td>38</td>\n",
       "      <td>106</td>\n",
       "    </tr>\n",
       "    <tr>\n",
       "      <th>...</th>\n",
       "      <td>...</td>\n",
       "      <td>...</td>\n",
       "      <td>...</td>\n",
       "      <td>...</td>\n",
       "      <td>...</td>\n",
       "      <td>...</td>\n",
       "      <td>...</td>\n",
       "    </tr>\n",
       "    <tr>\n",
       "      <th>464</th>\n",
       "      <td>27780.jpg</td>\n",
       "      <td>lean</td>\n",
       "      <td>-1</td>\n",
       "      <td>896</td>\n",
       "      <td>526</td>\n",
       "      <td>30</td>\n",
       "      <td>62</td>\n",
       "    </tr>\n",
       "    <tr>\n",
       "      <th>465</th>\n",
       "      <td>27840.jpg</td>\n",
       "      <td>lean</td>\n",
       "      <td>-1</td>\n",
       "      <td>896</td>\n",
       "      <td>526</td>\n",
       "      <td>30</td>\n",
       "      <td>62</td>\n",
       "    </tr>\n",
       "    <tr>\n",
       "      <th>466</th>\n",
       "      <td>27900.jpg</td>\n",
       "      <td>lean</td>\n",
       "      <td>-1</td>\n",
       "      <td>896</td>\n",
       "      <td>526</td>\n",
       "      <td>30</td>\n",
       "      <td>62</td>\n",
       "    </tr>\n",
       "    <tr>\n",
       "      <th>467</th>\n",
       "      <td>27960.jpg</td>\n",
       "      <td>lean</td>\n",
       "      <td>-1</td>\n",
       "      <td>896</td>\n",
       "      <td>526</td>\n",
       "      <td>30</td>\n",
       "      <td>62</td>\n",
       "    </tr>\n",
       "    <tr>\n",
       "      <th>468</th>\n",
       "      <td>28020.jpg</td>\n",
       "      <td>lean</td>\n",
       "      <td>-1</td>\n",
       "      <td>896</td>\n",
       "      <td>526</td>\n",
       "      <td>30</td>\n",
       "      <td>62</td>\n",
       "    </tr>\n",
       "  </tbody>\n",
       "</table>\n",
       "<p>317 rows × 7 columns</p>\n",
       "</div>"
      ],
      "text/plain": [
       "      filename   cls  id    x    y   w    h\n",
       "42   02520.jpg  lean  -1  899  567  31  110\n",
       "43   02580.jpg  lean  -1  894  566  38  106\n",
       "44   02640.jpg  lean  -1  894  566  38  106\n",
       "45   02700.jpg  lean  -1  894  566  38  106\n",
       "46   02760.jpg  lean  -1  894  566  38  106\n",
       "..         ...   ...  ..  ...  ...  ..  ...\n",
       "464  27780.jpg  lean  -1  896  526  30   62\n",
       "465  27840.jpg  lean  -1  896  526  30   62\n",
       "466  27900.jpg  lean  -1  896  526  30   62\n",
       "467  27960.jpg  lean  -1  896  526  30   62\n",
       "468  28020.jpg  lean  -1  896  526  30   62\n",
       "\n",
       "[317 rows x 7 columns]"
      ]
     },
     "execution_count": 85,
     "metadata": {},
     "output_type": "execute_result"
    }
   ],
   "source": [
    "df_darklabel =  convert_VIA_to_DarkLabel(df)\n",
    "df_darklabel#.columns"
   ]
  },
  {
   "cell_type": "code",
   "execution_count": 86,
   "metadata": {},
   "outputs": [],
   "source": [
    "df_darklabel.to_csv('image_label.txt', header=None, index=None)"
   ]
  },
  {
   "cell_type": "code",
   "execution_count": null,
   "metadata": {},
   "outputs": [],
   "source": []
  },
  {
   "cell_type": "code",
   "execution_count": 39,
   "metadata": {
    "scrolled": false
   },
   "outputs": [],
   "source": [
    "annotation = dict()\n",
    "object_width_list = []\n",
    "for i in range(len(df)):\n",
    "    \n",
    "    sample_row = df.iloc[i]\n",
    "    filename = sample_row['filename']    \n",
    "    region_id = sample_row['region_id']\n",
    "    box = sample_row['region_shape_attributes']    \n",
    "    region_attributes = sample_row['region_attributes'] \n",
    "    if '(' in filename:\n",
    "        print('()', filename)\n",
    "    try:\n",
    "        box_map = ast.literal_eval(box)    \n",
    "        region_attributes = ast.literal_eval(region_attributes)        \n",
    "    except:\n",
    "        print('except filename',i, filename)\n",
    "        print('box', box)\n",
    "        print('region_attributes', region_attributes)\n",
    "        continue\n",
    "    \n",
    "    if len(box_map.keys())<1 or len(region_attributes.keys())<1 :\n",
    "        #print(i, 'no_keys_skip', filename.split(os.sep)[-1])\n",
    "        continue\n",
    "        \n",
    "    cls = region_attributes['class']\n",
    "    if cls in class_names_kor:\n",
    "        cls_num = class_names_kor.index(cls)\n",
    "    elif cls in class_names:\n",
    "        cls_num = class_names.index(cls)\n",
    "    else:\n",
    "        print('cls unknown', cls)\n",
    "        print('filename', filename)\n",
    "        continue\n",
    "        #xit()\n",
    "        \n",
    "    x0 = box_map['x']\n",
    "    y0 = box_map['y']\n",
    "    width = box_map['width']\n",
    "    height = box_map['height']    \n",
    "   \n",
    "    object_width_list.append(width)    \n",
    "    bbox = [cls_num, x0, y0, x0 + width, y0 + height]\n",
    "    \n",
    "    filename = dict_full_path[filename]\n",
    "    if filename not in annotation.keys():\n",
    "        annotation[filename] = []\n",
    "    \n",
    "    annotation[filename].append(bbox)            \n",
    "    #print(i, df.loc[i, 'filename'], width, height)"
   ]
  },
  {
   "cell_type": "code",
   "execution_count": 40,
   "metadata": {},
   "outputs": [
    {
     "data": {
      "text/plain": [
       "316"
      ]
     },
     "execution_count": 40,
     "metadata": {},
     "output_type": "execute_result"
    }
   ],
   "source": [
    "len(annotation)"
   ]
  },
  {
   "cell_type": "code",
   "execution_count": 41,
   "metadata": {},
   "outputs": [
    {
     "name": "stdout",
     "output_type": "stream",
     "text": [
      "316 100 100\n",
      "316 200 200\n",
      "316 300 300\n",
      "316 316\n"
     ]
    }
   ],
   "source": [
    "def load_pig():\n",
    "    input_list = []\n",
    "    bbox_list = []\n",
    "    path_list = []\n",
    "    for path_image in annotation:\n",
    "        cls_bbox = annotation[path_image]\n",
    "        cls_bbox = np.array(cls_bbox).reshape([-1, 5])\n",
    "        cls = cls_bbox[:, 0:1]\n",
    "        bbox = np.array(cls_bbox[:, 1:])\n",
    "        \n",
    "        #print('path_image', path_image)\n",
    "        if True:\n",
    "            for full_path in path_images:\n",
    "                if path_image in full_path:\n",
    "                    path_image = full_path\n",
    "\n",
    "        if os.path.isfile(path_image):\n",
    "            img = Image.open(path_image)    \n",
    "            #img = img.resize((1000,500))\n",
    "           \n",
    "            scale = np.array((img.width, img.height, img.width, img.height))\n",
    "            scale = np.reshape(scale, (1, 4))       \n",
    "            #print(key, cls, cls_bbox.dtype, cls_bbox, 'wh',img.width, img.height)\n",
    "            img_arr = np.array(img)        \n",
    "            del img\n",
    "            bbox_norm = bbox.astype(np.float) / scale.astype(np.float)\n",
    "            cls = np.array(cls).reshape((-1, 1))\n",
    "            cls_bbox_norm = np.concatenate((cls, bbox_norm), axis=1)\n",
    "                \n",
    "            input_list.append(img_arr)\n",
    "            bbox_list.append(cls_bbox_norm)\n",
    "            path_list.append(full_path)\n",
    "            if len(input_list)%100==0:        \n",
    "                print(len(annotation), len(input_list), len(bbox_list))   \n",
    "        else:\n",
    "            print('not exist', path_image)\n",
    "\n",
    "    print(len(input_list), len(bbox_list))\n",
    "    return input_list, bbox_list\n",
    "    \n",
    "input_list_pig, bbox_list_pig = load_pig()#1709, 1759"
   ]
  },
  {
   "cell_type": "code",
   "execution_count": 42,
   "metadata": {},
   "outputs": [
    {
     "data": {
      "text/plain": [
       "((317, 5), 0)"
      ]
     },
     "execution_count": 42,
     "metadata": {},
     "output_type": "execute_result"
    }
   ],
   "source": [
    "boxes = np.concatenate(bbox_list_pig, 0)\n",
    "boxes.shape, np.sum(boxes[:, 0]>3)"
   ]
  },
  {
   "cell_type": "code",
   "execution_count": 43,
   "metadata": {},
   "outputs": [
    {
     "data": {
      "text/plain": [
       "316"
      ]
     },
     "execution_count": 43,
     "metadata": {},
     "output_type": "execute_result"
    }
   ],
   "source": [
    "len(input_list_pig)"
   ]
  },
  {
   "cell_type": "code",
   "execution_count": 44,
   "metadata": {},
   "outputs": [],
   "source": [
    "def crop_bbox_image(image, boxes):\n",
    "    img_objects = []\n",
    "    image = np.array(image)\n",
    "    for box in boxes:        \n",
    "        box = box.astype(np.int)\n",
    "        x1, y1, x2, y2 = box\n",
    "        w = x2 - x1\n",
    "        h = y2 - y1        \n",
    "        crop_image_arr = image[y1:y2, x1:x2]\n",
    "        ch, cw, cc = crop_image_arr.shape\n",
    "        if ch>1 and cw>1:\n",
    "            img_objects.append(crop_image_arr)\n",
    "        else:\n",
    "            print('crop_bbox_image', x2-x1, y2-y1, 'crop_image_arr.shape', crop_image_arr.shape)\n",
    "        \n",
    "    return img_objects\n",
    "    \n",
    "    \n",
    "def attach_crop_image(image, boxes, max_crop=200):\n",
    "        \n",
    "    crop_bbox_arr = crop_bbox_image(image, np.array(boxes)[:max_crop])\n",
    "    bbox_k = len(crop_bbox_arr)\n",
    "    max_col = 30\n",
    "    \n",
    "    if bbox_k > 0:\n",
    "        img_h, img_w, img_c = image.shape\n",
    "        object_img_w = img_w//bbox_k        \n",
    "        resize_h = img_h // 8\n",
    "        resize_w = img_w // bbox_k  \n",
    "        resize_w = min(max(resize_w, img_w//max_col), img_w//8)\n",
    "        \n",
    "        footer_h = resize_h * (1 + (bbox_k-1)//max_col)\n",
    "        footer = np.zeros((footer_h, img_w, img_c), np.uint8)\n",
    "        \n",
    "        for i in range(min(bbox_k, max_crop)):\n",
    "            crop_arr = crop_bbox_arr[i]\n",
    "            crop_img = Image.fromarray(crop_arr)                \n",
    "            crop_img = crop_img.resize((resize_w, resize_h))\n",
    "            crop_arr_resized = np.array(crop_img)\n",
    "            offset_y = (i//max_col) * resize_h\n",
    "            offset_x = (i%max_col) * resize_w\n",
    "            footer[offset_y:offset_y+resize_h, offset_x:offset_x+resize_w] = crop_arr_resized\n",
    "\n",
    "        seperate_line = np.zeros_like(footer[:2])\n",
    "        image = np.concatenate((image, seperate_line, footer), axis=0)    \n",
    "    return image    "
   ]
  },
  {
   "cell_type": "code",
   "execution_count": 45,
   "metadata": {},
   "outputs": [],
   "source": [
    "def visualize_detections_simple(\n",
    "    image, boxes, classes, figsize=(12, 12), linewidth=1, color=[0, 0, 1]\n",
    "):\n",
    "    \"\"\"Visualize Detections\"\"\"\n",
    "    image = np.array(image, dtype=np.uint8)    \n",
    "    \n",
    "    img_h, img_w, img_c = image.shape\n",
    "    \n",
    "    image = attach_crop_image(image, boxes, max_crop=100)\n",
    "    \n",
    "    plt.figure(figsize=figsize)\n",
    "    plt.axis(\"off\")\n",
    "    plt.imshow(image)\n",
    "    ax = plt.gca()\n",
    "    boxes_width = boxes[:, 2] - boxes[:, 0]\n",
    "    boxes_height = boxes[:, 3] - boxes[:, 1]\n",
    "    box_min_width = np.min(boxes_width)\n",
    "    box_max_width = np.max(boxes_width)\n",
    "    title = str.format('(%dx%d) %d box, width:%d ~ %d' \n",
    "                       %(img_h, img_w, len(boxes), box_min_width, box_max_width))\n",
    "    plt.title(title)\n",
    "    for box, cls in zip(boxes, classes):\n",
    "        x1, y1, x2, y2 = box        \n",
    "        w, h = x2 - x1, y2 - y1\n",
    "        color = [1,1,1]\n",
    "        patch = plt.Rectangle(\n",
    "            [x1, y1], w, h, fill=False, edgecolor=color, linewidth=linewidth\n",
    "        )\n",
    "        ax.add_patch(patch)\n",
    "        if len(boxes) < 70:\n",
    "            score_txt = class_names[int(cls)]\n",
    "            ax.text(x1, y1, score_txt, bbox={\"facecolor\": [1,1,0], \"alpha\": 0.4}, clip_box=ax.clipbox, clip_on=True,)\n",
    "        \n",
    "    plt.show()\n",
    "    return ax\n",
    "\n",
    "def display_data(X, BBOX, stride=1):\n",
    "    for i in range(len(X)):\n",
    "        if i%stride==0:\n",
    "            img_arr = X[i]\n",
    "            sample_box = BBOX[i]\n",
    "            label = sample_box[:, 0]\n",
    "            bbox = sample_box[:, 1:]\n",
    "\n",
    "            h, w, c = img_arr.shape\n",
    "            scale = np.array((w, h, w, h))\n",
    "            scale = np.reshape(scale, (1, 4))\n",
    "            bbox_norm = bbox.astype(np.float) * scale.astype(np.float)\n",
    "            #print('bbox_norm', bbox, bbox_norm)\n",
    "            print(i, np.unique(label))\n",
    "            ax = visualize_detections_simple(img_arr,bbox_norm,label)"
   ]
  },
  {
   "cell_type": "markdown",
   "metadata": {
    "scrolled": false
   },
   "source": [
    "s = len(input_list_pig)*0\n",
    "e = -1\n",
    "display_data(input_list_pig[s:e], bbox_list_pig[s:e], stride=10)"
   ]
  },
  {
   "cell_type": "code",
   "execution_count": null,
   "metadata": {},
   "outputs": [],
   "source": []
  }
 ],
 "metadata": {
  "kernelspec": {
   "display_name": "Python 3",
   "language": "python",
   "name": "python3"
  },
  "language_info": {
   "codemirror_mode": {
    "name": "ipython",
    "version": 3
   },
   "file_extension": ".py",
   "mimetype": "text/x-python",
   "name": "python",
   "nbconvert_exporter": "python",
   "pygments_lexer": "ipython3",
   "version": "3.8.3"
  }
 },
 "nbformat": 4,
 "nbformat_minor": 4
}
